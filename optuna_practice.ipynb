{
 "cells": [
  {
   "cell_type": "code",
   "execution_count": 1,
   "metadata": {},
   "outputs": [
    {
     "data": {
      "text/html": [
       "<div>\n",
       "<style scoped>\n",
       "    .dataframe tbody tr th:only-of-type {\n",
       "        vertical-align: middle;\n",
       "    }\n",
       "\n",
       "    .dataframe tbody tr th {\n",
       "        vertical-align: top;\n",
       "    }\n",
       "\n",
       "    .dataframe thead th {\n",
       "        text-align: right;\n",
       "    }\n",
       "</style>\n",
       "<table border=\"1\" class=\"dataframe\">\n",
       "  <thead>\n",
       "    <tr style=\"text-align: right;\">\n",
       "      <th></th>\n",
       "      <th>Pregnancies</th>\n",
       "      <th>Glucose</th>\n",
       "      <th>BloodPressure</th>\n",
       "      <th>SkinThickness</th>\n",
       "      <th>Insulin</th>\n",
       "      <th>BMI</th>\n",
       "      <th>DiabetesPedigreeFunction</th>\n",
       "      <th>Age</th>\n",
       "      <th>Outcome</th>\n",
       "    </tr>\n",
       "  </thead>\n",
       "  <tbody>\n",
       "    <tr>\n",
       "      <th>0</th>\n",
       "      <td>6</td>\n",
       "      <td>148</td>\n",
       "      <td>72</td>\n",
       "      <td>35</td>\n",
       "      <td>0</td>\n",
       "      <td>33.6</td>\n",
       "      <td>0.627</td>\n",
       "      <td>50</td>\n",
       "      <td>1</td>\n",
       "    </tr>\n",
       "    <tr>\n",
       "      <th>1</th>\n",
       "      <td>1</td>\n",
       "      <td>85</td>\n",
       "      <td>66</td>\n",
       "      <td>29</td>\n",
       "      <td>0</td>\n",
       "      <td>26.6</td>\n",
       "      <td>0.351</td>\n",
       "      <td>31</td>\n",
       "      <td>0</td>\n",
       "    </tr>\n",
       "    <tr>\n",
       "      <th>2</th>\n",
       "      <td>8</td>\n",
       "      <td>183</td>\n",
       "      <td>64</td>\n",
       "      <td>0</td>\n",
       "      <td>0</td>\n",
       "      <td>23.3</td>\n",
       "      <td>0.672</td>\n",
       "      <td>32</td>\n",
       "      <td>1</td>\n",
       "    </tr>\n",
       "    <tr>\n",
       "      <th>3</th>\n",
       "      <td>1</td>\n",
       "      <td>89</td>\n",
       "      <td>66</td>\n",
       "      <td>23</td>\n",
       "      <td>94</td>\n",
       "      <td>28.1</td>\n",
       "      <td>0.167</td>\n",
       "      <td>21</td>\n",
       "      <td>0</td>\n",
       "    </tr>\n",
       "    <tr>\n",
       "      <th>4</th>\n",
       "      <td>0</td>\n",
       "      <td>137</td>\n",
       "      <td>40</td>\n",
       "      <td>35</td>\n",
       "      <td>168</td>\n",
       "      <td>43.1</td>\n",
       "      <td>2.288</td>\n",
       "      <td>33</td>\n",
       "      <td>1</td>\n",
       "    </tr>\n",
       "  </tbody>\n",
       "</table>\n",
       "</div>"
      ],
      "text/plain": [
       "   Pregnancies  Glucose  BloodPressure  SkinThickness  Insulin   BMI  \\\n",
       "0            6      148             72             35        0  33.6   \n",
       "1            1       85             66             29        0  26.6   \n",
       "2            8      183             64              0        0  23.3   \n",
       "3            1       89             66             23       94  28.1   \n",
       "4            0      137             40             35      168  43.1   \n",
       "\n",
       "   DiabetesPedigreeFunction  Age  Outcome  \n",
       "0                     0.627   50        1  \n",
       "1                     0.351   31        0  \n",
       "2                     0.672   32        1  \n",
       "3                     0.167   21        0  \n",
       "4                     2.288   33        1  "
      ]
     },
     "execution_count": 1,
     "metadata": {},
     "output_type": "execute_result"
    }
   ],
   "source": [
    "# Import necessary libraries\n",
    "import optuna\n",
    "from sklearn.datasets import load_diabetes\n",
    "from sklearn.model_selection import train_test_split\n",
    "from sklearn.preprocessing import StandardScaler\n",
    "\n",
    "# Load the Pima Indian Diabetes dataset from sklearn\n",
    "# Note: Scikit-learn's built-in 'load_diabetes' is a regression dataset.\n",
    "# We will load the actual diabetes dataset from an external source\n",
    "import pandas as pd\n",
    "\n",
    "# Load the Pima Indian Diabetes dataset (from UCI repository)\n",
    "url = \"https://raw.githubusercontent.com/jbrownlee/Datasets/master/pima-indians-diabetes.data.csv\"\n",
    "columns = ['Pregnancies', 'Glucose', 'BloodPressure', 'SkinThickness', 'Insulin', 'BMI',\n",
    "           'DiabetesPedigreeFunction', 'Age', 'Outcome']\n",
    "\n",
    "# Load the dataset\n",
    "df = pd.read_csv(url, names=columns)\n",
    "\n",
    "df.head()"
   ]
  },
  {
   "cell_type": "code",
   "execution_count": 2,
   "metadata": {},
   "outputs": [
    {
     "name": "stdout",
     "output_type": "stream",
     "text": [
      "Pregnancies                 0\n",
      "Glucose                     0\n",
      "BloodPressure               0\n",
      "SkinThickness               0\n",
      "Insulin                     0\n",
      "BMI                         0\n",
      "DiabetesPedigreeFunction    0\n",
      "Age                         0\n",
      "Outcome                     0\n",
      "dtype: int64\n"
     ]
    }
   ],
   "source": [
    "import numpy as np\n",
    "\n",
    "# Replace zero values with NaN in columns where zero is not a valid value\n",
    "cols_with_missing_vals = ['Glucose', 'BloodPressure', 'SkinThickness', 'Insulin', 'BMI']\n",
    "df[cols_with_missing_vals] = df[cols_with_missing_vals].replace(0, np.nan)\n",
    "\n",
    "# Impute the missing values with the mean of the respective column\n",
    "df.fillna(df.mean(), inplace=True)\n",
    "\n",
    "# Check if there are any remaining missing values\n",
    "print(df.isnull().sum())\n"
   ]
  },
  {
   "cell_type": "code",
   "execution_count": 3,
   "metadata": {},
   "outputs": [
    {
     "name": "stdout",
     "output_type": "stream",
     "text": [
      "Training set shape: (537, 8)\n",
      "Test set shape: (231, 8)\n"
     ]
    }
   ],
   "source": [
    "# Split into features (X) and target (y)\n",
    "X = df.drop('Outcome', axis=1)\n",
    "y = df['Outcome']\n",
    "\n",
    "# Split data into training and test sets (70% train, 30% test)\n",
    "X_train, X_test, y_train, y_test = train_test_split(X, y, test_size=0.3, random_state=42)\n",
    "\n",
    "# Optional: Scale the data for better model performance\n",
    "scaler = StandardScaler()\n",
    "X_train = scaler.fit_transform(X_train)\n",
    "X_test = scaler.transform(X_test)\n",
    "\n",
    "# Check the shape of the data\n",
    "print(f'Training set shape: {X_train.shape}')\n",
    "print(f'Test set shape: {X_test.shape}')\n"
   ]
  },
  {
   "cell_type": "code",
   "execution_count": 4,
   "metadata": {},
   "outputs": [],
   "source": [
    "from sklearn.ensemble import RandomForestClassifier\n",
    "from sklearn.model_selection import cross_val_score\n",
    "\n",
    "# Define the objective function\n",
    "def objective(trial):\n",
    "    # Suggest values for the hyperparameters\n",
    "    n_estimators = trial.suggest_int('n_estimators', 50, 200)\n",
    "    max_depth = trial.suggest_int('max_depth', 3, 20)\n",
    "\n",
    "    # Create the RandomForestClassifier with suggested hyperparameters\n",
    "    model = RandomForestClassifier(\n",
    "        n_estimators=n_estimators,\n",
    "        max_depth=max_depth,\n",
    "        random_state=42\n",
    "    )\n",
    "\n",
    "    # Perform 3-fold cross-validation and calculate accuracy\n",
    "    score = cross_val_score(model, X_train, y_train, cv=3, scoring='accuracy').mean()\n",
    "\n",
    "    return score  # Return the accuracy score for Optuna to maximize\n"
   ]
  },
  {
   "cell_type": "code",
   "execution_count": 5,
   "metadata": {},
   "outputs": [
    {
     "name": "stderr",
     "output_type": "stream",
     "text": [
      "[I 2025-03-10 21:18:07,115] A new study created in memory with name: no-name-9f7d30f6-8a89-48d1-b2a3-c57b32b7d9ce\n",
      "[I 2025-03-10 21:18:07,631] Trial 0 finished with value: 0.7802607076350093 and parameters: {'n_estimators': 121, 'max_depth': 20}. Best is trial 0 with value: 0.7802607076350093.\n",
      "[I 2025-03-10 21:18:08,004] Trial 1 finished with value: 0.7709497206703911 and parameters: {'n_estimators': 101, 'max_depth': 12}. Best is trial 0 with value: 0.7802607076350093.\n",
      "[I 2025-03-10 21:18:08,577] Trial 2 finished with value: 0.7709497206703911 and parameters: {'n_estimators': 152, 'max_depth': 17}. Best is trial 0 with value: 0.7802607076350093.\n",
      "[I 2025-03-10 21:18:09,327] Trial 3 finished with value: 0.7560521415270017 and parameters: {'n_estimators': 197, 'max_depth': 6}. Best is trial 0 with value: 0.7802607076350093.\n",
      "[I 2025-03-10 21:18:10,005] Trial 4 finished with value: 0.7746741154562384 and parameters: {'n_estimators': 168, 'max_depth': 12}. Best is trial 0 with value: 0.7802607076350093.\n",
      "[I 2025-03-10 21:18:10,276] Trial 5 finished with value: 0.7653631284916201 and parameters: {'n_estimators': 78, 'max_depth': 18}. Best is trial 0 with value: 0.7802607076350093.\n",
      "[I 2025-03-10 21:18:10,811] Trial 6 finished with value: 0.7690875232774674 and parameters: {'n_estimators': 160, 'max_depth': 18}. Best is trial 0 with value: 0.7802607076350093.\n",
      "[I 2025-03-10 21:18:11,169] Trial 7 finished with value: 0.7635009310986964 and parameters: {'n_estimators': 99, 'max_depth': 10}. Best is trial 0 with value: 0.7802607076350093.\n",
      "[I 2025-03-10 21:18:11,746] Trial 8 finished with value: 0.7728119180633147 and parameters: {'n_estimators': 164, 'max_depth': 15}. Best is trial 0 with value: 0.7802607076350093.\n",
      "[I 2025-03-10 21:18:12,209] Trial 9 finished with value: 0.7653631284916201 and parameters: {'n_estimators': 135, 'max_depth': 14}. Best is trial 0 with value: 0.7802607076350093.\n",
      "[I 2025-03-10 21:18:12,455] Trial 10 finished with value: 0.7746741154562384 and parameters: {'n_estimators': 63, 'max_depth': 20}. Best is trial 0 with value: 0.7802607076350093.\n",
      "[I 2025-03-10 21:18:13,053] Trial 11 finished with value: 0.7579143389199254 and parameters: {'n_estimators': 195, 'max_depth': 3}. Best is trial 0 with value: 0.7802607076350093.\n",
      "[I 2025-03-10 21:18:13,462] Trial 12 finished with value: 0.7672253258845437 and parameters: {'n_estimators': 119, 'max_depth': 10}. Best is trial 0 with value: 0.7802607076350093.\n",
      "[I 2025-03-10 21:18:13,929] Trial 13 finished with value: 0.7746741154562384 and parameters: {'n_estimators': 138, 'max_depth': 7}. Best is trial 0 with value: 0.7802607076350093.\n",
      "[I 2025-03-10 21:18:14,565] Trial 14 finished with value: 0.7728119180633147 and parameters: {'n_estimators': 175, 'max_depth': 20}. Best is trial 0 with value: 0.7802607076350093.\n",
      "[I 2025-03-10 21:18:15,014] Trial 15 finished with value: 0.7690875232774674 and parameters: {'n_estimators': 121, 'max_depth': 14}. Best is trial 0 with value: 0.7802607076350093.\n",
      "[I 2025-03-10 21:18:15,334] Trial 16 finished with value: 0.7597765363128491 and parameters: {'n_estimators': 100, 'max_depth': 6}. Best is trial 0 with value: 0.7802607076350093.\n",
      "[I 2025-03-10 21:18:16,035] Trial 17 finished with value: 0.7728119180633147 and parameters: {'n_estimators': 179, 'max_depth': 12}. Best is trial 0 with value: 0.7802607076350093.\n",
      "[I 2025-03-10 21:18:16,527] Trial 18 finished with value: 0.7709497206703911 and parameters: {'n_estimators': 141, 'max_depth': 16}. Best is trial 0 with value: 0.7802607076350093.\n",
      "[I 2025-03-10 21:18:17,032] Trial 19 finished with value: 0.7635009310986964 and parameters: {'n_estimators': 115, 'max_depth': 9}. Best is trial 0 with value: 0.7802607076350093.\n",
      "[I 2025-03-10 21:18:17,375] Trial 20 finished with value: 0.7560521415270017 and parameters: {'n_estimators': 81, 'max_depth': 3}. Best is trial 0 with value: 0.7802607076350093.\n",
      "[I 2025-03-10 21:18:17,601] Trial 21 finished with value: 0.7765363128491621 and parameters: {'n_estimators': 61, 'max_depth': 20}. Best is trial 0 with value: 0.7802607076350093.\n",
      "[I 2025-03-10 21:18:17,809] Trial 22 finished with value: 0.7746741154562384 and parameters: {'n_estimators': 54, 'max_depth': 20}. Best is trial 0 with value: 0.7802607076350093.\n",
      "[I 2025-03-10 21:18:18,075] Trial 23 finished with value: 0.7783985102420857 and parameters: {'n_estimators': 75, 'max_depth': 18}. Best is trial 0 with value: 0.7802607076350093.\n",
      "[I 2025-03-10 21:18:18,344] Trial 24 finished with value: 0.7783985102420857 and parameters: {'n_estimators': 75, 'max_depth': 18}. Best is trial 0 with value: 0.7802607076350093.\n",
      "[I 2025-03-10 21:18:18,695] Trial 25 finished with value: 0.7746741154562384 and parameters: {'n_estimators': 77, 'max_depth': 18}. Best is trial 0 with value: 0.7802607076350093.\n",
      "[I 2025-03-10 21:18:19,011] Trial 26 finished with value: 0.7616387337057727 and parameters: {'n_estimators': 84, 'max_depth': 16}. Best is trial 0 with value: 0.7802607076350093.\n",
      "[I 2025-03-10 21:18:19,238] Trial 27 finished with value: 0.7783985102420857 and parameters: {'n_estimators': 69, 'max_depth': 18}. Best is trial 0 with value: 0.7802607076350093.\n",
      "[I 2025-03-10 21:18:19,546] Trial 28 finished with value: 0.7746741154562384 and parameters: {'n_estimators': 91, 'max_depth': 19}. Best is trial 0 with value: 0.7802607076350093.\n",
      "[I 2025-03-10 21:18:19,916] Trial 29 finished with value: 0.7728119180633147 and parameters: {'n_estimators': 111, 'max_depth': 14}. Best is trial 0 with value: 0.7802607076350093.\n",
      "[I 2025-03-10 21:18:20,438] Trial 30 finished with value: 0.7765363128491621 and parameters: {'n_estimators': 107, 'max_depth': 16}. Best is trial 0 with value: 0.7802607076350093.\n",
      "[I 2025-03-10 21:18:20,815] Trial 31 finished with value: 0.7783985102420857 and parameters: {'n_estimators': 67, 'max_depth': 18}. Best is trial 0 with value: 0.7802607076350093.\n",
      "[I 2025-03-10 21:18:21,290] Trial 32 finished with value: 0.7746741154562384 and parameters: {'n_estimators': 52, 'max_depth': 17}. Best is trial 0 with value: 0.7802607076350093.\n",
      "[I 2025-03-10 21:18:22,091] Trial 33 finished with value: 0.7783985102420857 and parameters: {'n_estimators': 72, 'max_depth': 19}. Best is trial 0 with value: 0.7802607076350093.\n",
      "[I 2025-03-10 21:18:23,156] Trial 34 finished with value: 0.7746741154562384 and parameters: {'n_estimators': 97, 'max_depth': 17}. Best is trial 0 with value: 0.7802607076350093.\n",
      "[I 2025-03-10 21:18:24,032] Trial 35 finished with value: 0.7746741154562384 and parameters: {'n_estimators': 89, 'max_depth': 19}. Best is trial 0 with value: 0.7802607076350093.\n",
      "[I 2025-03-10 21:18:24,424] Trial 36 finished with value: 0.7802607076350094 and parameters: {'n_estimators': 73, 'max_depth': 17}. Best is trial 36 with value: 0.7802607076350094.\n",
      "[I 2025-03-10 21:18:25,288] Trial 37 finished with value: 0.7635009310986964 and parameters: {'n_estimators': 88, 'max_depth': 17}. Best is trial 36 with value: 0.7802607076350094.\n",
      "[I 2025-03-10 21:18:26,272] Trial 38 finished with value: 0.7765363128491621 and parameters: {'n_estimators': 127, 'max_depth': 13}. Best is trial 36 with value: 0.7802607076350094.\n",
      "[I 2025-03-10 21:18:26,813] Trial 39 finished with value: 0.7672253258845437 and parameters: {'n_estimators': 58, 'max_depth': 15}. Best is trial 36 with value: 0.7802607076350094.\n",
      "[I 2025-03-10 21:18:28,122] Trial 40 finished with value: 0.7709497206703911 and parameters: {'n_estimators': 148, 'max_depth': 19}. Best is trial 36 with value: 0.7802607076350094.\n",
      "[I 2025-03-10 21:18:28,616] Trial 41 finished with value: 0.7802607076350094 and parameters: {'n_estimators': 70, 'max_depth': 18}. Best is trial 36 with value: 0.7802607076350094.\n",
      "[I 2025-03-10 21:18:28,989] Trial 42 finished with value: 0.7802607076350094 and parameters: {'n_estimators': 71, 'max_depth': 18}. Best is trial 36 with value: 0.7802607076350094.\n",
      "[I 2025-03-10 21:18:29,222] Trial 43 finished with value: 0.7728119180633147 and parameters: {'n_estimators': 50, 'max_depth': 17}. Best is trial 36 with value: 0.7802607076350094.\n",
      "[I 2025-03-10 21:18:29,550] Trial 44 finished with value: 0.7653631284916201 and parameters: {'n_estimators': 65, 'max_depth': 15}. Best is trial 36 with value: 0.7802607076350094.\n",
      "[I 2025-03-10 21:18:29,809] Trial 45 finished with value: 0.7728119180633147 and parameters: {'n_estimators': 80, 'max_depth': 19}. Best is trial 36 with value: 0.7802607076350094.\n",
      "[I 2025-03-10 21:18:30,125] Trial 46 finished with value: 0.7690875232774674 and parameters: {'n_estimators': 94, 'max_depth': 16}. Best is trial 36 with value: 0.7802607076350094.\n",
      "[I 2025-03-10 21:18:30,342] Trial 47 finished with value: 0.7765363128491621 and parameters: {'n_estimators': 61, 'max_depth': 20}. Best is trial 36 with value: 0.7802607076350094.\n",
      "[I 2025-03-10 21:18:30,731] Trial 48 finished with value: 0.7746741154562384 and parameters: {'n_estimators': 105, 'max_depth': 18}. Best is trial 36 with value: 0.7802607076350094.\n",
      "[I 2025-03-10 21:18:31,036] Trial 49 finished with value: 0.7597765363128491 and parameters: {'n_estimators': 84, 'max_depth': 19}. Best is trial 36 with value: 0.7802607076350094.\n"
     ]
    }
   ],
   "source": [
    "# Create a study object and optimize the objective function\n",
    "study = optuna.create_study(direction='maximize', sampler=optuna.samplers.TPESampler())  # We aim to maximize accuracy\n",
    "study.optimize(objective, n_trials=50)  # Run 50 trials to find the best hyperparameters\n"
   ]
  },
  {
   "cell_type": "code",
   "execution_count": 6,
   "metadata": {},
   "outputs": [
    {
     "name": "stdout",
     "output_type": "stream",
     "text": [
      "Best trial accuracy: 0.7802607076350094\n",
      "Best hyperparameters: {'n_estimators': 73, 'max_depth': 17}\n"
     ]
    }
   ],
   "source": [
    "\n",
    "# Print the best result\n",
    "print(f'Best trial accuracy: {study.best_trial.value}')\n",
    "print(f'Best hyperparameters: {study.best_trial.params}')"
   ]
  },
  {
   "cell_type": "code",
   "execution_count": 7,
   "metadata": {},
   "outputs": [
    {
     "name": "stdout",
     "output_type": "stream",
     "text": [
      "Test Accuracy with best hyperparameters: 0.76\n"
     ]
    }
   ],
   "source": [
    "from sklearn.metrics import accuracy_score\n",
    "\n",
    "# Train a RandomForestClassifier using the best hyperparameters from Optuna\n",
    "best_model = RandomForestClassifier(**study.best_trial.params, random_state=42)\n",
    "\n",
    "# Fit the model to the training data\n",
    "best_model.fit(X_train, y_train)\n",
    "\n",
    "# Make predictions on the test set\n",
    "y_pred = best_model.predict(X_test)\n",
    "\n",
    "# Calculate the accuracy on the test set\n",
    "test_accuracy = accuracy_score(y_test, y_pred)\n",
    "\n",
    "# Print the test accuracy\n",
    "print(f'Test Accuracy with best hyperparameters: {test_accuracy:.2f}')\n"
   ]
  },
  {
   "cell_type": "markdown",
   "metadata": {},
   "source": [
    "Samplers in Optuna"
   ]
  },
  {
   "cell_type": "code",
   "execution_count": null,
   "metadata": {},
   "outputs": [],
   "source": [
    "from sklearn.ensemble import RandomForestClassifier\n",
    "from sklearn.model_selection import cross_val_score\n",
    "\n",
    "# Define the objective function\n",
    "def objective(trial):\n",
    "    # Suggest values for the hyperparameters\n",
    "    n_estimators = trial.suggest_int('n_estimators', 50, 200)\n",
    "    max_depth = trial.suggest_int('max_depth', 3, 20)\n",
    "\n",
    "    # Create the RandomForestClassifier with suggested hyperparameters\n",
    "    model = RandomForestClassifier(\n",
    "        n_estimators=n_estimators,\n",
    "        max_depth=max_depth,\n",
    "        random_state=42\n",
    "    )\n",
    "\n",
    "    # Perform 3-fold cross-validation and calculate accuracy\n",
    "    score = cross_val_score(model, X_train, y_train, cv=3, scoring='accuracy').mean()\n",
    "\n",
    "    return score  # Return the accuracy score for Optuna to maximize\n"
   ]
  },
  {
   "cell_type": "code",
   "execution_count": 9,
   "metadata": {},
   "outputs": [
    {
     "name": "stderr",
     "output_type": "stream",
     "text": [
      "[I 2025-03-10 21:18:31,210] A new study created in memory with name: no-name-2f35aa0a-9021-4b41-85fb-8800a1232fd3\n",
      "[I 2025-03-10 21:18:31,691] Trial 0 finished with value: 0.7672253258845437 and parameters: {'n_estimators': 140, 'max_depth': 12}. Best is trial 0 with value: 0.7672253258845437.\n",
      "[I 2025-03-10 21:18:32,215] Trial 1 finished with value: 0.7802607076350093 and parameters: {'n_estimators': 133, 'max_depth': 16}. Best is trial 1 with value: 0.7802607076350093.\n",
      "[I 2025-03-10 21:18:32,823] Trial 2 finished with value: 0.7653631284916201 and parameters: {'n_estimators': 178, 'max_depth': 9}. Best is trial 1 with value: 0.7802607076350093.\n",
      "[I 2025-03-10 21:18:33,347] Trial 3 finished with value: 0.7709497206703911 and parameters: {'n_estimators': 149, 'max_depth': 15}. Best is trial 1 with value: 0.7802607076350093.\n",
      "[I 2025-03-10 21:18:33,947] Trial 4 finished with value: 0.7672253258845437 and parameters: {'n_estimators': 185, 'max_depth': 7}. Best is trial 1 with value: 0.7802607076350093.\n",
      "[I 2025-03-10 21:18:34,362] Trial 5 finished with value: 0.7690875232774674 and parameters: {'n_estimators': 130, 'max_depth': 8}. Best is trial 1 with value: 0.7802607076350093.\n",
      "[I 2025-03-10 21:18:34,566] Trial 6 finished with value: 0.7690875232774674 and parameters: {'n_estimators': 58, 'max_depth': 20}. Best is trial 1 with value: 0.7802607076350093.\n",
      "[I 2025-03-10 21:18:34,751] Trial 7 finished with value: 0.7653631284916201 and parameters: {'n_estimators': 51, 'max_depth': 13}. Best is trial 1 with value: 0.7802607076350093.\n",
      "[I 2025-03-10 21:18:35,137] Trial 8 finished with value: 0.7746741154562384 and parameters: {'n_estimators': 112, 'max_depth': 18}. Best is trial 1 with value: 0.7802607076350093.\n",
      "[I 2025-03-10 21:18:35,816] Trial 9 finished with value: 0.7783985102420856 and parameters: {'n_estimators': 200, 'max_depth': 16}. Best is trial 1 with value: 0.7802607076350093.\n",
      "[I 2025-03-10 21:18:36,510] Trial 10 finished with value: 0.7690875232774674 and parameters: {'n_estimators': 189, 'max_depth': 10}. Best is trial 1 with value: 0.7802607076350093.\n",
      "[I 2025-03-10 21:18:37,225] Trial 11 finished with value: 0.7765363128491621 and parameters: {'n_estimators': 199, 'max_depth': 19}. Best is trial 1 with value: 0.7802607076350093.\n",
      "[I 2025-03-10 21:18:37,654] Trial 12 finished with value: 0.7783985102420857 and parameters: {'n_estimators': 125, 'max_depth': 14}. Best is trial 1 with value: 0.7802607076350093.\n",
      "[I 2025-03-10 21:18:38,227] Trial 13 finished with value: 0.7597765363128491 and parameters: {'n_estimators': 158, 'max_depth': 4}. Best is trial 1 with value: 0.7802607076350093.\n",
      "[I 2025-03-10 21:18:38,627] Trial 14 finished with value: 0.7709497206703911 and parameters: {'n_estimators': 111, 'max_depth': 8}. Best is trial 1 with value: 0.7802607076350093.\n",
      "[I 2025-03-10 21:18:39,265] Trial 15 finished with value: 0.7746741154562384 and parameters: {'n_estimators': 167, 'max_depth': 19}. Best is trial 1 with value: 0.7802607076350093.\n",
      "[I 2025-03-10 21:18:39,701] Trial 16 finished with value: 0.7690875232774674 and parameters: {'n_estimators': 132, 'max_depth': 11}. Best is trial 1 with value: 0.7802607076350093.\n",
      "[I 2025-03-10 21:18:40,318] Trial 17 finished with value: 0.7765363128491621 and parameters: {'n_estimators': 179, 'max_depth': 14}. Best is trial 1 with value: 0.7802607076350093.\n",
      "[I 2025-03-10 21:18:40,547] Trial 18 finished with value: 0.7728119180633147 and parameters: {'n_estimators': 75, 'max_depth': 16}. Best is trial 1 with value: 0.7802607076350093.\n",
      "[I 2025-03-10 21:18:41,123] Trial 19 finished with value: 0.7709497206703911 and parameters: {'n_estimators': 177, 'max_depth': 19}. Best is trial 1 with value: 0.7802607076350093.\n",
      "[I 2025-03-10 21:18:41,920] Trial 20 finished with value: 0.7709497206703911 and parameters: {'n_estimators': 198, 'max_depth': 14}. Best is trial 1 with value: 0.7802607076350093.\n",
      "[I 2025-03-10 21:18:42,326] Trial 21 finished with value: 0.7690875232774674 and parameters: {'n_estimators': 95, 'max_depth': 14}. Best is trial 1 with value: 0.7802607076350093.\n",
      "[I 2025-03-10 21:18:42,980] Trial 22 finished with value: 0.7746741154562384 and parameters: {'n_estimators': 183, 'max_depth': 14}. Best is trial 1 with value: 0.7802607076350093.\n",
      "[I 2025-03-10 21:18:43,131] Trial 23 finished with value: 0.7635009310986964 and parameters: {'n_estimators': 52, 'max_depth': 6}. Best is trial 1 with value: 0.7802607076350093.\n",
      "[I 2025-03-10 21:18:43,827] Trial 24 finished with value: 0.7709497206703911 and parameters: {'n_estimators': 183, 'max_depth': 10}. Best is trial 1 with value: 0.7802607076350093.\n",
      "[I 2025-03-10 21:18:44,312] Trial 25 finished with value: 0.7635009310986964 and parameters: {'n_estimators': 124, 'max_depth': 10}. Best is trial 1 with value: 0.7802607076350093.\n",
      "[I 2025-03-10 21:18:44,731] Trial 26 finished with value: 0.7765363128491621 and parameters: {'n_estimators': 105, 'max_depth': 13}. Best is trial 1 with value: 0.7802607076350093.\n",
      "[I 2025-03-10 21:18:45,393] Trial 27 finished with value: 0.7709497206703911 and parameters: {'n_estimators': 180, 'max_depth': 10}. Best is trial 1 with value: 0.7802607076350093.\n",
      "[I 2025-03-10 21:18:46,048] Trial 28 finished with value: 0.7690875232774674 and parameters: {'n_estimators': 162, 'max_depth': 12}. Best is trial 1 with value: 0.7802607076350093.\n",
      "[I 2025-03-10 21:18:46,633] Trial 29 finished with value: 0.7709497206703911 and parameters: {'n_estimators': 174, 'max_depth': 18}. Best is trial 1 with value: 0.7802607076350093.\n",
      "[I 2025-03-10 21:18:46,902] Trial 30 finished with value: 0.7672253258845437 and parameters: {'n_estimators': 87, 'max_depth': 7}. Best is trial 1 with value: 0.7802607076350093.\n",
      "[I 2025-03-10 21:18:47,547] Trial 31 finished with value: 0.7597765363128491 and parameters: {'n_estimators': 167, 'max_depth': 9}. Best is trial 1 with value: 0.7802607076350093.\n",
      "[I 2025-03-10 21:18:47,842] Trial 32 finished with value: 0.7783985102420856 and parameters: {'n_estimators': 102, 'max_depth': 12}. Best is trial 1 with value: 0.7802607076350093.\n",
      "[I 2025-03-10 21:18:48,117] Trial 33 finished with value: 0.7728119180633147 and parameters: {'n_estimators': 76, 'max_depth': 13}. Best is trial 1 with value: 0.7802607076350093.\n",
      "[I 2025-03-10 21:18:48,546] Trial 34 finished with value: 0.7616387337057727 and parameters: {'n_estimators': 142, 'max_depth': 6}. Best is trial 1 with value: 0.7802607076350093.\n",
      "[I 2025-03-10 21:18:48,976] Trial 35 finished with value: 0.7728119180633147 and parameters: {'n_estimators': 109, 'max_depth': 20}. Best is trial 1 with value: 0.7802607076350093.\n",
      "[I 2025-03-10 21:18:49,586] Trial 36 finished with value: 0.7765363128491621 and parameters: {'n_estimators': 176, 'max_depth': 12}. Best is trial 1 with value: 0.7802607076350093.\n",
      "[I 2025-03-10 21:18:49,873] Trial 37 finished with value: 0.7839851024208566 and parameters: {'n_estimators': 73, 'max_depth': 18}. Best is trial 37 with value: 0.7839851024208566.\n",
      "[I 2025-03-10 21:18:50,465] Trial 38 finished with value: 0.7783985102420856 and parameters: {'n_estimators': 131, 'max_depth': 18}. Best is trial 37 with value: 0.7839851024208566.\n",
      "[I 2025-03-10 21:18:51,263] Trial 39 finished with value: 0.7728119180633147 and parameters: {'n_estimators': 191, 'max_depth': 19}. Best is trial 37 with value: 0.7839851024208566.\n",
      "[I 2025-03-10 21:18:51,630] Trial 40 finished with value: 0.7765363128491621 and parameters: {'n_estimators': 90, 'max_depth': 20}. Best is trial 37 with value: 0.7839851024208566.\n",
      "[I 2025-03-10 21:18:52,400] Trial 41 finished with value: 0.7765363128491621 and parameters: {'n_estimators': 179, 'max_depth': 14}. Best is trial 37 with value: 0.7839851024208566.\n",
      "[I 2025-03-10 21:18:53,190] Trial 42 finished with value: 0.7672253258845437 and parameters: {'n_estimators': 185, 'max_depth': 15}. Best is trial 37 with value: 0.7839851024208566.\n",
      "[I 2025-03-10 21:18:54,237] Trial 43 finished with value: 0.7728119180633147 and parameters: {'n_estimators': 183, 'max_depth': 20}. Best is trial 37 with value: 0.7839851024208566.\n",
      "[I 2025-03-10 21:18:55,286] Trial 44 finished with value: 0.7653631284916201 and parameters: {'n_estimators': 109, 'max_depth': 13}. Best is trial 37 with value: 0.7839851024208566.\n",
      "[I 2025-03-10 21:18:55,921] Trial 45 finished with value: 0.7653631284916201 and parameters: {'n_estimators': 64, 'max_depth': 9}. Best is trial 37 with value: 0.7839851024208566.\n",
      "[I 2025-03-10 21:18:56,931] Trial 46 finished with value: 0.7746741154562384 and parameters: {'n_estimators': 106, 'max_depth': 14}. Best is trial 37 with value: 0.7839851024208566.\n",
      "[I 2025-03-10 21:18:57,780] Trial 47 finished with value: 0.7597765363128491 and parameters: {'n_estimators': 82, 'max_depth': 9}. Best is trial 37 with value: 0.7839851024208566.\n",
      "[I 2025-03-10 21:18:59,166] Trial 48 finished with value: 0.7597765363128491 and parameters: {'n_estimators': 167, 'max_depth': 4}. Best is trial 37 with value: 0.7839851024208566.\n",
      "[I 2025-03-10 21:19:00,100] Trial 49 finished with value: 0.7690875232774674 and parameters: {'n_estimators': 101, 'max_depth': 19}. Best is trial 37 with value: 0.7839851024208566.\n"
     ]
    }
   ],
   "source": [
    "study = optuna.create_study(direction='maximize', sampler=optuna.samplers.RandomSampler())  # We aim to maximize accuracy\n",
    "study.optimize(objective, n_trials=50)  # Run 50 trials to find the best hyperparameters"
   ]
  },
  {
   "cell_type": "code",
   "execution_count": 10,
   "metadata": {},
   "outputs": [
    {
     "name": "stdout",
     "output_type": "stream",
     "text": [
      "Best trial accuracy: 0.7839851024208566\n",
      "Best hyperparameters: {'n_estimators': 73, 'max_depth': 18}\n"
     ]
    }
   ],
   "source": [
    "\n",
    "# Print the best result\n",
    "print(f'Best trial accuracy: {study.best_trial.value}')\n",
    "print(f'Best hyperparameters: {study.best_trial.params}')"
   ]
  },
  {
   "cell_type": "code",
   "execution_count": 11,
   "metadata": {},
   "outputs": [
    {
     "name": "stdout",
     "output_type": "stream",
     "text": [
      "Test Accuracy with best hyperparameters: 0.76\n"
     ]
    }
   ],
   "source": [
    "from sklearn.metrics import accuracy_score\n",
    "\n",
    "# Train a RandomForestClassifier using the best hyperparameters from Optuna\n",
    "best_model = RandomForestClassifier(**study.best_trial.params, random_state=42)\n",
    "\n",
    "# Fit the model to the training data\n",
    "best_model.fit(X_train, y_train)\n",
    "\n",
    "# Make predictions on the test set\n",
    "y_pred = best_model.predict(X_test)\n",
    "\n",
    "# Calculate the accuracy on the test set\n",
    "test_accuracy = accuracy_score(y_test, y_pred)\n",
    "\n",
    "# Print the test accuracy\n",
    "print(f'Test Accuracy with best hyperparameters: {test_accuracy:.2f}')\n"
   ]
  },
  {
   "cell_type": "code",
   "execution_count": 12,
   "metadata": {},
   "outputs": [],
   "source": [
    "search_space = {\n",
    "    'n_estimators': [50, 100, 150, 200],\n",
    "    'max_depth': [5, 10, 15, 20]\n",
    "}"
   ]
  },
  {
   "cell_type": "code",
   "execution_count": 13,
   "metadata": {},
   "outputs": [
    {
     "name": "stderr",
     "output_type": "stream",
     "text": [
      "[I 2025-03-10 21:19:00,533] A new study created in memory with name: no-name-edac8c15-7df1-459f-823a-77e34691d32c\n",
      "[I 2025-03-10 21:19:01,309] Trial 0 finished with value: 0.7690875232774674 and parameters: {'n_estimators': 100, 'max_depth': 5}. Best is trial 0 with value: 0.7690875232774674.\n",
      "[I 2025-03-10 21:19:02,690] Trial 1 finished with value: 0.7672253258845437 and parameters: {'n_estimators': 150, 'max_depth': 10}. Best is trial 0 with value: 0.7690875232774674.\n",
      "[I 2025-03-10 21:19:03,167] Trial 2 finished with value: 0.7728119180633147 and parameters: {'n_estimators': 50, 'max_depth': 15}. Best is trial 2 with value: 0.7728119180633147.\n",
      "[I 2025-03-10 21:19:03,994] Trial 3 finished with value: 0.7653631284916201 and parameters: {'n_estimators': 100, 'max_depth': 15}. Best is trial 2 with value: 0.7728119180633147.\n",
      "[I 2025-03-10 21:19:04,673] Trial 4 finished with value: 0.7690875232774674 and parameters: {'n_estimators': 100, 'max_depth': 20}. Best is trial 2 with value: 0.7728119180633147.\n",
      "[I 2025-03-10 21:19:05,271] Trial 5 finished with value: 0.7579143389199254 and parameters: {'n_estimators': 50, 'max_depth': 10}. Best is trial 2 with value: 0.7728119180633147.\n",
      "[I 2025-03-10 21:19:06,409] Trial 6 finished with value: 0.7653631284916201 and parameters: {'n_estimators': 150, 'max_depth': 5}. Best is trial 2 with value: 0.7728119180633147.\n",
      "[I 2025-03-10 21:19:08,026] Trial 7 finished with value: 0.7728119180633147 and parameters: {'n_estimators': 150, 'max_depth': 20}. Best is trial 2 with value: 0.7728119180633147.\n",
      "[I 2025-03-10 21:19:09,512] Trial 8 finished with value: 0.7728119180633147 and parameters: {'n_estimators': 150, 'max_depth': 15}. Best is trial 2 with value: 0.7728119180633147.\n",
      "[I 2025-03-10 21:19:10,670] Trial 9 finished with value: 0.7709497206703911 and parameters: {'n_estimators': 200, 'max_depth': 10}. Best is trial 2 with value: 0.7728119180633147.\n",
      "[I 2025-03-10 21:19:12,188] Trial 10 finished with value: 0.7728119180633147 and parameters: {'n_estimators': 200, 'max_depth': 20}. Best is trial 2 with value: 0.7728119180633147.\n",
      "[I 2025-03-10 21:19:13,967] Trial 11 finished with value: 0.7728119180633147 and parameters: {'n_estimators': 200, 'max_depth': 15}. Best is trial 2 with value: 0.7728119180633147.\n",
      "[I 2025-03-10 21:19:15,056] Trial 12 finished with value: 0.7690875232774674 and parameters: {'n_estimators': 200, 'max_depth': 5}. Best is trial 2 with value: 0.7728119180633147.\n",
      "[I 2025-03-10 21:19:15,431] Trial 13 finished with value: 0.7746741154562384 and parameters: {'n_estimators': 50, 'max_depth': 5}. Best is trial 13 with value: 0.7746741154562384.\n",
      "[I 2025-03-10 21:19:16,017] Trial 14 finished with value: 0.7616387337057727 and parameters: {'n_estimators': 100, 'max_depth': 10}. Best is trial 13 with value: 0.7746741154562384.\n",
      "[I 2025-03-10 21:19:16,305] Trial 15 finished with value: 0.7709497206703911 and parameters: {'n_estimators': 50, 'max_depth': 20}. Best is trial 13 with value: 0.7746741154562384.\n"
     ]
    }
   ],
   "source": [
    "# Create a study and optimize it using GridSampler\n",
    "study = optuna.create_study(direction='maximize', sampler=optuna.samplers.GridSampler(search_space))\n",
    "study.optimize(objective)"
   ]
  },
  {
   "cell_type": "code",
   "execution_count": 14,
   "metadata": {},
   "outputs": [
    {
     "name": "stdout",
     "output_type": "stream",
     "text": [
      "Test Accuracy with best hyperparameters: 0.74\n"
     ]
    }
   ],
   "source": [
    "from sklearn.metrics import accuracy_score\n",
    "\n",
    "# Train a RandomForestClassifier using the best hyperparameters from Optuna\n",
    "best_model = RandomForestClassifier(**study.best_trial.params, random_state=42)\n",
    "\n",
    "# Fit the model to the training data\n",
    "best_model.fit(X_train, y_train)\n",
    "\n",
    "# Make predictions on the test set\n",
    "y_pred = best_model.predict(X_test)\n",
    "\n",
    "# Calculate the accuracy on the test set\n",
    "test_accuracy = accuracy_score(y_test, y_pred)\n",
    "\n",
    "# Print the test accuracy\n",
    "print(f'Test Accuracy with best hyperparameters: {test_accuracy:.2f}')\n"
   ]
  },
  {
   "cell_type": "code",
   "execution_count": 15,
   "metadata": {},
   "outputs": [
    {
     "name": "stdout",
     "output_type": "stream",
     "text": [
      "Requirement already satisfied: plotly in c:\\users\\abhin\\desktop\\.venv\\lib\\site-packages (6.0.0)\n",
      "Requirement already satisfied: narwhals>=1.15.1 in c:\\users\\abhin\\desktop\\.venv\\lib\\site-packages (from plotly) (1.30.0)\n",
      "Requirement already satisfied: packaging in c:\\users\\abhin\\desktop\\.venv\\lib\\site-packages (from plotly) (24.2)\n",
      "Note: you may need to restart the kernel to use updated packages.\n"
     ]
    }
   ],
   "source": [
    "%pip install plotly\n",
    "import plotly"
   ]
  },
  {
   "cell_type": "code",
   "execution_count": 16,
   "metadata": {},
   "outputs": [],
   "source": [
    "# For visualizations\n",
    "from optuna.visualization import plot_optimization_history, plot_parallel_coordinate, plot_slice, plot_contour, plot_param_importances"
   ]
  },
  {
   "cell_type": "code",
   "execution_count": 17,
   "metadata": {},
   "outputs": [
    {
     "data": {
      "application/vnd.plotly.v1+json": {
       "config": {
        "plotlyServerURL": "https://plot.ly"
       },
       "data": [
        {
         "mode": "markers",
         "name": "Objective Value",
         "type": "scatter",
         "x": [
          0,
          1,
          2,
          3,
          4,
          5,
          6,
          7,
          8,
          9,
          10,
          11,
          12,
          13,
          14,
          15
         ],
         "y": [
          0.7690875232774674,
          0.7672253258845437,
          0.7728119180633147,
          0.7653631284916201,
          0.7690875232774674,
          0.7579143389199254,
          0.7653631284916201,
          0.7728119180633147,
          0.7728119180633147,
          0.7709497206703911,
          0.7728119180633147,
          0.7728119180633147,
          0.7690875232774674,
          0.7746741154562384,
          0.7616387337057727,
          0.7709497206703911
         ]
        },
        {
         "mode": "lines",
         "name": "Best Value",
         "type": "scatter",
         "x": [
          0,
          1,
          2,
          3,
          4,
          5,
          6,
          7,
          8,
          9,
          10,
          11,
          12,
          13,
          14,
          15
         ],
         "y": [
          0.7690875232774674,
          0.7690875232774674,
          0.7728119180633147,
          0.7728119180633147,
          0.7728119180633147,
          0.7728119180633147,
          0.7728119180633147,
          0.7728119180633147,
          0.7728119180633147,
          0.7728119180633147,
          0.7728119180633147,
          0.7728119180633147,
          0.7728119180633147,
          0.7746741154562384,
          0.7746741154562384,
          0.7746741154562384
         ]
        },
        {
         "marker": {
          "color": "#cccccc"
         },
         "mode": "markers",
         "name": "Infeasible Trial",
         "showlegend": false,
         "type": "scatter",
         "x": [],
         "y": []
        }
       ],
       "layout": {
        "template": {
         "data": {
          "bar": [
           {
            "error_x": {
             "color": "#2a3f5f"
            },
            "error_y": {
             "color": "#2a3f5f"
            },
            "marker": {
             "line": {
              "color": "#E5ECF6",
              "width": 0.5
             },
             "pattern": {
              "fillmode": "overlay",
              "size": 10,
              "solidity": 0.2
             }
            },
            "type": "bar"
           }
          ],
          "barpolar": [
           {
            "marker": {
             "line": {
              "color": "#E5ECF6",
              "width": 0.5
             },
             "pattern": {
              "fillmode": "overlay",
              "size": 10,
              "solidity": 0.2
             }
            },
            "type": "barpolar"
           }
          ],
          "carpet": [
           {
            "aaxis": {
             "endlinecolor": "#2a3f5f",
             "gridcolor": "white",
             "linecolor": "white",
             "minorgridcolor": "white",
             "startlinecolor": "#2a3f5f"
            },
            "baxis": {
             "endlinecolor": "#2a3f5f",
             "gridcolor": "white",
             "linecolor": "white",
             "minorgridcolor": "white",
             "startlinecolor": "#2a3f5f"
            },
            "type": "carpet"
           }
          ],
          "choropleth": [
           {
            "colorbar": {
             "outlinewidth": 0,
             "ticks": ""
            },
            "type": "choropleth"
           }
          ],
          "contour": [
           {
            "colorbar": {
             "outlinewidth": 0,
             "ticks": ""
            },
            "colorscale": [
             [
              0,
              "#0d0887"
             ],
             [
              0.1111111111111111,
              "#46039f"
             ],
             [
              0.2222222222222222,
              "#7201a8"
             ],
             [
              0.3333333333333333,
              "#9c179e"
             ],
             [
              0.4444444444444444,
              "#bd3786"
             ],
             [
              0.5555555555555556,
              "#d8576b"
             ],
             [
              0.6666666666666666,
              "#ed7953"
             ],
             [
              0.7777777777777778,
              "#fb9f3a"
             ],
             [
              0.8888888888888888,
              "#fdca26"
             ],
             [
              1,
              "#f0f921"
             ]
            ],
            "type": "contour"
           }
          ],
          "contourcarpet": [
           {
            "colorbar": {
             "outlinewidth": 0,
             "ticks": ""
            },
            "type": "contourcarpet"
           }
          ],
          "heatmap": [
           {
            "colorbar": {
             "outlinewidth": 0,
             "ticks": ""
            },
            "colorscale": [
             [
              0,
              "#0d0887"
             ],
             [
              0.1111111111111111,
              "#46039f"
             ],
             [
              0.2222222222222222,
              "#7201a8"
             ],
             [
              0.3333333333333333,
              "#9c179e"
             ],
             [
              0.4444444444444444,
              "#bd3786"
             ],
             [
              0.5555555555555556,
              "#d8576b"
             ],
             [
              0.6666666666666666,
              "#ed7953"
             ],
             [
              0.7777777777777778,
              "#fb9f3a"
             ],
             [
              0.8888888888888888,
              "#fdca26"
             ],
             [
              1,
              "#f0f921"
             ]
            ],
            "type": "heatmap"
           }
          ],
          "histogram": [
           {
            "marker": {
             "pattern": {
              "fillmode": "overlay",
              "size": 10,
              "solidity": 0.2
             }
            },
            "type": "histogram"
           }
          ],
          "histogram2d": [
           {
            "colorbar": {
             "outlinewidth": 0,
             "ticks": ""
            },
            "colorscale": [
             [
              0,
              "#0d0887"
             ],
             [
              0.1111111111111111,
              "#46039f"
             ],
             [
              0.2222222222222222,
              "#7201a8"
             ],
             [
              0.3333333333333333,
              "#9c179e"
             ],
             [
              0.4444444444444444,
              "#bd3786"
             ],
             [
              0.5555555555555556,
              "#d8576b"
             ],
             [
              0.6666666666666666,
              "#ed7953"
             ],
             [
              0.7777777777777778,
              "#fb9f3a"
             ],
             [
              0.8888888888888888,
              "#fdca26"
             ],
             [
              1,
              "#f0f921"
             ]
            ],
            "type": "histogram2d"
           }
          ],
          "histogram2dcontour": [
           {
            "colorbar": {
             "outlinewidth": 0,
             "ticks": ""
            },
            "colorscale": [
             [
              0,
              "#0d0887"
             ],
             [
              0.1111111111111111,
              "#46039f"
             ],
             [
              0.2222222222222222,
              "#7201a8"
             ],
             [
              0.3333333333333333,
              "#9c179e"
             ],
             [
              0.4444444444444444,
              "#bd3786"
             ],
             [
              0.5555555555555556,
              "#d8576b"
             ],
             [
              0.6666666666666666,
              "#ed7953"
             ],
             [
              0.7777777777777778,
              "#fb9f3a"
             ],
             [
              0.8888888888888888,
              "#fdca26"
             ],
             [
              1,
              "#f0f921"
             ]
            ],
            "type": "histogram2dcontour"
           }
          ],
          "mesh3d": [
           {
            "colorbar": {
             "outlinewidth": 0,
             "ticks": ""
            },
            "type": "mesh3d"
           }
          ],
          "parcoords": [
           {
            "line": {
             "colorbar": {
              "outlinewidth": 0,
              "ticks": ""
             }
            },
            "type": "parcoords"
           }
          ],
          "pie": [
           {
            "automargin": true,
            "type": "pie"
           }
          ],
          "scatter": [
           {
            "fillpattern": {
             "fillmode": "overlay",
             "size": 10,
             "solidity": 0.2
            },
            "type": "scatter"
           }
          ],
          "scatter3d": [
           {
            "line": {
             "colorbar": {
              "outlinewidth": 0,
              "ticks": ""
             }
            },
            "marker": {
             "colorbar": {
              "outlinewidth": 0,
              "ticks": ""
             }
            },
            "type": "scatter3d"
           }
          ],
          "scattercarpet": [
           {
            "marker": {
             "colorbar": {
              "outlinewidth": 0,
              "ticks": ""
             }
            },
            "type": "scattercarpet"
           }
          ],
          "scattergeo": [
           {
            "marker": {
             "colorbar": {
              "outlinewidth": 0,
              "ticks": ""
             }
            },
            "type": "scattergeo"
           }
          ],
          "scattergl": [
           {
            "marker": {
             "colorbar": {
              "outlinewidth": 0,
              "ticks": ""
             }
            },
            "type": "scattergl"
           }
          ],
          "scattermap": [
           {
            "marker": {
             "colorbar": {
              "outlinewidth": 0,
              "ticks": ""
             }
            },
            "type": "scattermap"
           }
          ],
          "scattermapbox": [
           {
            "marker": {
             "colorbar": {
              "outlinewidth": 0,
              "ticks": ""
             }
            },
            "type": "scattermapbox"
           }
          ],
          "scatterpolar": [
           {
            "marker": {
             "colorbar": {
              "outlinewidth": 0,
              "ticks": ""
             }
            },
            "type": "scatterpolar"
           }
          ],
          "scatterpolargl": [
           {
            "marker": {
             "colorbar": {
              "outlinewidth": 0,
              "ticks": ""
             }
            },
            "type": "scatterpolargl"
           }
          ],
          "scatterternary": [
           {
            "marker": {
             "colorbar": {
              "outlinewidth": 0,
              "ticks": ""
             }
            },
            "type": "scatterternary"
           }
          ],
          "surface": [
           {
            "colorbar": {
             "outlinewidth": 0,
             "ticks": ""
            },
            "colorscale": [
             [
              0,
              "#0d0887"
             ],
             [
              0.1111111111111111,
              "#46039f"
             ],
             [
              0.2222222222222222,
              "#7201a8"
             ],
             [
              0.3333333333333333,
              "#9c179e"
             ],
             [
              0.4444444444444444,
              "#bd3786"
             ],
             [
              0.5555555555555556,
              "#d8576b"
             ],
             [
              0.6666666666666666,
              "#ed7953"
             ],
             [
              0.7777777777777778,
              "#fb9f3a"
             ],
             [
              0.8888888888888888,
              "#fdca26"
             ],
             [
              1,
              "#f0f921"
             ]
            ],
            "type": "surface"
           }
          ],
          "table": [
           {
            "cells": {
             "fill": {
              "color": "#EBF0F8"
             },
             "line": {
              "color": "white"
             }
            },
            "header": {
             "fill": {
              "color": "#C8D4E3"
             },
             "line": {
              "color": "white"
             }
            },
            "type": "table"
           }
          ]
         },
         "layout": {
          "annotationdefaults": {
           "arrowcolor": "#2a3f5f",
           "arrowhead": 0,
           "arrowwidth": 1
          },
          "autotypenumbers": "strict",
          "coloraxis": {
           "colorbar": {
            "outlinewidth": 0,
            "ticks": ""
           }
          },
          "colorscale": {
           "diverging": [
            [
             0,
             "#8e0152"
            ],
            [
             0.1,
             "#c51b7d"
            ],
            [
             0.2,
             "#de77ae"
            ],
            [
             0.3,
             "#f1b6da"
            ],
            [
             0.4,
             "#fde0ef"
            ],
            [
             0.5,
             "#f7f7f7"
            ],
            [
             0.6,
             "#e6f5d0"
            ],
            [
             0.7,
             "#b8e186"
            ],
            [
             0.8,
             "#7fbc41"
            ],
            [
             0.9,
             "#4d9221"
            ],
            [
             1,
             "#276419"
            ]
           ],
           "sequential": [
            [
             0,
             "#0d0887"
            ],
            [
             0.1111111111111111,
             "#46039f"
            ],
            [
             0.2222222222222222,
             "#7201a8"
            ],
            [
             0.3333333333333333,
             "#9c179e"
            ],
            [
             0.4444444444444444,
             "#bd3786"
            ],
            [
             0.5555555555555556,
             "#d8576b"
            ],
            [
             0.6666666666666666,
             "#ed7953"
            ],
            [
             0.7777777777777778,
             "#fb9f3a"
            ],
            [
             0.8888888888888888,
             "#fdca26"
            ],
            [
             1,
             "#f0f921"
            ]
           ],
           "sequentialminus": [
            [
             0,
             "#0d0887"
            ],
            [
             0.1111111111111111,
             "#46039f"
            ],
            [
             0.2222222222222222,
             "#7201a8"
            ],
            [
             0.3333333333333333,
             "#9c179e"
            ],
            [
             0.4444444444444444,
             "#bd3786"
            ],
            [
             0.5555555555555556,
             "#d8576b"
            ],
            [
             0.6666666666666666,
             "#ed7953"
            ],
            [
             0.7777777777777778,
             "#fb9f3a"
            ],
            [
             0.8888888888888888,
             "#fdca26"
            ],
            [
             1,
             "#f0f921"
            ]
           ]
          },
          "colorway": [
           "#636efa",
           "#EF553B",
           "#00cc96",
           "#ab63fa",
           "#FFA15A",
           "#19d3f3",
           "#FF6692",
           "#B6E880",
           "#FF97FF",
           "#FECB52"
          ],
          "font": {
           "color": "#2a3f5f"
          },
          "geo": {
           "bgcolor": "white",
           "lakecolor": "white",
           "landcolor": "#E5ECF6",
           "showlakes": true,
           "showland": true,
           "subunitcolor": "white"
          },
          "hoverlabel": {
           "align": "left"
          },
          "hovermode": "closest",
          "mapbox": {
           "style": "light"
          },
          "paper_bgcolor": "white",
          "plot_bgcolor": "#E5ECF6",
          "polar": {
           "angularaxis": {
            "gridcolor": "white",
            "linecolor": "white",
            "ticks": ""
           },
           "bgcolor": "#E5ECF6",
           "radialaxis": {
            "gridcolor": "white",
            "linecolor": "white",
            "ticks": ""
           }
          },
          "scene": {
           "xaxis": {
            "backgroundcolor": "#E5ECF6",
            "gridcolor": "white",
            "gridwidth": 2,
            "linecolor": "white",
            "showbackground": true,
            "ticks": "",
            "zerolinecolor": "white"
           },
           "yaxis": {
            "backgroundcolor": "#E5ECF6",
            "gridcolor": "white",
            "gridwidth": 2,
            "linecolor": "white",
            "showbackground": true,
            "ticks": "",
            "zerolinecolor": "white"
           },
           "zaxis": {
            "backgroundcolor": "#E5ECF6",
            "gridcolor": "white",
            "gridwidth": 2,
            "linecolor": "white",
            "showbackground": true,
            "ticks": "",
            "zerolinecolor": "white"
           }
          },
          "shapedefaults": {
           "line": {
            "color": "#2a3f5f"
           }
          },
          "ternary": {
           "aaxis": {
            "gridcolor": "white",
            "linecolor": "white",
            "ticks": ""
           },
           "baxis": {
            "gridcolor": "white",
            "linecolor": "white",
            "ticks": ""
           },
           "bgcolor": "#E5ECF6",
           "caxis": {
            "gridcolor": "white",
            "linecolor": "white",
            "ticks": ""
           }
          },
          "title": {
           "x": 0.05
          },
          "xaxis": {
           "automargin": true,
           "gridcolor": "white",
           "linecolor": "white",
           "ticks": "",
           "title": {
            "standoff": 15
           },
           "zerolinecolor": "white",
           "zerolinewidth": 2
          },
          "yaxis": {
           "automargin": true,
           "gridcolor": "white",
           "linecolor": "white",
           "ticks": "",
           "title": {
            "standoff": 15
           },
           "zerolinecolor": "white",
           "zerolinewidth": 2
          }
         }
        },
        "title": {
         "text": "Optimization History Plot"
        },
        "xaxis": {
         "title": {
          "text": "Trial"
         }
        },
        "yaxis": {
         "title": {
          "text": "Objective Value"
         }
        }
       }
      }
     },
     "metadata": {},
     "output_type": "display_data"
    }
   ],
   "source": [
    "# 1. Optimization History\n",
    "plot_optimization_history(study).show()"
   ]
  },
  {
   "cell_type": "code",
   "execution_count": 18,
   "metadata": {},
   "outputs": [
    {
     "data": {
      "application/vnd.plotly.v1+json": {
       "config": {
        "plotlyServerURL": "https://plot.ly"
       },
       "data": [
        {
         "dimensions": [
          {
           "label": "Objective Value",
           "range": [
            0.7579143389199254,
            0.7746741154562384
           ],
           "values": [
            0.7690875232774674,
            0.7672253258845437,
            0.7728119180633147,
            0.7653631284916201,
            0.7690875232774674,
            0.7579143389199254,
            0.7653631284916201,
            0.7728119180633147,
            0.7728119180633147,
            0.7709497206703911,
            0.7728119180633147,
            0.7728119180633147,
            0.7690875232774674,
            0.7746741154562384,
            0.7616387337057727,
            0.7709497206703911
           ]
          },
          {
           "label": "max_depth",
           "range": [
            5,
            20
           ],
           "values": [
            5,
            10,
            15,
            15,
            20,
            10,
            5,
            20,
            15,
            10,
            20,
            15,
            5,
            5,
            10,
            20
           ]
          },
          {
           "label": "n_estimators",
           "range": [
            50,
            200
           ],
           "values": [
            100,
            150,
            50,
            100,
            100,
            50,
            150,
            150,
            150,
            200,
            200,
            200,
            200,
            50,
            100,
            50
           ]
          }
         ],
         "labelangle": 30,
         "labelside": "bottom",
         "line": {
          "color": [
           0.7690875232774674,
           0.7672253258845437,
           0.7728119180633147,
           0.7653631284916201,
           0.7690875232774674,
           0.7579143389199254,
           0.7653631284916201,
           0.7728119180633147,
           0.7728119180633147,
           0.7709497206703911,
           0.7728119180633147,
           0.7728119180633147,
           0.7690875232774674,
           0.7746741154562384,
           0.7616387337057727,
           0.7709497206703911
          ],
          "colorbar": {
           "title": {
            "text": "Objective Value"
           }
          },
          "colorscale": [
           [
            0,
            "rgb(247,251,255)"
           ],
           [
            0.125,
            "rgb(222,235,247)"
           ],
           [
            0.25,
            "rgb(198,219,239)"
           ],
           [
            0.375,
            "rgb(158,202,225)"
           ],
           [
            0.5,
            "rgb(107,174,214)"
           ],
           [
            0.625,
            "rgb(66,146,198)"
           ],
           [
            0.75,
            "rgb(33,113,181)"
           ],
           [
            0.875,
            "rgb(8,81,156)"
           ],
           [
            1,
            "rgb(8,48,107)"
           ]
          ],
          "reversescale": false,
          "showscale": true
         },
         "type": "parcoords"
        }
       ],
       "layout": {
        "template": {
         "data": {
          "bar": [
           {
            "error_x": {
             "color": "#2a3f5f"
            },
            "error_y": {
             "color": "#2a3f5f"
            },
            "marker": {
             "line": {
              "color": "#E5ECF6",
              "width": 0.5
             },
             "pattern": {
              "fillmode": "overlay",
              "size": 10,
              "solidity": 0.2
             }
            },
            "type": "bar"
           }
          ],
          "barpolar": [
           {
            "marker": {
             "line": {
              "color": "#E5ECF6",
              "width": 0.5
             },
             "pattern": {
              "fillmode": "overlay",
              "size": 10,
              "solidity": 0.2
             }
            },
            "type": "barpolar"
           }
          ],
          "carpet": [
           {
            "aaxis": {
             "endlinecolor": "#2a3f5f",
             "gridcolor": "white",
             "linecolor": "white",
             "minorgridcolor": "white",
             "startlinecolor": "#2a3f5f"
            },
            "baxis": {
             "endlinecolor": "#2a3f5f",
             "gridcolor": "white",
             "linecolor": "white",
             "minorgridcolor": "white",
             "startlinecolor": "#2a3f5f"
            },
            "type": "carpet"
           }
          ],
          "choropleth": [
           {
            "colorbar": {
             "outlinewidth": 0,
             "ticks": ""
            },
            "type": "choropleth"
           }
          ],
          "contour": [
           {
            "colorbar": {
             "outlinewidth": 0,
             "ticks": ""
            },
            "colorscale": [
             [
              0,
              "#0d0887"
             ],
             [
              0.1111111111111111,
              "#46039f"
             ],
             [
              0.2222222222222222,
              "#7201a8"
             ],
             [
              0.3333333333333333,
              "#9c179e"
             ],
             [
              0.4444444444444444,
              "#bd3786"
             ],
             [
              0.5555555555555556,
              "#d8576b"
             ],
             [
              0.6666666666666666,
              "#ed7953"
             ],
             [
              0.7777777777777778,
              "#fb9f3a"
             ],
             [
              0.8888888888888888,
              "#fdca26"
             ],
             [
              1,
              "#f0f921"
             ]
            ],
            "type": "contour"
           }
          ],
          "contourcarpet": [
           {
            "colorbar": {
             "outlinewidth": 0,
             "ticks": ""
            },
            "type": "contourcarpet"
           }
          ],
          "heatmap": [
           {
            "colorbar": {
             "outlinewidth": 0,
             "ticks": ""
            },
            "colorscale": [
             [
              0,
              "#0d0887"
             ],
             [
              0.1111111111111111,
              "#46039f"
             ],
             [
              0.2222222222222222,
              "#7201a8"
             ],
             [
              0.3333333333333333,
              "#9c179e"
             ],
             [
              0.4444444444444444,
              "#bd3786"
             ],
             [
              0.5555555555555556,
              "#d8576b"
             ],
             [
              0.6666666666666666,
              "#ed7953"
             ],
             [
              0.7777777777777778,
              "#fb9f3a"
             ],
             [
              0.8888888888888888,
              "#fdca26"
             ],
             [
              1,
              "#f0f921"
             ]
            ],
            "type": "heatmap"
           }
          ],
          "histogram": [
           {
            "marker": {
             "pattern": {
              "fillmode": "overlay",
              "size": 10,
              "solidity": 0.2
             }
            },
            "type": "histogram"
           }
          ],
          "histogram2d": [
           {
            "colorbar": {
             "outlinewidth": 0,
             "ticks": ""
            },
            "colorscale": [
             [
              0,
              "#0d0887"
             ],
             [
              0.1111111111111111,
              "#46039f"
             ],
             [
              0.2222222222222222,
              "#7201a8"
             ],
             [
              0.3333333333333333,
              "#9c179e"
             ],
             [
              0.4444444444444444,
              "#bd3786"
             ],
             [
              0.5555555555555556,
              "#d8576b"
             ],
             [
              0.6666666666666666,
              "#ed7953"
             ],
             [
              0.7777777777777778,
              "#fb9f3a"
             ],
             [
              0.8888888888888888,
              "#fdca26"
             ],
             [
              1,
              "#f0f921"
             ]
            ],
            "type": "histogram2d"
           }
          ],
          "histogram2dcontour": [
           {
            "colorbar": {
             "outlinewidth": 0,
             "ticks": ""
            },
            "colorscale": [
             [
              0,
              "#0d0887"
             ],
             [
              0.1111111111111111,
              "#46039f"
             ],
             [
              0.2222222222222222,
              "#7201a8"
             ],
             [
              0.3333333333333333,
              "#9c179e"
             ],
             [
              0.4444444444444444,
              "#bd3786"
             ],
             [
              0.5555555555555556,
              "#d8576b"
             ],
             [
              0.6666666666666666,
              "#ed7953"
             ],
             [
              0.7777777777777778,
              "#fb9f3a"
             ],
             [
              0.8888888888888888,
              "#fdca26"
             ],
             [
              1,
              "#f0f921"
             ]
            ],
            "type": "histogram2dcontour"
           }
          ],
          "mesh3d": [
           {
            "colorbar": {
             "outlinewidth": 0,
             "ticks": ""
            },
            "type": "mesh3d"
           }
          ],
          "parcoords": [
           {
            "line": {
             "colorbar": {
              "outlinewidth": 0,
              "ticks": ""
             }
            },
            "type": "parcoords"
           }
          ],
          "pie": [
           {
            "automargin": true,
            "type": "pie"
           }
          ],
          "scatter": [
           {
            "fillpattern": {
             "fillmode": "overlay",
             "size": 10,
             "solidity": 0.2
            },
            "type": "scatter"
           }
          ],
          "scatter3d": [
           {
            "line": {
             "colorbar": {
              "outlinewidth": 0,
              "ticks": ""
             }
            },
            "marker": {
             "colorbar": {
              "outlinewidth": 0,
              "ticks": ""
             }
            },
            "type": "scatter3d"
           }
          ],
          "scattercarpet": [
           {
            "marker": {
             "colorbar": {
              "outlinewidth": 0,
              "ticks": ""
             }
            },
            "type": "scattercarpet"
           }
          ],
          "scattergeo": [
           {
            "marker": {
             "colorbar": {
              "outlinewidth": 0,
              "ticks": ""
             }
            },
            "type": "scattergeo"
           }
          ],
          "scattergl": [
           {
            "marker": {
             "colorbar": {
              "outlinewidth": 0,
              "ticks": ""
             }
            },
            "type": "scattergl"
           }
          ],
          "scattermap": [
           {
            "marker": {
             "colorbar": {
              "outlinewidth": 0,
              "ticks": ""
             }
            },
            "type": "scattermap"
           }
          ],
          "scattermapbox": [
           {
            "marker": {
             "colorbar": {
              "outlinewidth": 0,
              "ticks": ""
             }
            },
            "type": "scattermapbox"
           }
          ],
          "scatterpolar": [
           {
            "marker": {
             "colorbar": {
              "outlinewidth": 0,
              "ticks": ""
             }
            },
            "type": "scatterpolar"
           }
          ],
          "scatterpolargl": [
           {
            "marker": {
             "colorbar": {
              "outlinewidth": 0,
              "ticks": ""
             }
            },
            "type": "scatterpolargl"
           }
          ],
          "scatterternary": [
           {
            "marker": {
             "colorbar": {
              "outlinewidth": 0,
              "ticks": ""
             }
            },
            "type": "scatterternary"
           }
          ],
          "surface": [
           {
            "colorbar": {
             "outlinewidth": 0,
             "ticks": ""
            },
            "colorscale": [
             [
              0,
              "#0d0887"
             ],
             [
              0.1111111111111111,
              "#46039f"
             ],
             [
              0.2222222222222222,
              "#7201a8"
             ],
             [
              0.3333333333333333,
              "#9c179e"
             ],
             [
              0.4444444444444444,
              "#bd3786"
             ],
             [
              0.5555555555555556,
              "#d8576b"
             ],
             [
              0.6666666666666666,
              "#ed7953"
             ],
             [
              0.7777777777777778,
              "#fb9f3a"
             ],
             [
              0.8888888888888888,
              "#fdca26"
             ],
             [
              1,
              "#f0f921"
             ]
            ],
            "type": "surface"
           }
          ],
          "table": [
           {
            "cells": {
             "fill": {
              "color": "#EBF0F8"
             },
             "line": {
              "color": "white"
             }
            },
            "header": {
             "fill": {
              "color": "#C8D4E3"
             },
             "line": {
              "color": "white"
             }
            },
            "type": "table"
           }
          ]
         },
         "layout": {
          "annotationdefaults": {
           "arrowcolor": "#2a3f5f",
           "arrowhead": 0,
           "arrowwidth": 1
          },
          "autotypenumbers": "strict",
          "coloraxis": {
           "colorbar": {
            "outlinewidth": 0,
            "ticks": ""
           }
          },
          "colorscale": {
           "diverging": [
            [
             0,
             "#8e0152"
            ],
            [
             0.1,
             "#c51b7d"
            ],
            [
             0.2,
             "#de77ae"
            ],
            [
             0.3,
             "#f1b6da"
            ],
            [
             0.4,
             "#fde0ef"
            ],
            [
             0.5,
             "#f7f7f7"
            ],
            [
             0.6,
             "#e6f5d0"
            ],
            [
             0.7,
             "#b8e186"
            ],
            [
             0.8,
             "#7fbc41"
            ],
            [
             0.9,
             "#4d9221"
            ],
            [
             1,
             "#276419"
            ]
           ],
           "sequential": [
            [
             0,
             "#0d0887"
            ],
            [
             0.1111111111111111,
             "#46039f"
            ],
            [
             0.2222222222222222,
             "#7201a8"
            ],
            [
             0.3333333333333333,
             "#9c179e"
            ],
            [
             0.4444444444444444,
             "#bd3786"
            ],
            [
             0.5555555555555556,
             "#d8576b"
            ],
            [
             0.6666666666666666,
             "#ed7953"
            ],
            [
             0.7777777777777778,
             "#fb9f3a"
            ],
            [
             0.8888888888888888,
             "#fdca26"
            ],
            [
             1,
             "#f0f921"
            ]
           ],
           "sequentialminus": [
            [
             0,
             "#0d0887"
            ],
            [
             0.1111111111111111,
             "#46039f"
            ],
            [
             0.2222222222222222,
             "#7201a8"
            ],
            [
             0.3333333333333333,
             "#9c179e"
            ],
            [
             0.4444444444444444,
             "#bd3786"
            ],
            [
             0.5555555555555556,
             "#d8576b"
            ],
            [
             0.6666666666666666,
             "#ed7953"
            ],
            [
             0.7777777777777778,
             "#fb9f3a"
            ],
            [
             0.8888888888888888,
             "#fdca26"
            ],
            [
             1,
             "#f0f921"
            ]
           ]
          },
          "colorway": [
           "#636efa",
           "#EF553B",
           "#00cc96",
           "#ab63fa",
           "#FFA15A",
           "#19d3f3",
           "#FF6692",
           "#B6E880",
           "#FF97FF",
           "#FECB52"
          ],
          "font": {
           "color": "#2a3f5f"
          },
          "geo": {
           "bgcolor": "white",
           "lakecolor": "white",
           "landcolor": "#E5ECF6",
           "showlakes": true,
           "showland": true,
           "subunitcolor": "white"
          },
          "hoverlabel": {
           "align": "left"
          },
          "hovermode": "closest",
          "mapbox": {
           "style": "light"
          },
          "paper_bgcolor": "white",
          "plot_bgcolor": "#E5ECF6",
          "polar": {
           "angularaxis": {
            "gridcolor": "white",
            "linecolor": "white",
            "ticks": ""
           },
           "bgcolor": "#E5ECF6",
           "radialaxis": {
            "gridcolor": "white",
            "linecolor": "white",
            "ticks": ""
           }
          },
          "scene": {
           "xaxis": {
            "backgroundcolor": "#E5ECF6",
            "gridcolor": "white",
            "gridwidth": 2,
            "linecolor": "white",
            "showbackground": true,
            "ticks": "",
            "zerolinecolor": "white"
           },
           "yaxis": {
            "backgroundcolor": "#E5ECF6",
            "gridcolor": "white",
            "gridwidth": 2,
            "linecolor": "white",
            "showbackground": true,
            "ticks": "",
            "zerolinecolor": "white"
           },
           "zaxis": {
            "backgroundcolor": "#E5ECF6",
            "gridcolor": "white",
            "gridwidth": 2,
            "linecolor": "white",
            "showbackground": true,
            "ticks": "",
            "zerolinecolor": "white"
           }
          },
          "shapedefaults": {
           "line": {
            "color": "#2a3f5f"
           }
          },
          "ternary": {
           "aaxis": {
            "gridcolor": "white",
            "linecolor": "white",
            "ticks": ""
           },
           "baxis": {
            "gridcolor": "white",
            "linecolor": "white",
            "ticks": ""
           },
           "bgcolor": "#E5ECF6",
           "caxis": {
            "gridcolor": "white",
            "linecolor": "white",
            "ticks": ""
           }
          },
          "title": {
           "x": 0.05
          },
          "xaxis": {
           "automargin": true,
           "gridcolor": "white",
           "linecolor": "white",
           "ticks": "",
           "title": {
            "standoff": 15
           },
           "zerolinecolor": "white",
           "zerolinewidth": 2
          },
          "yaxis": {
           "automargin": true,
           "gridcolor": "white",
           "linecolor": "white",
           "ticks": "",
           "title": {
            "standoff": 15
           },
           "zerolinecolor": "white",
           "zerolinewidth": 2
          }
         }
        },
        "title": {
         "text": "Parallel Coordinate Plot"
        }
       }
      }
     },
     "metadata": {},
     "output_type": "display_data"
    }
   ],
   "source": [
    "# 2. Parallel Coordinates Plot\n",
    "plot_parallel_coordinate(study).show()"
   ]
  },
  {
   "cell_type": "code",
   "execution_count": 19,
   "metadata": {},
   "outputs": [
    {
     "data": {
      "application/vnd.plotly.v1+json": {
       "config": {
        "plotlyServerURL": "https://plot.ly"
       },
       "data": [
        {
         "marker": {
          "color": [
           0,
           1,
           2,
           3,
           4,
           5,
           6,
           7,
           8,
           9,
           10,
           11,
           12,
           13,
           14,
           15
          ],
          "colorbar": {
           "title": {
            "text": "Trial"
           },
           "x": 1,
           "xpad": 40
          },
          "colorscale": [
           [
            0,
            "rgb(247,251,255)"
           ],
           [
            0.125,
            "rgb(222,235,247)"
           ],
           [
            0.25,
            "rgb(198,219,239)"
           ],
           [
            0.375,
            "rgb(158,202,225)"
           ],
           [
            0.5,
            "rgb(107,174,214)"
           ],
           [
            0.625,
            "rgb(66,146,198)"
           ],
           [
            0.75,
            "rgb(33,113,181)"
           ],
           [
            0.875,
            "rgb(8,81,156)"
           ],
           [
            1,
            "rgb(8,48,107)"
           ]
          ],
          "line": {
           "color": "Grey",
           "width": 0.5
          },
          "showscale": true
         },
         "mode": "markers",
         "name": "Feasible Trial",
         "showlegend": false,
         "type": "scatter",
         "x": [
          5,
          10,
          15,
          15,
          20,
          10,
          5,
          20,
          15,
          10,
          20,
          15,
          5,
          5,
          10,
          20
         ],
         "xaxis": "x",
         "y": [
          0.7690875232774674,
          0.7672253258845437,
          0.7728119180633147,
          0.7653631284916201,
          0.7690875232774674,
          0.7579143389199254,
          0.7653631284916201,
          0.7728119180633147,
          0.7728119180633147,
          0.7709497206703911,
          0.7728119180633147,
          0.7728119180633147,
          0.7690875232774674,
          0.7746741154562384,
          0.7616387337057727,
          0.7709497206703911
         ],
         "yaxis": "y"
        },
        {
         "marker": {
          "color": [
           0,
           1,
           2,
           3,
           4,
           5,
           6,
           7,
           8,
           9,
           10,
           11,
           12,
           13,
           14,
           15
          ],
          "colorbar": {
           "title": {
            "text": "Trial"
           },
           "x": 1,
           "xpad": 40
          },
          "colorscale": [
           [
            0,
            "rgb(247,251,255)"
           ],
           [
            0.125,
            "rgb(222,235,247)"
           ],
           [
            0.25,
            "rgb(198,219,239)"
           ],
           [
            0.375,
            "rgb(158,202,225)"
           ],
           [
            0.5,
            "rgb(107,174,214)"
           ],
           [
            0.625,
            "rgb(66,146,198)"
           ],
           [
            0.75,
            "rgb(33,113,181)"
           ],
           [
            0.875,
            "rgb(8,81,156)"
           ],
           [
            1,
            "rgb(8,48,107)"
           ]
          ],
          "line": {
           "color": "Grey",
           "width": 0.5
          },
          "showscale": false
         },
         "mode": "markers",
         "name": "Feasible Trial",
         "showlegend": false,
         "type": "scatter",
         "x": [
          100,
          150,
          50,
          100,
          100,
          50,
          150,
          150,
          150,
          200,
          200,
          200,
          200,
          50,
          100,
          50
         ],
         "xaxis": "x2",
         "y": [
          0.7690875232774674,
          0.7672253258845437,
          0.7728119180633147,
          0.7653631284916201,
          0.7690875232774674,
          0.7579143389199254,
          0.7653631284916201,
          0.7728119180633147,
          0.7728119180633147,
          0.7709497206703911,
          0.7728119180633147,
          0.7728119180633147,
          0.7690875232774674,
          0.7746741154562384,
          0.7616387337057727,
          0.7709497206703911
         ],
         "yaxis": "y2"
        }
       ],
       "layout": {
        "template": {
         "data": {
          "bar": [
           {
            "error_x": {
             "color": "#2a3f5f"
            },
            "error_y": {
             "color": "#2a3f5f"
            },
            "marker": {
             "line": {
              "color": "#E5ECF6",
              "width": 0.5
             },
             "pattern": {
              "fillmode": "overlay",
              "size": 10,
              "solidity": 0.2
             }
            },
            "type": "bar"
           }
          ],
          "barpolar": [
           {
            "marker": {
             "line": {
              "color": "#E5ECF6",
              "width": 0.5
             },
             "pattern": {
              "fillmode": "overlay",
              "size": 10,
              "solidity": 0.2
             }
            },
            "type": "barpolar"
           }
          ],
          "carpet": [
           {
            "aaxis": {
             "endlinecolor": "#2a3f5f",
             "gridcolor": "white",
             "linecolor": "white",
             "minorgridcolor": "white",
             "startlinecolor": "#2a3f5f"
            },
            "baxis": {
             "endlinecolor": "#2a3f5f",
             "gridcolor": "white",
             "linecolor": "white",
             "minorgridcolor": "white",
             "startlinecolor": "#2a3f5f"
            },
            "type": "carpet"
           }
          ],
          "choropleth": [
           {
            "colorbar": {
             "outlinewidth": 0,
             "ticks": ""
            },
            "type": "choropleth"
           }
          ],
          "contour": [
           {
            "colorbar": {
             "outlinewidth": 0,
             "ticks": ""
            },
            "colorscale": [
             [
              0,
              "#0d0887"
             ],
             [
              0.1111111111111111,
              "#46039f"
             ],
             [
              0.2222222222222222,
              "#7201a8"
             ],
             [
              0.3333333333333333,
              "#9c179e"
             ],
             [
              0.4444444444444444,
              "#bd3786"
             ],
             [
              0.5555555555555556,
              "#d8576b"
             ],
             [
              0.6666666666666666,
              "#ed7953"
             ],
             [
              0.7777777777777778,
              "#fb9f3a"
             ],
             [
              0.8888888888888888,
              "#fdca26"
             ],
             [
              1,
              "#f0f921"
             ]
            ],
            "type": "contour"
           }
          ],
          "contourcarpet": [
           {
            "colorbar": {
             "outlinewidth": 0,
             "ticks": ""
            },
            "type": "contourcarpet"
           }
          ],
          "heatmap": [
           {
            "colorbar": {
             "outlinewidth": 0,
             "ticks": ""
            },
            "colorscale": [
             [
              0,
              "#0d0887"
             ],
             [
              0.1111111111111111,
              "#46039f"
             ],
             [
              0.2222222222222222,
              "#7201a8"
             ],
             [
              0.3333333333333333,
              "#9c179e"
             ],
             [
              0.4444444444444444,
              "#bd3786"
             ],
             [
              0.5555555555555556,
              "#d8576b"
             ],
             [
              0.6666666666666666,
              "#ed7953"
             ],
             [
              0.7777777777777778,
              "#fb9f3a"
             ],
             [
              0.8888888888888888,
              "#fdca26"
             ],
             [
              1,
              "#f0f921"
             ]
            ],
            "type": "heatmap"
           }
          ],
          "histogram": [
           {
            "marker": {
             "pattern": {
              "fillmode": "overlay",
              "size": 10,
              "solidity": 0.2
             }
            },
            "type": "histogram"
           }
          ],
          "histogram2d": [
           {
            "colorbar": {
             "outlinewidth": 0,
             "ticks": ""
            },
            "colorscale": [
             [
              0,
              "#0d0887"
             ],
             [
              0.1111111111111111,
              "#46039f"
             ],
             [
              0.2222222222222222,
              "#7201a8"
             ],
             [
              0.3333333333333333,
              "#9c179e"
             ],
             [
              0.4444444444444444,
              "#bd3786"
             ],
             [
              0.5555555555555556,
              "#d8576b"
             ],
             [
              0.6666666666666666,
              "#ed7953"
             ],
             [
              0.7777777777777778,
              "#fb9f3a"
             ],
             [
              0.8888888888888888,
              "#fdca26"
             ],
             [
              1,
              "#f0f921"
             ]
            ],
            "type": "histogram2d"
           }
          ],
          "histogram2dcontour": [
           {
            "colorbar": {
             "outlinewidth": 0,
             "ticks": ""
            },
            "colorscale": [
             [
              0,
              "#0d0887"
             ],
             [
              0.1111111111111111,
              "#46039f"
             ],
             [
              0.2222222222222222,
              "#7201a8"
             ],
             [
              0.3333333333333333,
              "#9c179e"
             ],
             [
              0.4444444444444444,
              "#bd3786"
             ],
             [
              0.5555555555555556,
              "#d8576b"
             ],
             [
              0.6666666666666666,
              "#ed7953"
             ],
             [
              0.7777777777777778,
              "#fb9f3a"
             ],
             [
              0.8888888888888888,
              "#fdca26"
             ],
             [
              1,
              "#f0f921"
             ]
            ],
            "type": "histogram2dcontour"
           }
          ],
          "mesh3d": [
           {
            "colorbar": {
             "outlinewidth": 0,
             "ticks": ""
            },
            "type": "mesh3d"
           }
          ],
          "parcoords": [
           {
            "line": {
             "colorbar": {
              "outlinewidth": 0,
              "ticks": ""
             }
            },
            "type": "parcoords"
           }
          ],
          "pie": [
           {
            "automargin": true,
            "type": "pie"
           }
          ],
          "scatter": [
           {
            "fillpattern": {
             "fillmode": "overlay",
             "size": 10,
             "solidity": 0.2
            },
            "type": "scatter"
           }
          ],
          "scatter3d": [
           {
            "line": {
             "colorbar": {
              "outlinewidth": 0,
              "ticks": ""
             }
            },
            "marker": {
             "colorbar": {
              "outlinewidth": 0,
              "ticks": ""
             }
            },
            "type": "scatter3d"
           }
          ],
          "scattercarpet": [
           {
            "marker": {
             "colorbar": {
              "outlinewidth": 0,
              "ticks": ""
             }
            },
            "type": "scattercarpet"
           }
          ],
          "scattergeo": [
           {
            "marker": {
             "colorbar": {
              "outlinewidth": 0,
              "ticks": ""
             }
            },
            "type": "scattergeo"
           }
          ],
          "scattergl": [
           {
            "marker": {
             "colorbar": {
              "outlinewidth": 0,
              "ticks": ""
             }
            },
            "type": "scattergl"
           }
          ],
          "scattermap": [
           {
            "marker": {
             "colorbar": {
              "outlinewidth": 0,
              "ticks": ""
             }
            },
            "type": "scattermap"
           }
          ],
          "scattermapbox": [
           {
            "marker": {
             "colorbar": {
              "outlinewidth": 0,
              "ticks": ""
             }
            },
            "type": "scattermapbox"
           }
          ],
          "scatterpolar": [
           {
            "marker": {
             "colorbar": {
              "outlinewidth": 0,
              "ticks": ""
             }
            },
            "type": "scatterpolar"
           }
          ],
          "scatterpolargl": [
           {
            "marker": {
             "colorbar": {
              "outlinewidth": 0,
              "ticks": ""
             }
            },
            "type": "scatterpolargl"
           }
          ],
          "scatterternary": [
           {
            "marker": {
             "colorbar": {
              "outlinewidth": 0,
              "ticks": ""
             }
            },
            "type": "scatterternary"
           }
          ],
          "surface": [
           {
            "colorbar": {
             "outlinewidth": 0,
             "ticks": ""
            },
            "colorscale": [
             [
              0,
              "#0d0887"
             ],
             [
              0.1111111111111111,
              "#46039f"
             ],
             [
              0.2222222222222222,
              "#7201a8"
             ],
             [
              0.3333333333333333,
              "#9c179e"
             ],
             [
              0.4444444444444444,
              "#bd3786"
             ],
             [
              0.5555555555555556,
              "#d8576b"
             ],
             [
              0.6666666666666666,
              "#ed7953"
             ],
             [
              0.7777777777777778,
              "#fb9f3a"
             ],
             [
              0.8888888888888888,
              "#fdca26"
             ],
             [
              1,
              "#f0f921"
             ]
            ],
            "type": "surface"
           }
          ],
          "table": [
           {
            "cells": {
             "fill": {
              "color": "#EBF0F8"
             },
             "line": {
              "color": "white"
             }
            },
            "header": {
             "fill": {
              "color": "#C8D4E3"
             },
             "line": {
              "color": "white"
             }
            },
            "type": "table"
           }
          ]
         },
         "layout": {
          "annotationdefaults": {
           "arrowcolor": "#2a3f5f",
           "arrowhead": 0,
           "arrowwidth": 1
          },
          "autotypenumbers": "strict",
          "coloraxis": {
           "colorbar": {
            "outlinewidth": 0,
            "ticks": ""
           }
          },
          "colorscale": {
           "diverging": [
            [
             0,
             "#8e0152"
            ],
            [
             0.1,
             "#c51b7d"
            ],
            [
             0.2,
             "#de77ae"
            ],
            [
             0.3,
             "#f1b6da"
            ],
            [
             0.4,
             "#fde0ef"
            ],
            [
             0.5,
             "#f7f7f7"
            ],
            [
             0.6,
             "#e6f5d0"
            ],
            [
             0.7,
             "#b8e186"
            ],
            [
             0.8,
             "#7fbc41"
            ],
            [
             0.9,
             "#4d9221"
            ],
            [
             1,
             "#276419"
            ]
           ],
           "sequential": [
            [
             0,
             "#0d0887"
            ],
            [
             0.1111111111111111,
             "#46039f"
            ],
            [
             0.2222222222222222,
             "#7201a8"
            ],
            [
             0.3333333333333333,
             "#9c179e"
            ],
            [
             0.4444444444444444,
             "#bd3786"
            ],
            [
             0.5555555555555556,
             "#d8576b"
            ],
            [
             0.6666666666666666,
             "#ed7953"
            ],
            [
             0.7777777777777778,
             "#fb9f3a"
            ],
            [
             0.8888888888888888,
             "#fdca26"
            ],
            [
             1,
             "#f0f921"
            ]
           ],
           "sequentialminus": [
            [
             0,
             "#0d0887"
            ],
            [
             0.1111111111111111,
             "#46039f"
            ],
            [
             0.2222222222222222,
             "#7201a8"
            ],
            [
             0.3333333333333333,
             "#9c179e"
            ],
            [
             0.4444444444444444,
             "#bd3786"
            ],
            [
             0.5555555555555556,
             "#d8576b"
            ],
            [
             0.6666666666666666,
             "#ed7953"
            ],
            [
             0.7777777777777778,
             "#fb9f3a"
            ],
            [
             0.8888888888888888,
             "#fdca26"
            ],
            [
             1,
             "#f0f921"
            ]
           ]
          },
          "colorway": [
           "#636efa",
           "#EF553B",
           "#00cc96",
           "#ab63fa",
           "#FFA15A",
           "#19d3f3",
           "#FF6692",
           "#B6E880",
           "#FF97FF",
           "#FECB52"
          ],
          "font": {
           "color": "#2a3f5f"
          },
          "geo": {
           "bgcolor": "white",
           "lakecolor": "white",
           "landcolor": "#E5ECF6",
           "showlakes": true,
           "showland": true,
           "subunitcolor": "white"
          },
          "hoverlabel": {
           "align": "left"
          },
          "hovermode": "closest",
          "mapbox": {
           "style": "light"
          },
          "paper_bgcolor": "white",
          "plot_bgcolor": "#E5ECF6",
          "polar": {
           "angularaxis": {
            "gridcolor": "white",
            "linecolor": "white",
            "ticks": ""
           },
           "bgcolor": "#E5ECF6",
           "radialaxis": {
            "gridcolor": "white",
            "linecolor": "white",
            "ticks": ""
           }
          },
          "scene": {
           "xaxis": {
            "backgroundcolor": "#E5ECF6",
            "gridcolor": "white",
            "gridwidth": 2,
            "linecolor": "white",
            "showbackground": true,
            "ticks": "",
            "zerolinecolor": "white"
           },
           "yaxis": {
            "backgroundcolor": "#E5ECF6",
            "gridcolor": "white",
            "gridwidth": 2,
            "linecolor": "white",
            "showbackground": true,
            "ticks": "",
            "zerolinecolor": "white"
           },
           "zaxis": {
            "backgroundcolor": "#E5ECF6",
            "gridcolor": "white",
            "gridwidth": 2,
            "linecolor": "white",
            "showbackground": true,
            "ticks": "",
            "zerolinecolor": "white"
           }
          },
          "shapedefaults": {
           "line": {
            "color": "#2a3f5f"
           }
          },
          "ternary": {
           "aaxis": {
            "gridcolor": "white",
            "linecolor": "white",
            "ticks": ""
           },
           "baxis": {
            "gridcolor": "white",
            "linecolor": "white",
            "ticks": ""
           },
           "bgcolor": "#E5ECF6",
           "caxis": {
            "gridcolor": "white",
            "linecolor": "white",
            "ticks": ""
           }
          },
          "title": {
           "x": 0.05
          },
          "xaxis": {
           "automargin": true,
           "gridcolor": "white",
           "linecolor": "white",
           "ticks": "",
           "title": {
            "standoff": 15
           },
           "zerolinecolor": "white",
           "zerolinewidth": 2
          },
          "yaxis": {
           "automargin": true,
           "gridcolor": "white",
           "linecolor": "white",
           "ticks": "",
           "title": {
            "standoff": 15
           },
           "zerolinecolor": "white",
           "zerolinewidth": 2
          }
         }
        },
        "title": {
         "text": "Slice Plot"
        },
        "xaxis": {
         "anchor": "y",
         "domain": [
          0,
          0.45
         ],
         "title": {
          "text": "max_depth"
         }
        },
        "xaxis2": {
         "anchor": "y2",
         "domain": [
          0.55,
          1
         ],
         "title": {
          "text": "n_estimators"
         }
        },
        "yaxis": {
         "anchor": "x",
         "domain": [
          0,
          1
         ],
         "title": {
          "text": "Objective Value"
         }
        },
        "yaxis2": {
         "anchor": "x2",
         "domain": [
          0,
          1
         ],
         "matches": "y",
         "showticklabels": false
        }
       }
      }
     },
     "metadata": {},
     "output_type": "display_data"
    }
   ],
   "source": [
    "# 3. Slice Plot\n",
    "plot_slice(study).show()"
   ]
  },
  {
   "cell_type": "code",
   "execution_count": 20,
   "metadata": {},
   "outputs": [
    {
     "data": {
      "application/vnd.plotly.v1+json": {
       "config": {
        "plotlyServerURL": "https://plot.ly"
       },
       "data": [
        {
         "colorbar": {
          "title": {
           "text": "Objective Value"
          }
         },
         "colorscale": [
          [
           0,
           "rgb(247,251,255)"
          ],
          [
           0.125,
           "rgb(222,235,247)"
          ],
          [
           0.25,
           "rgb(198,219,239)"
          ],
          [
           0.375,
           "rgb(158,202,225)"
          ],
          [
           0.5,
           "rgb(107,174,214)"
          ],
          [
           0.625,
           "rgb(66,146,198)"
          ],
          [
           0.75,
           "rgb(33,113,181)"
          ],
          [
           0.875,
           "rgb(8,81,156)"
          ],
          [
           1,
           "rgb(8,48,107)"
          ]
         ],
         "connectgaps": true,
         "contours": {
          "coloring": "heatmap"
         },
         "hoverinfo": "none",
         "line": {
          "smoothing": 1.3
         },
         "reversescale": false,
         "type": "contour",
         "x": [
          4.25,
          5,
          10,
          15,
          20,
          20.75
         ],
         "y": [
          42.5,
          50,
          100,
          150,
          200,
          207.5
         ],
         "z": {
          "bdata": "AAAAAAAA+H8AAAAAAAD4fwAAAAAAAPh/AAAAAAAA+H8AAAAAAAD4fwAAAAAAAPh/AAAAAAAA+H8YJ95eIcroP8iTWpLVQOg/nU9BD+C66D8jeKS/nqvoPwAAAAAAAPh/AAAAAAAA+H+ooAdwXZzoP71ClDFYX+g/s/HN0Np96D+ooAdwXZzoPwAAAAAAAPh/AAAAAAAA+H+z8c3Q2n3oPy3JaiAcjeg/nU9BD+C66D+dT0EP4LroPwAAAAAAAPh/AAAAAAAA+H+ooAdwXZzoPyN4pL+eq+g/nU9BD+C66D+dT0EP4LroPwAAAAAAAPh/AAAAAAAA+H8AAAAAAAD4fwAAAAAAAPh/AAAAAAAA+H8AAAAAAAD4fwAAAAAAAPh/",
          "dtype": "f8",
          "shape": "6, 6"
         }
        },
        {
         "marker": {
          "color": "black",
          "line": {
           "color": "Gray",
           "width": 2
          }
         },
         "mode": "markers",
         "name": "Feasible Trial",
         "showlegend": false,
         "type": "scatter",
         "x": [
          5,
          10,
          15,
          15,
          20,
          10,
          5,
          20,
          15,
          10,
          20,
          15,
          5,
          5,
          10,
          20
         ],
         "y": [
          100,
          150,
          50,
          100,
          100,
          50,
          150,
          150,
          150,
          200,
          200,
          200,
          200,
          50,
          100,
          50
         ]
        },
        {
         "marker": {
          "color": "#cccccc",
          "line": {
           "color": "Gray",
           "width": 2
          }
         },
         "mode": "markers",
         "name": "Infeasible Trial",
         "showlegend": false,
         "type": "scatter",
         "x": [],
         "y": []
        }
       ],
       "layout": {
        "template": {
         "data": {
          "bar": [
           {
            "error_x": {
             "color": "#2a3f5f"
            },
            "error_y": {
             "color": "#2a3f5f"
            },
            "marker": {
             "line": {
              "color": "#E5ECF6",
              "width": 0.5
             },
             "pattern": {
              "fillmode": "overlay",
              "size": 10,
              "solidity": 0.2
             }
            },
            "type": "bar"
           }
          ],
          "barpolar": [
           {
            "marker": {
             "line": {
              "color": "#E5ECF6",
              "width": 0.5
             },
             "pattern": {
              "fillmode": "overlay",
              "size": 10,
              "solidity": 0.2
             }
            },
            "type": "barpolar"
           }
          ],
          "carpet": [
           {
            "aaxis": {
             "endlinecolor": "#2a3f5f",
             "gridcolor": "white",
             "linecolor": "white",
             "minorgridcolor": "white",
             "startlinecolor": "#2a3f5f"
            },
            "baxis": {
             "endlinecolor": "#2a3f5f",
             "gridcolor": "white",
             "linecolor": "white",
             "minorgridcolor": "white",
             "startlinecolor": "#2a3f5f"
            },
            "type": "carpet"
           }
          ],
          "choropleth": [
           {
            "colorbar": {
             "outlinewidth": 0,
             "ticks": ""
            },
            "type": "choropleth"
           }
          ],
          "contour": [
           {
            "colorbar": {
             "outlinewidth": 0,
             "ticks": ""
            },
            "colorscale": [
             [
              0,
              "#0d0887"
             ],
             [
              0.1111111111111111,
              "#46039f"
             ],
             [
              0.2222222222222222,
              "#7201a8"
             ],
             [
              0.3333333333333333,
              "#9c179e"
             ],
             [
              0.4444444444444444,
              "#bd3786"
             ],
             [
              0.5555555555555556,
              "#d8576b"
             ],
             [
              0.6666666666666666,
              "#ed7953"
             ],
             [
              0.7777777777777778,
              "#fb9f3a"
             ],
             [
              0.8888888888888888,
              "#fdca26"
             ],
             [
              1,
              "#f0f921"
             ]
            ],
            "type": "contour"
           }
          ],
          "contourcarpet": [
           {
            "colorbar": {
             "outlinewidth": 0,
             "ticks": ""
            },
            "type": "contourcarpet"
           }
          ],
          "heatmap": [
           {
            "colorbar": {
             "outlinewidth": 0,
             "ticks": ""
            },
            "colorscale": [
             [
              0,
              "#0d0887"
             ],
             [
              0.1111111111111111,
              "#46039f"
             ],
             [
              0.2222222222222222,
              "#7201a8"
             ],
             [
              0.3333333333333333,
              "#9c179e"
             ],
             [
              0.4444444444444444,
              "#bd3786"
             ],
             [
              0.5555555555555556,
              "#d8576b"
             ],
             [
              0.6666666666666666,
              "#ed7953"
             ],
             [
              0.7777777777777778,
              "#fb9f3a"
             ],
             [
              0.8888888888888888,
              "#fdca26"
             ],
             [
              1,
              "#f0f921"
             ]
            ],
            "type": "heatmap"
           }
          ],
          "histogram": [
           {
            "marker": {
             "pattern": {
              "fillmode": "overlay",
              "size": 10,
              "solidity": 0.2
             }
            },
            "type": "histogram"
           }
          ],
          "histogram2d": [
           {
            "colorbar": {
             "outlinewidth": 0,
             "ticks": ""
            },
            "colorscale": [
             [
              0,
              "#0d0887"
             ],
             [
              0.1111111111111111,
              "#46039f"
             ],
             [
              0.2222222222222222,
              "#7201a8"
             ],
             [
              0.3333333333333333,
              "#9c179e"
             ],
             [
              0.4444444444444444,
              "#bd3786"
             ],
             [
              0.5555555555555556,
              "#d8576b"
             ],
             [
              0.6666666666666666,
              "#ed7953"
             ],
             [
              0.7777777777777778,
              "#fb9f3a"
             ],
             [
              0.8888888888888888,
              "#fdca26"
             ],
             [
              1,
              "#f0f921"
             ]
            ],
            "type": "histogram2d"
           }
          ],
          "histogram2dcontour": [
           {
            "colorbar": {
             "outlinewidth": 0,
             "ticks": ""
            },
            "colorscale": [
             [
              0,
              "#0d0887"
             ],
             [
              0.1111111111111111,
              "#46039f"
             ],
             [
              0.2222222222222222,
              "#7201a8"
             ],
             [
              0.3333333333333333,
              "#9c179e"
             ],
             [
              0.4444444444444444,
              "#bd3786"
             ],
             [
              0.5555555555555556,
              "#d8576b"
             ],
             [
              0.6666666666666666,
              "#ed7953"
             ],
             [
              0.7777777777777778,
              "#fb9f3a"
             ],
             [
              0.8888888888888888,
              "#fdca26"
             ],
             [
              1,
              "#f0f921"
             ]
            ],
            "type": "histogram2dcontour"
           }
          ],
          "mesh3d": [
           {
            "colorbar": {
             "outlinewidth": 0,
             "ticks": ""
            },
            "type": "mesh3d"
           }
          ],
          "parcoords": [
           {
            "line": {
             "colorbar": {
              "outlinewidth": 0,
              "ticks": ""
             }
            },
            "type": "parcoords"
           }
          ],
          "pie": [
           {
            "automargin": true,
            "type": "pie"
           }
          ],
          "scatter": [
           {
            "fillpattern": {
             "fillmode": "overlay",
             "size": 10,
             "solidity": 0.2
            },
            "type": "scatter"
           }
          ],
          "scatter3d": [
           {
            "line": {
             "colorbar": {
              "outlinewidth": 0,
              "ticks": ""
             }
            },
            "marker": {
             "colorbar": {
              "outlinewidth": 0,
              "ticks": ""
             }
            },
            "type": "scatter3d"
           }
          ],
          "scattercarpet": [
           {
            "marker": {
             "colorbar": {
              "outlinewidth": 0,
              "ticks": ""
             }
            },
            "type": "scattercarpet"
           }
          ],
          "scattergeo": [
           {
            "marker": {
             "colorbar": {
              "outlinewidth": 0,
              "ticks": ""
             }
            },
            "type": "scattergeo"
           }
          ],
          "scattergl": [
           {
            "marker": {
             "colorbar": {
              "outlinewidth": 0,
              "ticks": ""
             }
            },
            "type": "scattergl"
           }
          ],
          "scattermap": [
           {
            "marker": {
             "colorbar": {
              "outlinewidth": 0,
              "ticks": ""
             }
            },
            "type": "scattermap"
           }
          ],
          "scattermapbox": [
           {
            "marker": {
             "colorbar": {
              "outlinewidth": 0,
              "ticks": ""
             }
            },
            "type": "scattermapbox"
           }
          ],
          "scatterpolar": [
           {
            "marker": {
             "colorbar": {
              "outlinewidth": 0,
              "ticks": ""
             }
            },
            "type": "scatterpolar"
           }
          ],
          "scatterpolargl": [
           {
            "marker": {
             "colorbar": {
              "outlinewidth": 0,
              "ticks": ""
             }
            },
            "type": "scatterpolargl"
           }
          ],
          "scatterternary": [
           {
            "marker": {
             "colorbar": {
              "outlinewidth": 0,
              "ticks": ""
             }
            },
            "type": "scatterternary"
           }
          ],
          "surface": [
           {
            "colorbar": {
             "outlinewidth": 0,
             "ticks": ""
            },
            "colorscale": [
             [
              0,
              "#0d0887"
             ],
             [
              0.1111111111111111,
              "#46039f"
             ],
             [
              0.2222222222222222,
              "#7201a8"
             ],
             [
              0.3333333333333333,
              "#9c179e"
             ],
             [
              0.4444444444444444,
              "#bd3786"
             ],
             [
              0.5555555555555556,
              "#d8576b"
             ],
             [
              0.6666666666666666,
              "#ed7953"
             ],
             [
              0.7777777777777778,
              "#fb9f3a"
             ],
             [
              0.8888888888888888,
              "#fdca26"
             ],
             [
              1,
              "#f0f921"
             ]
            ],
            "type": "surface"
           }
          ],
          "table": [
           {
            "cells": {
             "fill": {
              "color": "#EBF0F8"
             },
             "line": {
              "color": "white"
             }
            },
            "header": {
             "fill": {
              "color": "#C8D4E3"
             },
             "line": {
              "color": "white"
             }
            },
            "type": "table"
           }
          ]
         },
         "layout": {
          "annotationdefaults": {
           "arrowcolor": "#2a3f5f",
           "arrowhead": 0,
           "arrowwidth": 1
          },
          "autotypenumbers": "strict",
          "coloraxis": {
           "colorbar": {
            "outlinewidth": 0,
            "ticks": ""
           }
          },
          "colorscale": {
           "diverging": [
            [
             0,
             "#8e0152"
            ],
            [
             0.1,
             "#c51b7d"
            ],
            [
             0.2,
             "#de77ae"
            ],
            [
             0.3,
             "#f1b6da"
            ],
            [
             0.4,
             "#fde0ef"
            ],
            [
             0.5,
             "#f7f7f7"
            ],
            [
             0.6,
             "#e6f5d0"
            ],
            [
             0.7,
             "#b8e186"
            ],
            [
             0.8,
             "#7fbc41"
            ],
            [
             0.9,
             "#4d9221"
            ],
            [
             1,
             "#276419"
            ]
           ],
           "sequential": [
            [
             0,
             "#0d0887"
            ],
            [
             0.1111111111111111,
             "#46039f"
            ],
            [
             0.2222222222222222,
             "#7201a8"
            ],
            [
             0.3333333333333333,
             "#9c179e"
            ],
            [
             0.4444444444444444,
             "#bd3786"
            ],
            [
             0.5555555555555556,
             "#d8576b"
            ],
            [
             0.6666666666666666,
             "#ed7953"
            ],
            [
             0.7777777777777778,
             "#fb9f3a"
            ],
            [
             0.8888888888888888,
             "#fdca26"
            ],
            [
             1,
             "#f0f921"
            ]
           ],
           "sequentialminus": [
            [
             0,
             "#0d0887"
            ],
            [
             0.1111111111111111,
             "#46039f"
            ],
            [
             0.2222222222222222,
             "#7201a8"
            ],
            [
             0.3333333333333333,
             "#9c179e"
            ],
            [
             0.4444444444444444,
             "#bd3786"
            ],
            [
             0.5555555555555556,
             "#d8576b"
            ],
            [
             0.6666666666666666,
             "#ed7953"
            ],
            [
             0.7777777777777778,
             "#fb9f3a"
            ],
            [
             0.8888888888888888,
             "#fdca26"
            ],
            [
             1,
             "#f0f921"
            ]
           ]
          },
          "colorway": [
           "#636efa",
           "#EF553B",
           "#00cc96",
           "#ab63fa",
           "#FFA15A",
           "#19d3f3",
           "#FF6692",
           "#B6E880",
           "#FF97FF",
           "#FECB52"
          ],
          "font": {
           "color": "#2a3f5f"
          },
          "geo": {
           "bgcolor": "white",
           "lakecolor": "white",
           "landcolor": "#E5ECF6",
           "showlakes": true,
           "showland": true,
           "subunitcolor": "white"
          },
          "hoverlabel": {
           "align": "left"
          },
          "hovermode": "closest",
          "mapbox": {
           "style": "light"
          },
          "paper_bgcolor": "white",
          "plot_bgcolor": "#E5ECF6",
          "polar": {
           "angularaxis": {
            "gridcolor": "white",
            "linecolor": "white",
            "ticks": ""
           },
           "bgcolor": "#E5ECF6",
           "radialaxis": {
            "gridcolor": "white",
            "linecolor": "white",
            "ticks": ""
           }
          },
          "scene": {
           "xaxis": {
            "backgroundcolor": "#E5ECF6",
            "gridcolor": "white",
            "gridwidth": 2,
            "linecolor": "white",
            "showbackground": true,
            "ticks": "",
            "zerolinecolor": "white"
           },
           "yaxis": {
            "backgroundcolor": "#E5ECF6",
            "gridcolor": "white",
            "gridwidth": 2,
            "linecolor": "white",
            "showbackground": true,
            "ticks": "",
            "zerolinecolor": "white"
           },
           "zaxis": {
            "backgroundcolor": "#E5ECF6",
            "gridcolor": "white",
            "gridwidth": 2,
            "linecolor": "white",
            "showbackground": true,
            "ticks": "",
            "zerolinecolor": "white"
           }
          },
          "shapedefaults": {
           "line": {
            "color": "#2a3f5f"
           }
          },
          "ternary": {
           "aaxis": {
            "gridcolor": "white",
            "linecolor": "white",
            "ticks": ""
           },
           "baxis": {
            "gridcolor": "white",
            "linecolor": "white",
            "ticks": ""
           },
           "bgcolor": "#E5ECF6",
           "caxis": {
            "gridcolor": "white",
            "linecolor": "white",
            "ticks": ""
           }
          },
          "title": {
           "x": 0.05
          },
          "xaxis": {
           "automargin": true,
           "gridcolor": "white",
           "linecolor": "white",
           "ticks": "",
           "title": {
            "standoff": 15
           },
           "zerolinecolor": "white",
           "zerolinewidth": 2
          },
          "yaxis": {
           "automargin": true,
           "gridcolor": "white",
           "linecolor": "white",
           "ticks": "",
           "title": {
            "standoff": 15
           },
           "zerolinecolor": "white",
           "zerolinewidth": 2
          }
         }
        },
        "title": {
         "text": "Contour Plot"
        },
        "xaxis": {
         "range": [
          4.25,
          20.75
         ],
         "title": {
          "text": "max_depth"
         }
        },
        "yaxis": {
         "range": [
          42.5,
          207.5
         ],
         "title": {
          "text": "n_estimators"
         }
        }
       }
      }
     },
     "metadata": {},
     "output_type": "display_data"
    }
   ],
   "source": [
    "# 4. Contour Plot\n",
    "plot_contour(study).show()"
   ]
  },
  {
   "cell_type": "code",
   "execution_count": 21,
   "metadata": {},
   "outputs": [
    {
     "data": {
      "application/vnd.plotly.v1+json": {
       "config": {
        "plotlyServerURL": "https://plot.ly"
       },
       "data": [
        {
         "cliponaxis": false,
         "hovertemplate": [
          "n_estimators (IntDistribution): 0.4075246584157766<extra></extra>",
          "max_depth (IntDistribution): 0.5924753415842233<extra></extra>"
         ],
         "name": "Objective Value",
         "orientation": "h",
         "text": [
          "0.41",
          "0.59"
         ],
         "textposition": "outside",
         "type": "bar",
         "x": [
          0.4075246584157766,
          0.5924753415842233
         ],
         "y": [
          "n_estimators",
          "max_depth"
         ]
        }
       ],
       "layout": {
        "template": {
         "data": {
          "bar": [
           {
            "error_x": {
             "color": "#2a3f5f"
            },
            "error_y": {
             "color": "#2a3f5f"
            },
            "marker": {
             "line": {
              "color": "#E5ECF6",
              "width": 0.5
             },
             "pattern": {
              "fillmode": "overlay",
              "size": 10,
              "solidity": 0.2
             }
            },
            "type": "bar"
           }
          ],
          "barpolar": [
           {
            "marker": {
             "line": {
              "color": "#E5ECF6",
              "width": 0.5
             },
             "pattern": {
              "fillmode": "overlay",
              "size": 10,
              "solidity": 0.2
             }
            },
            "type": "barpolar"
           }
          ],
          "carpet": [
           {
            "aaxis": {
             "endlinecolor": "#2a3f5f",
             "gridcolor": "white",
             "linecolor": "white",
             "minorgridcolor": "white",
             "startlinecolor": "#2a3f5f"
            },
            "baxis": {
             "endlinecolor": "#2a3f5f",
             "gridcolor": "white",
             "linecolor": "white",
             "minorgridcolor": "white",
             "startlinecolor": "#2a3f5f"
            },
            "type": "carpet"
           }
          ],
          "choropleth": [
           {
            "colorbar": {
             "outlinewidth": 0,
             "ticks": ""
            },
            "type": "choropleth"
           }
          ],
          "contour": [
           {
            "colorbar": {
             "outlinewidth": 0,
             "ticks": ""
            },
            "colorscale": [
             [
              0,
              "#0d0887"
             ],
             [
              0.1111111111111111,
              "#46039f"
             ],
             [
              0.2222222222222222,
              "#7201a8"
             ],
             [
              0.3333333333333333,
              "#9c179e"
             ],
             [
              0.4444444444444444,
              "#bd3786"
             ],
             [
              0.5555555555555556,
              "#d8576b"
             ],
             [
              0.6666666666666666,
              "#ed7953"
             ],
             [
              0.7777777777777778,
              "#fb9f3a"
             ],
             [
              0.8888888888888888,
              "#fdca26"
             ],
             [
              1,
              "#f0f921"
             ]
            ],
            "type": "contour"
           }
          ],
          "contourcarpet": [
           {
            "colorbar": {
             "outlinewidth": 0,
             "ticks": ""
            },
            "type": "contourcarpet"
           }
          ],
          "heatmap": [
           {
            "colorbar": {
             "outlinewidth": 0,
             "ticks": ""
            },
            "colorscale": [
             [
              0,
              "#0d0887"
             ],
             [
              0.1111111111111111,
              "#46039f"
             ],
             [
              0.2222222222222222,
              "#7201a8"
             ],
             [
              0.3333333333333333,
              "#9c179e"
             ],
             [
              0.4444444444444444,
              "#bd3786"
             ],
             [
              0.5555555555555556,
              "#d8576b"
             ],
             [
              0.6666666666666666,
              "#ed7953"
             ],
             [
              0.7777777777777778,
              "#fb9f3a"
             ],
             [
              0.8888888888888888,
              "#fdca26"
             ],
             [
              1,
              "#f0f921"
             ]
            ],
            "type": "heatmap"
           }
          ],
          "histogram": [
           {
            "marker": {
             "pattern": {
              "fillmode": "overlay",
              "size": 10,
              "solidity": 0.2
             }
            },
            "type": "histogram"
           }
          ],
          "histogram2d": [
           {
            "colorbar": {
             "outlinewidth": 0,
             "ticks": ""
            },
            "colorscale": [
             [
              0,
              "#0d0887"
             ],
             [
              0.1111111111111111,
              "#46039f"
             ],
             [
              0.2222222222222222,
              "#7201a8"
             ],
             [
              0.3333333333333333,
              "#9c179e"
             ],
             [
              0.4444444444444444,
              "#bd3786"
             ],
             [
              0.5555555555555556,
              "#d8576b"
             ],
             [
              0.6666666666666666,
              "#ed7953"
             ],
             [
              0.7777777777777778,
              "#fb9f3a"
             ],
             [
              0.8888888888888888,
              "#fdca26"
             ],
             [
              1,
              "#f0f921"
             ]
            ],
            "type": "histogram2d"
           }
          ],
          "histogram2dcontour": [
           {
            "colorbar": {
             "outlinewidth": 0,
             "ticks": ""
            },
            "colorscale": [
             [
              0,
              "#0d0887"
             ],
             [
              0.1111111111111111,
              "#46039f"
             ],
             [
              0.2222222222222222,
              "#7201a8"
             ],
             [
              0.3333333333333333,
              "#9c179e"
             ],
             [
              0.4444444444444444,
              "#bd3786"
             ],
             [
              0.5555555555555556,
              "#d8576b"
             ],
             [
              0.6666666666666666,
              "#ed7953"
             ],
             [
              0.7777777777777778,
              "#fb9f3a"
             ],
             [
              0.8888888888888888,
              "#fdca26"
             ],
             [
              1,
              "#f0f921"
             ]
            ],
            "type": "histogram2dcontour"
           }
          ],
          "mesh3d": [
           {
            "colorbar": {
             "outlinewidth": 0,
             "ticks": ""
            },
            "type": "mesh3d"
           }
          ],
          "parcoords": [
           {
            "line": {
             "colorbar": {
              "outlinewidth": 0,
              "ticks": ""
             }
            },
            "type": "parcoords"
           }
          ],
          "pie": [
           {
            "automargin": true,
            "type": "pie"
           }
          ],
          "scatter": [
           {
            "fillpattern": {
             "fillmode": "overlay",
             "size": 10,
             "solidity": 0.2
            },
            "type": "scatter"
           }
          ],
          "scatter3d": [
           {
            "line": {
             "colorbar": {
              "outlinewidth": 0,
              "ticks": ""
             }
            },
            "marker": {
             "colorbar": {
              "outlinewidth": 0,
              "ticks": ""
             }
            },
            "type": "scatter3d"
           }
          ],
          "scattercarpet": [
           {
            "marker": {
             "colorbar": {
              "outlinewidth": 0,
              "ticks": ""
             }
            },
            "type": "scattercarpet"
           }
          ],
          "scattergeo": [
           {
            "marker": {
             "colorbar": {
              "outlinewidth": 0,
              "ticks": ""
             }
            },
            "type": "scattergeo"
           }
          ],
          "scattergl": [
           {
            "marker": {
             "colorbar": {
              "outlinewidth": 0,
              "ticks": ""
             }
            },
            "type": "scattergl"
           }
          ],
          "scattermap": [
           {
            "marker": {
             "colorbar": {
              "outlinewidth": 0,
              "ticks": ""
             }
            },
            "type": "scattermap"
           }
          ],
          "scattermapbox": [
           {
            "marker": {
             "colorbar": {
              "outlinewidth": 0,
              "ticks": ""
             }
            },
            "type": "scattermapbox"
           }
          ],
          "scatterpolar": [
           {
            "marker": {
             "colorbar": {
              "outlinewidth": 0,
              "ticks": ""
             }
            },
            "type": "scatterpolar"
           }
          ],
          "scatterpolargl": [
           {
            "marker": {
             "colorbar": {
              "outlinewidth": 0,
              "ticks": ""
             }
            },
            "type": "scatterpolargl"
           }
          ],
          "scatterternary": [
           {
            "marker": {
             "colorbar": {
              "outlinewidth": 0,
              "ticks": ""
             }
            },
            "type": "scatterternary"
           }
          ],
          "surface": [
           {
            "colorbar": {
             "outlinewidth": 0,
             "ticks": ""
            },
            "colorscale": [
             [
              0,
              "#0d0887"
             ],
             [
              0.1111111111111111,
              "#46039f"
             ],
             [
              0.2222222222222222,
              "#7201a8"
             ],
             [
              0.3333333333333333,
              "#9c179e"
             ],
             [
              0.4444444444444444,
              "#bd3786"
             ],
             [
              0.5555555555555556,
              "#d8576b"
             ],
             [
              0.6666666666666666,
              "#ed7953"
             ],
             [
              0.7777777777777778,
              "#fb9f3a"
             ],
             [
              0.8888888888888888,
              "#fdca26"
             ],
             [
              1,
              "#f0f921"
             ]
            ],
            "type": "surface"
           }
          ],
          "table": [
           {
            "cells": {
             "fill": {
              "color": "#EBF0F8"
             },
             "line": {
              "color": "white"
             }
            },
            "header": {
             "fill": {
              "color": "#C8D4E3"
             },
             "line": {
              "color": "white"
             }
            },
            "type": "table"
           }
          ]
         },
         "layout": {
          "annotationdefaults": {
           "arrowcolor": "#2a3f5f",
           "arrowhead": 0,
           "arrowwidth": 1
          },
          "autotypenumbers": "strict",
          "coloraxis": {
           "colorbar": {
            "outlinewidth": 0,
            "ticks": ""
           }
          },
          "colorscale": {
           "diverging": [
            [
             0,
             "#8e0152"
            ],
            [
             0.1,
             "#c51b7d"
            ],
            [
             0.2,
             "#de77ae"
            ],
            [
             0.3,
             "#f1b6da"
            ],
            [
             0.4,
             "#fde0ef"
            ],
            [
             0.5,
             "#f7f7f7"
            ],
            [
             0.6,
             "#e6f5d0"
            ],
            [
             0.7,
             "#b8e186"
            ],
            [
             0.8,
             "#7fbc41"
            ],
            [
             0.9,
             "#4d9221"
            ],
            [
             1,
             "#276419"
            ]
           ],
           "sequential": [
            [
             0,
             "#0d0887"
            ],
            [
             0.1111111111111111,
             "#46039f"
            ],
            [
             0.2222222222222222,
             "#7201a8"
            ],
            [
             0.3333333333333333,
             "#9c179e"
            ],
            [
             0.4444444444444444,
             "#bd3786"
            ],
            [
             0.5555555555555556,
             "#d8576b"
            ],
            [
             0.6666666666666666,
             "#ed7953"
            ],
            [
             0.7777777777777778,
             "#fb9f3a"
            ],
            [
             0.8888888888888888,
             "#fdca26"
            ],
            [
             1,
             "#f0f921"
            ]
           ],
           "sequentialminus": [
            [
             0,
             "#0d0887"
            ],
            [
             0.1111111111111111,
             "#46039f"
            ],
            [
             0.2222222222222222,
             "#7201a8"
            ],
            [
             0.3333333333333333,
             "#9c179e"
            ],
            [
             0.4444444444444444,
             "#bd3786"
            ],
            [
             0.5555555555555556,
             "#d8576b"
            ],
            [
             0.6666666666666666,
             "#ed7953"
            ],
            [
             0.7777777777777778,
             "#fb9f3a"
            ],
            [
             0.8888888888888888,
             "#fdca26"
            ],
            [
             1,
             "#f0f921"
            ]
           ]
          },
          "colorway": [
           "#636efa",
           "#EF553B",
           "#00cc96",
           "#ab63fa",
           "#FFA15A",
           "#19d3f3",
           "#FF6692",
           "#B6E880",
           "#FF97FF",
           "#FECB52"
          ],
          "font": {
           "color": "#2a3f5f"
          },
          "geo": {
           "bgcolor": "white",
           "lakecolor": "white",
           "landcolor": "#E5ECF6",
           "showlakes": true,
           "showland": true,
           "subunitcolor": "white"
          },
          "hoverlabel": {
           "align": "left"
          },
          "hovermode": "closest",
          "mapbox": {
           "style": "light"
          },
          "paper_bgcolor": "white",
          "plot_bgcolor": "#E5ECF6",
          "polar": {
           "angularaxis": {
            "gridcolor": "white",
            "linecolor": "white",
            "ticks": ""
           },
           "bgcolor": "#E5ECF6",
           "radialaxis": {
            "gridcolor": "white",
            "linecolor": "white",
            "ticks": ""
           }
          },
          "scene": {
           "xaxis": {
            "backgroundcolor": "#E5ECF6",
            "gridcolor": "white",
            "gridwidth": 2,
            "linecolor": "white",
            "showbackground": true,
            "ticks": "",
            "zerolinecolor": "white"
           },
           "yaxis": {
            "backgroundcolor": "#E5ECF6",
            "gridcolor": "white",
            "gridwidth": 2,
            "linecolor": "white",
            "showbackground": true,
            "ticks": "",
            "zerolinecolor": "white"
           },
           "zaxis": {
            "backgroundcolor": "#E5ECF6",
            "gridcolor": "white",
            "gridwidth": 2,
            "linecolor": "white",
            "showbackground": true,
            "ticks": "",
            "zerolinecolor": "white"
           }
          },
          "shapedefaults": {
           "line": {
            "color": "#2a3f5f"
           }
          },
          "ternary": {
           "aaxis": {
            "gridcolor": "white",
            "linecolor": "white",
            "ticks": ""
           },
           "baxis": {
            "gridcolor": "white",
            "linecolor": "white",
            "ticks": ""
           },
           "bgcolor": "#E5ECF6",
           "caxis": {
            "gridcolor": "white",
            "linecolor": "white",
            "ticks": ""
           }
          },
          "title": {
           "x": 0.05
          },
          "xaxis": {
           "automargin": true,
           "gridcolor": "white",
           "linecolor": "white",
           "ticks": "",
           "title": {
            "standoff": 15
           },
           "zerolinecolor": "white",
           "zerolinewidth": 2
          },
          "yaxis": {
           "automargin": true,
           "gridcolor": "white",
           "linecolor": "white",
           "ticks": "",
           "title": {
            "standoff": 15
           },
           "zerolinecolor": "white",
           "zerolinewidth": 2
          }
         }
        },
        "title": {
         "text": "Hyperparameter Importances"
        },
        "xaxis": {
         "title": {
          "text": "Hyperparameter Importance"
         }
        },
        "yaxis": {
         "title": {
          "text": "Hyperparameter"
         }
        }
       }
      }
     },
     "metadata": {},
     "output_type": "display_data"
    }
   ],
   "source": [
    "# 5. Hyperparameter Importance\n",
    "plot_param_importances(study).show()\n"
   ]
  },
  {
   "cell_type": "markdown",
   "metadata": {},
   "source": [
    "Optimizing Multiple ML Models"
   ]
  },
  {
   "cell_type": "code",
   "execution_count": 22,
   "metadata": {},
   "outputs": [],
   "source": [
    "# Importing the required libraries\n",
    "from sklearn.ensemble import RandomForestClassifier, GradientBoostingClassifier\n",
    "from sklearn.svm import SVC"
   ]
  },
  {
   "cell_type": "code",
   "execution_count": 23,
   "metadata": {},
   "outputs": [],
   "source": [
    "# Define the objective function for Optuna\n",
    "def objective(trial):\n",
    "    # Choose the algorithm to tune\n",
    "    classifier_name = trial.suggest_categorical('classifier', ['SVM', 'RandomForest', 'GradientBoosting'])\n",
    "\n",
    "    if classifier_name == 'SVM':\n",
    "        # SVM hyperparameters\n",
    "        c = trial.suggest_float('C', 0.1, 100, log=True)\n",
    "        kernel = trial.suggest_categorical('kernel', ['linear', 'rbf', 'poly', 'sigmoid'])\n",
    "        gamma = trial.suggest_categorical('gamma', ['scale', 'auto'])\n",
    "\n",
    "        model = SVC(C=c, kernel=kernel, gamma=gamma, random_state=42)\n",
    "\n",
    "    elif classifier_name == 'RandomForest':\n",
    "        # Random Forest hyperparameters\n",
    "        n_estimators = trial.suggest_int('n_estimators', 50, 300)\n",
    "        max_depth = trial.suggest_int('max_depth', 3, 20)\n",
    "        min_samples_split = trial.suggest_int('min_samples_split', 2, 10)\n",
    "        min_samples_leaf = trial.suggest_int('min_samples_leaf', 1, 10)\n",
    "        bootstrap = trial.suggest_categorical('bootstrap', [True, False])\n",
    "\n",
    "        model = RandomForestClassifier(\n",
    "            n_estimators=n_estimators,\n",
    "            max_depth=max_depth,\n",
    "            min_samples_split=min_samples_split,\n",
    "            min_samples_leaf=min_samples_leaf,\n",
    "            bootstrap=bootstrap,\n",
    "            random_state=42\n",
    "        )\n",
    "\n",
    "    elif classifier_name == 'GradientBoosting':\n",
    "        # Gradient Boosting hyperparameters\n",
    "        n_estimators = trial.suggest_int('n_estimators', 50, 300)\n",
    "        learning_rate = trial.suggest_float('learning_rate', 0.01, 0.3, log=True)\n",
    "        max_depth = trial.suggest_int('max_depth', 3, 20)\n",
    "        min_samples_split = trial.suggest_int('min_samples_split', 2, 10)\n",
    "        min_samples_leaf = trial.suggest_int('min_samples_leaf', 1, 10)\n",
    "\n",
    "        model = GradientBoostingClassifier(\n",
    "            n_estimators=n_estimators,\n",
    "            learning_rate=learning_rate,\n",
    "            max_depth=max_depth,\n",
    "            min_samples_split=min_samples_split,\n",
    "            min_samples_leaf=min_samples_leaf,\n",
    "            random_state=42\n",
    "        )\n",
    "\n",
    "    # Perform cross-validation and return the mean accuracy\n",
    "    score = cross_val_score(model, X_train, y_train, cv=3, scoring='accuracy').mean()\n",
    "    return score"
   ]
  },
  {
   "cell_type": "code",
   "execution_count": 31,
   "metadata": {},
   "outputs": [
    {
     "name": "stderr",
     "output_type": "stream",
     "text": [
      "[I 2025-03-10 21:27:46,493] A new study created in memory with name: no-name-87fe9ae5-4b7a-49ec-89c4-1eade614798b\n",
      "[I 2025-03-10 21:27:46,913] Trial 0 finished with value: 0.7709497206703911 and parameters: {'classifier': 'RandomForest', 'n_estimators': 129, 'max_depth': 6, 'min_samples_split': 3, 'min_samples_leaf': 1, 'bootstrap': True}. Best is trial 0 with value: 0.7709497206703911.\n",
      "[I 2025-03-10 21:27:46,938] Trial 1 finished with value: 0.739292364990689 and parameters: {'classifier': 'SVM', 'C': 3.8266757706921313, 'kernel': 'poly', 'gamma': 'auto'}. Best is trial 0 with value: 0.7709497206703911.\n",
      "[I 2025-03-10 21:27:47,619] Trial 2 finished with value: 0.7467411545623838 and parameters: {'classifier': 'GradientBoosting', 'n_estimators': 189, 'learning_rate': 0.24240490412030322, 'max_depth': 3, 'min_samples_split': 4, 'min_samples_leaf': 6}. Best is trial 0 with value: 0.7709497206703911.\n",
      "[I 2025-03-10 21:27:48,448] Trial 3 finished with value: 0.7616387337057727 and parameters: {'classifier': 'RandomForest', 'n_estimators': 258, 'max_depth': 15, 'min_samples_split': 2, 'min_samples_leaf': 8, 'bootstrap': True}. Best is trial 0 with value: 0.7709497206703911.\n",
      "[I 2025-03-10 21:27:48,982] Trial 4 finished with value: 0.7783985102420856 and parameters: {'classifier': 'RandomForest', 'n_estimators': 151, 'max_depth': 20, 'min_samples_split': 8, 'min_samples_leaf': 10, 'bootstrap': False}. Best is trial 4 with value: 0.7783985102420856.\n",
      "[I 2025-03-10 21:27:51,404] Trial 5 finished with value: 0.7355679702048418 and parameters: {'classifier': 'GradientBoosting', 'n_estimators': 161, 'learning_rate': 0.044633002793208046, 'max_depth': 19, 'min_samples_split': 7, 'min_samples_leaf': 3}. Best is trial 4 with value: 0.7783985102420856.\n",
      "[I 2025-03-10 21:27:51,428] Trial 6 finished with value: 0.6834264432029795 and parameters: {'classifier': 'SVM', 'C': 88.97287706005315, 'kernel': 'sigmoid', 'gamma': 'auto'}. Best is trial 4 with value: 0.7783985102420856.\n",
      "[I 2025-03-10 21:27:51,623] Trial 7 finished with value: 0.7765363128491619 and parameters: {'classifier': 'RandomForest', 'n_estimators': 64, 'max_depth': 10, 'min_samples_split': 3, 'min_samples_leaf': 3, 'bootstrap': True}. Best is trial 4 with value: 0.7783985102420856.\n",
      "[I 2025-03-10 21:27:52,168] Trial 8 finished with value: 0.7523277467411545 and parameters: {'classifier': 'RandomForest', 'n_estimators': 165, 'max_depth': 10, 'min_samples_split': 7, 'min_samples_leaf': 7, 'bootstrap': True}. Best is trial 4 with value: 0.7783985102420856.\n",
      "[I 2025-03-10 21:27:52,183] Trial 9 finished with value: 0.7299813780260708 and parameters: {'classifier': 'SVM', 'C': 1.6713400923079798, 'kernel': 'sigmoid', 'gamma': 'scale'}. Best is trial 4 with value: 0.7783985102420856.\n",
      "[I 2025-03-10 21:27:52,993] Trial 10 finished with value: 0.7690875232774674 and parameters: {'classifier': 'RandomForest', 'n_estimators': 295, 'max_depth': 20, 'min_samples_split': 10, 'min_samples_leaf': 10, 'bootstrap': False}. Best is trial 4 with value: 0.7783985102420856.\n",
      "[I 2025-03-10 21:27:53,188] Trial 11 finished with value: 0.7635009310986964 and parameters: {'classifier': 'RandomForest', 'n_estimators': 60, 'max_depth': 12, 'min_samples_split': 9, 'min_samples_leaf': 4, 'bootstrap': False}. Best is trial 4 with value: 0.7783985102420856.\n",
      "[I 2025-03-10 21:27:53,352] Trial 12 finished with value: 0.7746741154562383 and parameters: {'classifier': 'RandomForest', 'n_estimators': 52, 'max_depth': 10, 'min_samples_split': 5, 'min_samples_leaf': 10, 'bootstrap': False}. Best is trial 4 with value: 0.7783985102420856.\n",
      "[I 2025-03-10 21:27:53,757] Trial 13 finished with value: 0.7709497206703911 and parameters: {'classifier': 'RandomForest', 'n_estimators': 114, 'max_depth': 16, 'min_samples_split': 8, 'min_samples_leaf': 3, 'bootstrap': False}. Best is trial 4 with value: 0.7783985102420856.\n",
      "[I 2025-03-10 21:27:54,218] Trial 14 finished with value: 0.756052141527002 and parameters: {'classifier': 'RandomForest', 'n_estimators': 104, 'max_depth': 7, 'min_samples_split': 6, 'min_samples_leaf': 1, 'bootstrap': True}. Best is trial 4 with value: 0.7783985102420856.\n",
      "[I 2025-03-10 21:27:56,339] Trial 15 finished with value: 0.7411545623836128 and parameters: {'classifier': 'GradientBoosting', 'n_estimators': 203, 'learning_rate': 0.014310363430686958, 'max_depth': 14, 'min_samples_split': 5, 'min_samples_leaf': 5}. Best is trial 4 with value: 0.7783985102420856.\n",
      "[I 2025-03-10 21:27:57,040] Trial 16 finished with value: 0.7709497206703911 and parameters: {'classifier': 'RandomForest', 'n_estimators': 232, 'max_depth': 17, 'min_samples_split': 8, 'min_samples_leaf': 8, 'bootstrap': False}. Best is trial 4 with value: 0.7783985102420856.\n",
      "[I 2025-03-10 21:27:57,336] Trial 17 finished with value: 0.7672253258845437 and parameters: {'classifier': 'RandomForest', 'n_estimators': 82, 'max_depth': 12, 'min_samples_split': 2, 'min_samples_leaf': 2, 'bootstrap': True}. Best is trial 4 with value: 0.7783985102420856.\n",
      "[I 2025-03-10 21:27:58,668] Trial 18 finished with value: 0.7523277467411545 and parameters: {'classifier': 'GradientBoosting', 'n_estimators': 144, 'learning_rate': 0.28620458726647835, 'max_depth': 9, 'min_samples_split': 10, 'min_samples_leaf': 5}. Best is trial 4 with value: 0.7783985102420856.\n",
      "[I 2025-03-10 21:27:58,692] Trial 19 finished with value: 0.7523277467411545 and parameters: {'classifier': 'SVM', 'C': 0.22242815794838566, 'kernel': 'rbf', 'gamma': 'scale'}. Best is trial 4 with value: 0.7783985102420856.\n",
      "[I 2025-03-10 21:27:58,945] Trial 20 finished with value: 0.7765363128491621 and parameters: {'classifier': 'RandomForest', 'n_estimators': 90, 'max_depth': 7, 'min_samples_split': 4, 'min_samples_leaf': 9, 'bootstrap': False}. Best is trial 4 with value: 0.7783985102420856.\n",
      "[I 2025-03-10 21:27:59,171] Trial 21 finished with value: 0.7783985102420856 and parameters: {'classifier': 'RandomForest', 'n_estimators': 91, 'max_depth': 7, 'min_samples_split': 4, 'min_samples_leaf': 9, 'bootstrap': False}. Best is trial 4 with value: 0.7783985102420856.\n",
      "[I 2025-03-10 21:27:59,421] Trial 22 finished with value: 0.7653631284916201 and parameters: {'classifier': 'RandomForest', 'n_estimators': 96, 'max_depth': 4, 'min_samples_split': 4, 'min_samples_leaf': 9, 'bootstrap': False}. Best is trial 4 with value: 0.7783985102420856.\n",
      "[I 2025-03-10 21:27:59,794] Trial 23 finished with value: 0.7746741154562384 and parameters: {'classifier': 'RandomForest', 'n_estimators': 132, 'max_depth': 7, 'min_samples_split': 5, 'min_samples_leaf': 9, 'bootstrap': False}. Best is trial 4 with value: 0.7783985102420856.\n",
      "[I 2025-03-10 21:28:00,073] Trial 24 finished with value: 0.7709497206703911 and parameters: {'classifier': 'RandomForest', 'n_estimators': 85, 'max_depth': 5, 'min_samples_split': 6, 'min_samples_leaf': 9, 'bootstrap': False}. Best is trial 4 with value: 0.7783985102420856.\n",
      "[I 2025-03-10 21:28:00,429] Trial 25 finished with value: 0.7783985102420856 and parameters: {'classifier': 'RandomForest', 'n_estimators': 111, 'max_depth': 8, 'min_samples_split': 4, 'min_samples_leaf': 7, 'bootstrap': False}. Best is trial 4 with value: 0.7783985102420856.\n",
      "[I 2025-03-10 21:28:00,757] Trial 26 finished with value: 0.7765363128491621 and parameters: {'classifier': 'RandomForest', 'n_estimators': 121, 'max_depth': 8, 'min_samples_split': 3, 'min_samples_leaf': 7, 'bootstrap': False}. Best is trial 4 with value: 0.7783985102420856.\n",
      "[I 2025-03-10 21:28:01,194] Trial 27 finished with value: 0.7709497206703911 and parameters: {'classifier': 'RandomForest', 'n_estimators': 139, 'max_depth': 13, 'min_samples_split': 7, 'min_samples_leaf': 7, 'bootstrap': False}. Best is trial 4 with value: 0.7783985102420856.\n",
      "[I 2025-03-10 21:28:01,430] Trial 28 finished with value: 0.7858472998137801 and parameters: {'classifier': 'SVM', 'C': 72.63797255566014, 'kernel': 'linear', 'gamma': 'scale'}. Best is trial 28 with value: 0.7858472998137801.\n",
      "[I 2025-03-10 21:28:01,726] Trial 29 finished with value: 0.7858472998137801 and parameters: {'classifier': 'SVM', 'C': 99.95096728047838, 'kernel': 'linear', 'gamma': 'scale'}. Best is trial 28 with value: 0.7858472998137801.\n",
      "[I 2025-03-10 21:28:01,973] Trial 30 finished with value: 0.7858472998137801 and parameters: {'classifier': 'SVM', 'C': 94.15937733556484, 'kernel': 'linear', 'gamma': 'scale'}. Best is trial 28 with value: 0.7858472998137801.\n",
      "[I 2025-03-10 21:28:02,229] Trial 31 finished with value: 0.7858472998137801 and parameters: {'classifier': 'SVM', 'C': 92.07286843681186, 'kernel': 'linear', 'gamma': 'scale'}. Best is trial 28 with value: 0.7858472998137801.\n",
      "[I 2025-03-10 21:28:02,443] Trial 32 finished with value: 0.7858472998137801 and parameters: {'classifier': 'SVM', 'C': 82.36748405653915, 'kernel': 'linear', 'gamma': 'scale'}. Best is trial 28 with value: 0.7858472998137801.\n",
      "[I 2025-03-10 21:28:02,652] Trial 33 finished with value: 0.7858472998137801 and parameters: {'classifier': 'SVM', 'C': 85.39208423264864, 'kernel': 'linear', 'gamma': 'scale'}. Best is trial 28 with value: 0.7858472998137801.\n",
      "[I 2025-03-10 21:28:02,734] Trial 34 finished with value: 0.7858472998137801 and parameters: {'classifier': 'SVM', 'C': 23.17686985995248, 'kernel': 'linear', 'gamma': 'scale'}. Best is trial 28 with value: 0.7858472998137801.\n",
      "[I 2025-03-10 21:28:02,817] Trial 35 finished with value: 0.7858472998137801 and parameters: {'classifier': 'SVM', 'C': 22.10256054108416, 'kernel': 'linear', 'gamma': 'scale'}. Best is trial 28 with value: 0.7858472998137801.\n",
      "[I 2025-03-10 21:28:02,929] Trial 36 finished with value: 0.7858472998137801 and parameters: {'classifier': 'SVM', 'C': 33.03293668580899, 'kernel': 'linear', 'gamma': 'scale'}. Best is trial 28 with value: 0.7858472998137801.\n",
      "[I 2025-03-10 21:28:03,167] Trial 37 finished with value: 0.7858472998137801 and parameters: {'classifier': 'SVM', 'C': 91.34044499065418, 'kernel': 'linear', 'gamma': 'scale'}. Best is trial 28 with value: 0.7858472998137801.\n",
      "[I 2025-03-10 21:28:03,253] Trial 38 finished with value: 0.7858472998137801 and parameters: {'classifier': 'SVM', 'C': 27.414396281821457, 'kernel': 'linear', 'gamma': 'scale'}. Best is trial 28 with value: 0.7858472998137801.\n",
      "[I 2025-03-10 21:28:03,380] Trial 39 finished with value: 0.7858472998137801 and parameters: {'classifier': 'SVM', 'C': 42.38693809000476, 'kernel': 'linear', 'gamma': 'scale'}. Best is trial 28 with value: 0.7858472998137801.\n",
      "[I 2025-03-10 21:28:03,431] Trial 40 finished with value: 0.7858472998137801 and parameters: {'classifier': 'SVM', 'C': 12.352964234318751, 'kernel': 'linear', 'gamma': 'scale'}. Best is trial 28 with value: 0.7858472998137801.\n",
      "[I 2025-03-10 21:28:03,685] Trial 41 finished with value: 0.7858472998137801 and parameters: {'classifier': 'SVM', 'C': 99.90208144546236, 'kernel': 'linear', 'gamma': 'scale'}. Best is trial 28 with value: 0.7858472998137801.\n",
      "[I 2025-03-10 21:28:03,813] Trial 42 finished with value: 0.7858472998137801 and parameters: {'classifier': 'SVM', 'C': 53.15840293291559, 'kernel': 'linear', 'gamma': 'scale'}. Best is trial 28 with value: 0.7858472998137801.\n",
      "[I 2025-03-10 21:28:03,958] Trial 43 finished with value: 0.7858472998137801 and parameters: {'classifier': 'SVM', 'C': 54.059313614615625, 'kernel': 'linear', 'gamma': 'scale'}. Best is trial 28 with value: 0.7858472998137801.\n",
      "[I 2025-03-10 21:28:03,983] Trial 44 finished with value: 0.7523277467411545 and parameters: {'classifier': 'SVM', 'C': 9.845529581280129, 'kernel': 'rbf', 'gamma': 'scale'}. Best is trial 28 with value: 0.7858472998137801.\n",
      "[I 2025-03-10 21:28:04,074] Trial 45 finished with value: 0.6741154562383613 and parameters: {'classifier': 'SVM', 'C': 98.91227498651139, 'kernel': 'poly', 'gamma': 'auto'}. Best is trial 28 with value: 0.7858472998137801.\n",
      "[I 2025-03-10 21:28:04,192] Trial 46 finished with value: 0.7858472998137801 and parameters: {'classifier': 'SVM', 'C': 47.538133416434995, 'kernel': 'linear', 'gamma': 'scale'}. Best is trial 28 with value: 0.7858472998137801.\n",
      "[I 2025-03-10 21:28:07,399] Trial 47 finished with value: 0.7486033519553073 and parameters: {'classifier': 'GradientBoosting', 'n_estimators': 287, 'learning_rate': 0.01012523751912711, 'max_depth': 18, 'min_samples_split': 9, 'min_samples_leaf': 4}. Best is trial 28 with value: 0.7858472998137801.\n",
      "[I 2025-03-10 21:28:07,525] Trial 48 finished with value: 0.7858472998137801 and parameters: {'classifier': 'SVM', 'C': 44.42218324217757, 'kernel': 'linear', 'gamma': 'scale'}. Best is trial 28 with value: 0.7858472998137801.\n",
      "[I 2025-03-10 21:28:07,551] Trial 49 finished with value: 0.7839851024208566 and parameters: {'classifier': 'SVM', 'C': 0.5394527836330317, 'kernel': 'linear', 'gamma': 'scale'}. Best is trial 28 with value: 0.7858472998137801.\n",
      "[I 2025-03-10 21:28:07,622] Trial 50 finished with value: 0.7858472998137801 and parameters: {'classifier': 'SVM', 'C': 12.32475715598202, 'kernel': 'linear', 'gamma': 'scale'}. Best is trial 28 with value: 0.7858472998137801.\n",
      "[I 2025-03-10 21:28:07,794] Trial 51 finished with value: 0.7858472998137801 and parameters: {'classifier': 'SVM', 'C': 67.9466340489025, 'kernel': 'linear', 'gamma': 'scale'}. Best is trial 28 with value: 0.7858472998137801.\n",
      "[I 2025-03-10 21:28:08,007] Trial 52 finished with value: 0.7858472998137801 and parameters: {'classifier': 'SVM', 'C': 65.04521705756954, 'kernel': 'linear', 'gamma': 'scale'}. Best is trial 28 with value: 0.7858472998137801.\n",
      "[I 2025-03-10 21:28:08,319] Trial 53 finished with value: 0.7858472998137801 and parameters: {'classifier': 'SVM', 'C': 99.75871313081042, 'kernel': 'linear', 'gamma': 'scale'}. Best is trial 28 with value: 0.7858472998137801.\n",
      "[I 2025-03-10 21:28:08,493] Trial 54 finished with value: 0.7858472998137801 and parameters: {'classifier': 'SVM', 'C': 59.28488936282246, 'kernel': 'linear', 'gamma': 'scale'}. Best is trial 28 with value: 0.7858472998137801.\n",
      "[I 2025-03-10 21:28:09,448] Trial 55 finished with value: 0.7579143389199255 and parameters: {'classifier': 'GradientBoosting', 'n_estimators': 227, 'learning_rate': 0.07037589462402755, 'max_depth': 3, 'min_samples_split': 9, 'min_samples_leaf': 2}. Best is trial 28 with value: 0.7858472998137801.\n",
      "[I 2025-03-10 21:28:09,475] Trial 56 finished with value: 0.6945996275605215 and parameters: {'classifier': 'SVM', 'C': 33.6550670983755, 'kernel': 'sigmoid', 'gamma': 'scale'}. Best is trial 28 with value: 0.7858472998137801.\n",
      "[I 2025-03-10 21:28:09,540] Trial 57 finished with value: 0.6834264432029795 and parameters: {'classifier': 'SVM', 'C': 62.851767363702244, 'kernel': 'poly', 'gamma': 'auto'}. Best is trial 28 with value: 0.7858472998137801.\n",
      "[I 2025-03-10 21:28:09,565] Trial 58 finished with value: 0.750465549348231 and parameters: {'classifier': 'SVM', 'C': 16.962091395358378, 'kernel': 'rbf', 'gamma': 'auto'}. Best is trial 28 with value: 0.7858472998137801.\n",
      "[I 2025-03-10 21:28:10,932] Trial 59 finished with value: 0.7430167597765363 and parameters: {'classifier': 'GradientBoosting', 'n_estimators': 275, 'learning_rate': 0.07632777168779617, 'max_depth': 5, 'min_samples_split': 6, 'min_samples_leaf': 1}. Best is trial 28 with value: 0.7858472998137801.\n",
      "[I 2025-03-10 21:28:10,965] Trial 60 finished with value: 0.739292364990689 and parameters: {'classifier': 'SVM', 'C': 3.8373960626874646, 'kernel': 'poly', 'gamma': 'scale'}. Best is trial 28 with value: 0.7858472998137801.\n",
      "[I 2025-03-10 21:28:11,135] Trial 61 finished with value: 0.7858472998137801 and parameters: {'classifier': 'SVM', 'C': 70.6957888333352, 'kernel': 'linear', 'gamma': 'scale'}. Best is trial 28 with value: 0.7858472998137801.\n",
      "[I 2025-03-10 21:28:11,375] Trial 62 finished with value: 0.7858472998137801 and parameters: {'classifier': 'SVM', 'C': 98.01466366691095, 'kernel': 'linear', 'gamma': 'scale'}. Best is trial 28 with value: 0.7858472998137801.\n",
      "[I 2025-03-10 21:28:11,428] Trial 63 finished with value: 0.7858472998137801 and parameters: {'classifier': 'SVM', 'C': 5.9292064705188166, 'kernel': 'linear', 'gamma': 'scale'}. Best is trial 28 with value: 0.7858472998137801.\n",
      "[I 2025-03-10 21:28:11,478] Trial 64 finished with value: 0.6890130353817505 and parameters: {'classifier': 'SVM', 'C': 38.61213994792037, 'kernel': 'sigmoid', 'gamma': 'scale'}. Best is trial 28 with value: 0.7858472998137801.\n",
      "[I 2025-03-10 21:28:11,569] Trial 65 finished with value: 0.7858472998137801 and parameters: {'classifier': 'SVM', 'C': 24.541652123486514, 'kernel': 'linear', 'gamma': 'scale'}. Best is trial 28 with value: 0.7858472998137801.\n",
      "[I 2025-03-10 21:28:11,780] Trial 66 finished with value: 0.7858472998137801 and parameters: {'classifier': 'SVM', 'C': 67.94934792743642, 'kernel': 'linear', 'gamma': 'auto'}. Best is trial 28 with value: 0.7858472998137801.\n",
      "[I 2025-03-10 21:28:11,800] Trial 67 finished with value: 0.7858472998137803 and parameters: {'classifier': 'SVM', 'C': 0.9047352047161811, 'kernel': 'linear', 'gamma': 'scale'}. Best is trial 67 with value: 0.7858472998137803.\n",
      "[I 2025-03-10 21:28:11,821] Trial 68 finished with value: 0.7858472998137803 and parameters: {'classifier': 'SVM', 'C': 0.895597138738704, 'kernel': 'linear', 'gamma': 'scale'}. Best is trial 67 with value: 0.7858472998137803.\n",
      "[I 2025-03-10 21:28:11,852] Trial 69 finished with value: 0.7672253258845437 and parameters: {'classifier': 'SVM', 'C': 1.3609000927552939, 'kernel': 'rbf', 'gamma': 'scale'}. Best is trial 67 with value: 0.7858472998137803.\n",
      "[I 2025-03-10 21:28:14,468] Trial 70 finished with value: 0.7355679702048418 and parameters: {'classifier': 'GradientBoosting', 'n_estimators': 249, 'learning_rate': 0.033419039078762466, 'max_depth': 15, 'min_samples_split': 2, 'min_samples_leaf': 6}. Best is trial 67 with value: 0.7858472998137803.\n",
      "[I 2025-03-10 21:28:14,491] Trial 71 finished with value: 0.7839851024208566 and parameters: {'classifier': 'SVM', 'C': 1.3024086672590516, 'kernel': 'linear', 'gamma': 'scale'}. Best is trial 67 with value: 0.7858472998137803.\n",
      "[I 2025-03-10 21:28:14,511] Trial 72 finished with value: 0.7877094972067038 and parameters: {'classifier': 'SVM', 'C': 0.15878793155703638, 'kernel': 'linear', 'gamma': 'scale'}. Best is trial 72 with value: 0.7877094972067038.\n",
      "[I 2025-03-10 21:28:14,530] Trial 73 finished with value: 0.7858472998137803 and parameters: {'classifier': 'SVM', 'C': 0.19090626742251288, 'kernel': 'linear', 'gamma': 'scale'}. Best is trial 72 with value: 0.7877094972067038.\n",
      "[I 2025-03-10 21:28:14,551] Trial 74 finished with value: 0.7877094972067038 and parameters: {'classifier': 'SVM', 'C': 0.10037755898894436, 'kernel': 'linear', 'gamma': 'scale'}. Best is trial 72 with value: 0.7877094972067038.\n",
      "[I 2025-03-10 21:28:14,580] Trial 75 finished with value: 0.7877094972067038 and parameters: {'classifier': 'SVM', 'C': 0.10370973739532498, 'kernel': 'linear', 'gamma': 'scale'}. Best is trial 72 with value: 0.7877094972067038.\n",
      "[I 2025-03-10 21:28:14,603] Trial 76 finished with value: 0.7690875232774674 and parameters: {'classifier': 'SVM', 'C': 0.10251349338386201, 'kernel': 'sigmoid', 'gamma': 'scale'}. Best is trial 72 with value: 0.7877094972067038.\n",
      "[I 2025-03-10 21:28:14,621] Trial 77 finished with value: 0.7895716945996275 and parameters: {'classifier': 'SVM', 'C': 0.11219788184751733, 'kernel': 'linear', 'gamma': 'scale'}. Best is trial 77 with value: 0.7895716945996275.\n",
      "[I 2025-03-10 21:28:14,640] Trial 78 finished with value: 0.7877094972067038 and parameters: {'classifier': 'SVM', 'C': 0.10592107502210488, 'kernel': 'linear', 'gamma': 'scale'}. Best is trial 77 with value: 0.7895716945996275.\n",
      "[I 2025-03-10 21:28:14,660] Trial 79 finished with value: 0.7877094972067038 and parameters: {'classifier': 'SVM', 'C': 0.10472104279204728, 'kernel': 'linear', 'gamma': 'scale'}. Best is trial 77 with value: 0.7895716945996275.\n",
      "[I 2025-03-10 21:28:14,679] Trial 80 finished with value: 0.7895716945996275 and parameters: {'classifier': 'SVM', 'C': 0.12323149954506664, 'kernel': 'linear', 'gamma': 'scale'}. Best is trial 77 with value: 0.7895716945996275.\n",
      "[I 2025-03-10 21:28:14,696] Trial 81 finished with value: 0.7877094972067038 and parameters: {'classifier': 'SVM', 'C': 0.10083976860427465, 'kernel': 'linear', 'gamma': 'scale'}. Best is trial 77 with value: 0.7895716945996275.\n",
      "[I 2025-03-10 21:28:14,715] Trial 82 finished with value: 0.7895716945996275 and parameters: {'classifier': 'SVM', 'C': 0.11334422121448139, 'kernel': 'linear', 'gamma': 'scale'}. Best is trial 77 with value: 0.7895716945996275.\n",
      "[I 2025-03-10 21:28:14,732] Trial 83 finished with value: 0.7877094972067038 and parameters: {'classifier': 'SVM', 'C': 0.10997371913724382, 'kernel': 'linear', 'gamma': 'scale'}. Best is trial 77 with value: 0.7895716945996275.\n",
      "[I 2025-03-10 21:28:14,749] Trial 84 finished with value: 0.7895716945996275 and parameters: {'classifier': 'SVM', 'C': 0.15746611689378928, 'kernel': 'linear', 'gamma': 'scale'}. Best is trial 77 with value: 0.7895716945996275.\n",
      "[I 2025-03-10 21:28:14,767] Trial 85 finished with value: 0.7877094972067038 and parameters: {'classifier': 'SVM', 'C': 0.16300936147190778, 'kernel': 'linear', 'gamma': 'scale'}. Best is trial 77 with value: 0.7895716945996275.\n",
      "[I 2025-03-10 21:28:14,790] Trial 86 finished with value: 0.7858472998137803 and parameters: {'classifier': 'SVM', 'C': 0.2994275497613386, 'kernel': 'linear', 'gamma': 'scale'}. Best is trial 77 with value: 0.7895716945996275.\n",
      "[I 2025-03-10 21:28:14,807] Trial 87 finished with value: 0.7895716945996275 and parameters: {'classifier': 'SVM', 'C': 0.1476497328111857, 'kernel': 'linear', 'gamma': 'scale'}. Best is trial 77 with value: 0.7895716945996275.\n",
      "[I 2025-03-10 21:28:14,829] Trial 88 finished with value: 0.7895716945996275 and parameters: {'classifier': 'SVM', 'C': 0.15287587601379912, 'kernel': 'linear', 'gamma': 'scale'}. Best is trial 77 with value: 0.7895716945996275.\n",
      "[I 2025-03-10 21:28:14,863] Trial 89 finished with value: 0.7895716945996275 and parameters: {'classifier': 'SVM', 'C': 0.1474580419924148, 'kernel': 'linear', 'gamma': 'auto'}. Best is trial 77 with value: 0.7895716945996275.\n",
      "[I 2025-03-10 21:28:17,022] Trial 90 finished with value: 0.7243947858472998 and parameters: {'classifier': 'GradientBoosting', 'n_estimators': 189, 'learning_rate': 0.1240573886125349, 'max_depth': 17, 'min_samples_split': 10, 'min_samples_leaf': 6}. Best is trial 77 with value: 0.7895716945996275.\n",
      "[I 2025-03-10 21:28:17,040] Trial 91 finished with value: 0.7895716945996275 and parameters: {'classifier': 'SVM', 'C': 0.14872628159606105, 'kernel': 'linear', 'gamma': 'auto'}. Best is trial 77 with value: 0.7895716945996275.\n",
      "[I 2025-03-10 21:28:17,056] Trial 92 finished with value: 0.7895716945996275 and parameters: {'classifier': 'SVM', 'C': 0.1468104742870813, 'kernel': 'linear', 'gamma': 'auto'}. Best is trial 77 with value: 0.7895716945996275.\n",
      "[I 2025-03-10 21:28:17,072] Trial 93 finished with value: 0.7858472998137803 and parameters: {'classifier': 'SVM', 'C': 0.26689878607095, 'kernel': 'linear', 'gamma': 'auto'}. Best is trial 77 with value: 0.7895716945996275.\n",
      "[I 2025-03-10 21:28:17,089] Trial 94 finished with value: 0.7895716945996275 and parameters: {'classifier': 'SVM', 'C': 0.14985071923470036, 'kernel': 'linear', 'gamma': 'auto'}. Best is trial 77 with value: 0.7895716945996275.\n",
      "[I 2025-03-10 21:28:17,105] Trial 95 finished with value: 0.7895716945996275 and parameters: {'classifier': 'SVM', 'C': 0.1439788168421837, 'kernel': 'linear', 'gamma': 'auto'}. Best is trial 77 with value: 0.7895716945996275.\n",
      "[I 2025-03-10 21:28:17,123] Trial 96 finished with value: 0.7206703910614524 and parameters: {'classifier': 'SVM', 'C': 0.2427247694014901, 'kernel': 'poly', 'gamma': 'auto'}. Best is trial 77 with value: 0.7895716945996275.\n",
      "[I 2025-03-10 21:28:17,140] Trial 97 finished with value: 0.7858472998137803 and parameters: {'classifier': 'SVM', 'C': 0.33270793502981666, 'kernel': 'linear', 'gamma': 'auto'}. Best is trial 77 with value: 0.7895716945996275.\n",
      "[I 2025-03-10 21:28:17,163] Trial 98 finished with value: 0.7653631284916201 and parameters: {'classifier': 'SVM', 'C': 0.20052312881881448, 'kernel': 'rbf', 'gamma': 'auto'}. Best is trial 77 with value: 0.7895716945996275.\n",
      "[I 2025-03-10 21:28:17,181] Trial 99 finished with value: 0.7895716945996275 and parameters: {'classifier': 'SVM', 'C': 0.13738534061358407, 'kernel': 'linear', 'gamma': 'auto'}. Best is trial 77 with value: 0.7895716945996275.\n"
     ]
    }
   ],
   "source": [
    "# Create a study and optimize it using CmaEsSampler\n",
    "study = optuna.create_study(direction='maximize',sampler=optuna.samplers.TPESampler())\n",
    "study.optimize(objective, n_trials=100)"
   ]
  },
  {
   "cell_type": "code",
   "execution_count": 25,
   "metadata": {},
   "outputs": [
    {
     "name": "stdout",
     "output_type": "stream",
     "text": [
      "Best trial parameters: {'classifier': 'SVM', 'C': 0.11261793481399071, 'kernel': 'linear', 'gamma': 'auto'}\n",
      "Best trial accuracy: 0.7895716945996275\n"
     ]
    }
   ],
   "source": [
    "# Retrieve the best trial\n",
    "best_trial = study.best_trial\n",
    "print(\"Best trial parameters:\", best_trial.params)\n",
    "print(\"Best trial accuracy:\", best_trial.value)"
   ]
  },
  {
   "cell_type": "code",
   "execution_count": 26,
   "metadata": {},
   "outputs": [
    {
     "data": {
      "text/plain": [
       "params_classifier\n",
       "SVM                 79\n",
       "RandomForest        11\n",
       "GradientBoosting    10\n",
       "Name: count, dtype: int64"
      ]
     },
     "execution_count": 26,
     "metadata": {},
     "output_type": "execute_result"
    }
   ],
   "source": [
    "study.trials_dataframe()['params_classifier'].value_counts()"
   ]
  },
  {
   "cell_type": "code",
   "execution_count": 27,
   "metadata": {},
   "outputs": [
    {
     "data": {
      "text/plain": [
       "params_classifier\n",
       "GradientBoosting    0.746555\n",
       "RandomForest        0.763840\n",
       "SVM                 0.775711\n",
       "Name: value, dtype: float64"
      ]
     },
     "execution_count": 27,
     "metadata": {},
     "output_type": "execute_result"
    }
   ],
   "source": [
    "study.trials_dataframe().groupby('params_classifier')['value'].mean()"
   ]
  },
  {
   "cell_type": "code",
   "execution_count": 28,
   "metadata": {},
   "outputs": [
    {
     "data": {
      "application/vnd.plotly.v1+json": {
       "config": {
        "plotlyServerURL": "https://plot.ly"
       },
       "data": [
        {
         "mode": "markers",
         "name": "Objective Value",
         "type": "scatter",
         "x": [
          0,
          1,
          2,
          3,
          4,
          5,
          6,
          7,
          8,
          9,
          10,
          11,
          12,
          13,
          14,
          15,
          16,
          17,
          18,
          19,
          20,
          21,
          22,
          23,
          24,
          25,
          26,
          27,
          28,
          29,
          30,
          31,
          32,
          33,
          34,
          35,
          36,
          37,
          38,
          39,
          40,
          41,
          42,
          43,
          44,
          45,
          46,
          47,
          48,
          49,
          50,
          51,
          52,
          53,
          54,
          55,
          56,
          57,
          58,
          59,
          60,
          61,
          62,
          63,
          64,
          65,
          66,
          67,
          68,
          69,
          70,
          71,
          72,
          73,
          74,
          75,
          76,
          77,
          78,
          79,
          80,
          81,
          82,
          83,
          84,
          85,
          86,
          87,
          88,
          89,
          90,
          91,
          92,
          93,
          94,
          95,
          96,
          97,
          98,
          99
         ],
         "y": [
          0.7243947858472998,
          0.7616387337057727,
          0.7635009310986964,
          0.7672253258845437,
          0.7057728119180632,
          0.6927374301675977,
          0.7411545623836128,
          0.7858472998137801,
          0.7299813780260708,
          0.7355679702048418,
          0.7560521415270017,
          0.7635009310986964,
          0.7690875232774674,
          0.7746741154562384,
          0.7374301675977654,
          0.7858472998137801,
          0.7858472998137801,
          0.7858472998137801,
          0.7858472998137801,
          0.7895716945996275,
          0.7895716945996275,
          0.7877094972067038,
          0.7877094972067038,
          0.7895716945996275,
          0.7318435754189944,
          0.756052141527002,
          0.7858472998137803,
          0.7858472998137803,
          0.7839851024208566,
          0.7337057728119181,
          0.7597765363128491,
          0.7895716945996275,
          0.7877094972067038,
          0.7877094972067038,
          0.7877094972067038,
          0.7653631284916201,
          0.7653631284916201,
          0.7858472998137801,
          0.7858472998137803,
          0.7895716945996275,
          0.7635009310986964,
          0.7895716945996275,
          0.7895716945996275,
          0.7635009310986964,
          0.7523277467411545,
          0.7895716945996275,
          0.7635009310986964,
          0.7635009310986964,
          0.7839851024208566,
          0.7169459962756052,
          0.750465549348231,
          0.7895716945996275,
          0.7895716945996275,
          0.7690875232774674,
          0.7839851024208566,
          0.7877094972067038,
          0.7635009310986964,
          0.7895716945996275,
          0.7858472998137801,
          0.7411545623836125,
          0.7858472998137803,
          0.7895716945996275,
          0.7895716945996275,
          0.7858472998137803,
          0.7877094972067038,
          0.7821229050279329,
          0.7374301675977654,
          0.7337057728119181,
          0.7895716945996275,
          0.7672253258845437,
          0.7858472998137801,
          0.7895716945996275,
          0.7877094972067038,
          0.7895716945996275,
          0.7858472998137803,
          0.7858472998137803,
          0.7541899441340782,
          0.7895716945996275,
          0.7392923649906891,
          0.7877094972067038,
          0.7858472998137803,
          0.7877094972067038,
          0.7858472998137803,
          0.7895716945996275,
          0.7709497206703911,
          0.707635009310987,
          0.7635009310986964,
          0.7858472998137803,
          0.7895716945996275,
          0.7858472998137803,
          0.7895716945996275,
          0.7895716945996275,
          0.7895716945996275,
          0.7877094972067038,
          0.7094972067039106,
          0.7858472998137803,
          0.750465549348231,
          0.7895716945996275,
          0.7858472998137803,
          0.7709497206703911
         ]
        },
        {
         "mode": "lines",
         "name": "Best Value",
         "type": "scatter",
         "x": [
          0,
          1,
          2,
          3,
          4,
          5,
          6,
          7,
          8,
          9,
          10,
          11,
          12,
          13,
          14,
          15,
          16,
          17,
          18,
          19,
          20,
          21,
          22,
          23,
          24,
          25,
          26,
          27,
          28,
          29,
          30,
          31,
          32,
          33,
          34,
          35,
          36,
          37,
          38,
          39,
          40,
          41,
          42,
          43,
          44,
          45,
          46,
          47,
          48,
          49,
          50,
          51,
          52,
          53,
          54,
          55,
          56,
          57,
          58,
          59,
          60,
          61,
          62,
          63,
          64,
          65,
          66,
          67,
          68,
          69,
          70,
          71,
          72,
          73,
          74,
          75,
          76,
          77,
          78,
          79,
          80,
          81,
          82,
          83,
          84,
          85,
          86,
          87,
          88,
          89,
          90,
          91,
          92,
          93,
          94,
          95,
          96,
          97,
          98,
          99
         ],
         "y": [
          0.7243947858472998,
          0.7616387337057727,
          0.7635009310986964,
          0.7672253258845437,
          0.7672253258845437,
          0.7672253258845437,
          0.7672253258845437,
          0.7858472998137801,
          0.7858472998137801,
          0.7858472998137801,
          0.7858472998137801,
          0.7858472998137801,
          0.7858472998137801,
          0.7858472998137801,
          0.7858472998137801,
          0.7858472998137801,
          0.7858472998137801,
          0.7858472998137801,
          0.7858472998137801,
          0.7895716945996275,
          0.7895716945996275,
          0.7895716945996275,
          0.7895716945996275,
          0.7895716945996275,
          0.7895716945996275,
          0.7895716945996275,
          0.7895716945996275,
          0.7895716945996275,
          0.7895716945996275,
          0.7895716945996275,
          0.7895716945996275,
          0.7895716945996275,
          0.7895716945996275,
          0.7895716945996275,
          0.7895716945996275,
          0.7895716945996275,
          0.7895716945996275,
          0.7895716945996275,
          0.7895716945996275,
          0.7895716945996275,
          0.7895716945996275,
          0.7895716945996275,
          0.7895716945996275,
          0.7895716945996275,
          0.7895716945996275,
          0.7895716945996275,
          0.7895716945996275,
          0.7895716945996275,
          0.7895716945996275,
          0.7895716945996275,
          0.7895716945996275,
          0.7895716945996275,
          0.7895716945996275,
          0.7895716945996275,
          0.7895716945996275,
          0.7895716945996275,
          0.7895716945996275,
          0.7895716945996275,
          0.7895716945996275,
          0.7895716945996275,
          0.7895716945996275,
          0.7895716945996275,
          0.7895716945996275,
          0.7895716945996275,
          0.7895716945996275,
          0.7895716945996275,
          0.7895716945996275,
          0.7895716945996275,
          0.7895716945996275,
          0.7895716945996275,
          0.7895716945996275,
          0.7895716945996275,
          0.7895716945996275,
          0.7895716945996275,
          0.7895716945996275,
          0.7895716945996275,
          0.7895716945996275,
          0.7895716945996275,
          0.7895716945996275,
          0.7895716945996275,
          0.7895716945996275,
          0.7895716945996275,
          0.7895716945996275,
          0.7895716945996275,
          0.7895716945996275,
          0.7895716945996275,
          0.7895716945996275,
          0.7895716945996275,
          0.7895716945996275,
          0.7895716945996275,
          0.7895716945996275,
          0.7895716945996275,
          0.7895716945996275,
          0.7895716945996275,
          0.7895716945996275,
          0.7895716945996275,
          0.7895716945996275,
          0.7895716945996275,
          0.7895716945996275,
          0.7895716945996275
         ]
        },
        {
         "marker": {
          "color": "#cccccc"
         },
         "mode": "markers",
         "name": "Infeasible Trial",
         "showlegend": false,
         "type": "scatter",
         "x": [],
         "y": []
        }
       ],
       "layout": {
        "template": {
         "data": {
          "bar": [
           {
            "error_x": {
             "color": "#2a3f5f"
            },
            "error_y": {
             "color": "#2a3f5f"
            },
            "marker": {
             "line": {
              "color": "#E5ECF6",
              "width": 0.5
             },
             "pattern": {
              "fillmode": "overlay",
              "size": 10,
              "solidity": 0.2
             }
            },
            "type": "bar"
           }
          ],
          "barpolar": [
           {
            "marker": {
             "line": {
              "color": "#E5ECF6",
              "width": 0.5
             },
             "pattern": {
              "fillmode": "overlay",
              "size": 10,
              "solidity": 0.2
             }
            },
            "type": "barpolar"
           }
          ],
          "carpet": [
           {
            "aaxis": {
             "endlinecolor": "#2a3f5f",
             "gridcolor": "white",
             "linecolor": "white",
             "minorgridcolor": "white",
             "startlinecolor": "#2a3f5f"
            },
            "baxis": {
             "endlinecolor": "#2a3f5f",
             "gridcolor": "white",
             "linecolor": "white",
             "minorgridcolor": "white",
             "startlinecolor": "#2a3f5f"
            },
            "type": "carpet"
           }
          ],
          "choropleth": [
           {
            "colorbar": {
             "outlinewidth": 0,
             "ticks": ""
            },
            "type": "choropleth"
           }
          ],
          "contour": [
           {
            "colorbar": {
             "outlinewidth": 0,
             "ticks": ""
            },
            "colorscale": [
             [
              0,
              "#0d0887"
             ],
             [
              0.1111111111111111,
              "#46039f"
             ],
             [
              0.2222222222222222,
              "#7201a8"
             ],
             [
              0.3333333333333333,
              "#9c179e"
             ],
             [
              0.4444444444444444,
              "#bd3786"
             ],
             [
              0.5555555555555556,
              "#d8576b"
             ],
             [
              0.6666666666666666,
              "#ed7953"
             ],
             [
              0.7777777777777778,
              "#fb9f3a"
             ],
             [
              0.8888888888888888,
              "#fdca26"
             ],
             [
              1,
              "#f0f921"
             ]
            ],
            "type": "contour"
           }
          ],
          "contourcarpet": [
           {
            "colorbar": {
             "outlinewidth": 0,
             "ticks": ""
            },
            "type": "contourcarpet"
           }
          ],
          "heatmap": [
           {
            "colorbar": {
             "outlinewidth": 0,
             "ticks": ""
            },
            "colorscale": [
             [
              0,
              "#0d0887"
             ],
             [
              0.1111111111111111,
              "#46039f"
             ],
             [
              0.2222222222222222,
              "#7201a8"
             ],
             [
              0.3333333333333333,
              "#9c179e"
             ],
             [
              0.4444444444444444,
              "#bd3786"
             ],
             [
              0.5555555555555556,
              "#d8576b"
             ],
             [
              0.6666666666666666,
              "#ed7953"
             ],
             [
              0.7777777777777778,
              "#fb9f3a"
             ],
             [
              0.8888888888888888,
              "#fdca26"
             ],
             [
              1,
              "#f0f921"
             ]
            ],
            "type": "heatmap"
           }
          ],
          "histogram": [
           {
            "marker": {
             "pattern": {
              "fillmode": "overlay",
              "size": 10,
              "solidity": 0.2
             }
            },
            "type": "histogram"
           }
          ],
          "histogram2d": [
           {
            "colorbar": {
             "outlinewidth": 0,
             "ticks": ""
            },
            "colorscale": [
             [
              0,
              "#0d0887"
             ],
             [
              0.1111111111111111,
              "#46039f"
             ],
             [
              0.2222222222222222,
              "#7201a8"
             ],
             [
              0.3333333333333333,
              "#9c179e"
             ],
             [
              0.4444444444444444,
              "#bd3786"
             ],
             [
              0.5555555555555556,
              "#d8576b"
             ],
             [
              0.6666666666666666,
              "#ed7953"
             ],
             [
              0.7777777777777778,
              "#fb9f3a"
             ],
             [
              0.8888888888888888,
              "#fdca26"
             ],
             [
              1,
              "#f0f921"
             ]
            ],
            "type": "histogram2d"
           }
          ],
          "histogram2dcontour": [
           {
            "colorbar": {
             "outlinewidth": 0,
             "ticks": ""
            },
            "colorscale": [
             [
              0,
              "#0d0887"
             ],
             [
              0.1111111111111111,
              "#46039f"
             ],
             [
              0.2222222222222222,
              "#7201a8"
             ],
             [
              0.3333333333333333,
              "#9c179e"
             ],
             [
              0.4444444444444444,
              "#bd3786"
             ],
             [
              0.5555555555555556,
              "#d8576b"
             ],
             [
              0.6666666666666666,
              "#ed7953"
             ],
             [
              0.7777777777777778,
              "#fb9f3a"
             ],
             [
              0.8888888888888888,
              "#fdca26"
             ],
             [
              1,
              "#f0f921"
             ]
            ],
            "type": "histogram2dcontour"
           }
          ],
          "mesh3d": [
           {
            "colorbar": {
             "outlinewidth": 0,
             "ticks": ""
            },
            "type": "mesh3d"
           }
          ],
          "parcoords": [
           {
            "line": {
             "colorbar": {
              "outlinewidth": 0,
              "ticks": ""
             }
            },
            "type": "parcoords"
           }
          ],
          "pie": [
           {
            "automargin": true,
            "type": "pie"
           }
          ],
          "scatter": [
           {
            "fillpattern": {
             "fillmode": "overlay",
             "size": 10,
             "solidity": 0.2
            },
            "type": "scatter"
           }
          ],
          "scatter3d": [
           {
            "line": {
             "colorbar": {
              "outlinewidth": 0,
              "ticks": ""
             }
            },
            "marker": {
             "colorbar": {
              "outlinewidth": 0,
              "ticks": ""
             }
            },
            "type": "scatter3d"
           }
          ],
          "scattercarpet": [
           {
            "marker": {
             "colorbar": {
              "outlinewidth": 0,
              "ticks": ""
             }
            },
            "type": "scattercarpet"
           }
          ],
          "scattergeo": [
           {
            "marker": {
             "colorbar": {
              "outlinewidth": 0,
              "ticks": ""
             }
            },
            "type": "scattergeo"
           }
          ],
          "scattergl": [
           {
            "marker": {
             "colorbar": {
              "outlinewidth": 0,
              "ticks": ""
             }
            },
            "type": "scattergl"
           }
          ],
          "scattermap": [
           {
            "marker": {
             "colorbar": {
              "outlinewidth": 0,
              "ticks": ""
             }
            },
            "type": "scattermap"
           }
          ],
          "scattermapbox": [
           {
            "marker": {
             "colorbar": {
              "outlinewidth": 0,
              "ticks": ""
             }
            },
            "type": "scattermapbox"
           }
          ],
          "scatterpolar": [
           {
            "marker": {
             "colorbar": {
              "outlinewidth": 0,
              "ticks": ""
             }
            },
            "type": "scatterpolar"
           }
          ],
          "scatterpolargl": [
           {
            "marker": {
             "colorbar": {
              "outlinewidth": 0,
              "ticks": ""
             }
            },
            "type": "scatterpolargl"
           }
          ],
          "scatterternary": [
           {
            "marker": {
             "colorbar": {
              "outlinewidth": 0,
              "ticks": ""
             }
            },
            "type": "scatterternary"
           }
          ],
          "surface": [
           {
            "colorbar": {
             "outlinewidth": 0,
             "ticks": ""
            },
            "colorscale": [
             [
              0,
              "#0d0887"
             ],
             [
              0.1111111111111111,
              "#46039f"
             ],
             [
              0.2222222222222222,
              "#7201a8"
             ],
             [
              0.3333333333333333,
              "#9c179e"
             ],
             [
              0.4444444444444444,
              "#bd3786"
             ],
             [
              0.5555555555555556,
              "#d8576b"
             ],
             [
              0.6666666666666666,
              "#ed7953"
             ],
             [
              0.7777777777777778,
              "#fb9f3a"
             ],
             [
              0.8888888888888888,
              "#fdca26"
             ],
             [
              1,
              "#f0f921"
             ]
            ],
            "type": "surface"
           }
          ],
          "table": [
           {
            "cells": {
             "fill": {
              "color": "#EBF0F8"
             },
             "line": {
              "color": "white"
             }
            },
            "header": {
             "fill": {
              "color": "#C8D4E3"
             },
             "line": {
              "color": "white"
             }
            },
            "type": "table"
           }
          ]
         },
         "layout": {
          "annotationdefaults": {
           "arrowcolor": "#2a3f5f",
           "arrowhead": 0,
           "arrowwidth": 1
          },
          "autotypenumbers": "strict",
          "coloraxis": {
           "colorbar": {
            "outlinewidth": 0,
            "ticks": ""
           }
          },
          "colorscale": {
           "diverging": [
            [
             0,
             "#8e0152"
            ],
            [
             0.1,
             "#c51b7d"
            ],
            [
             0.2,
             "#de77ae"
            ],
            [
             0.3,
             "#f1b6da"
            ],
            [
             0.4,
             "#fde0ef"
            ],
            [
             0.5,
             "#f7f7f7"
            ],
            [
             0.6,
             "#e6f5d0"
            ],
            [
             0.7,
             "#b8e186"
            ],
            [
             0.8,
             "#7fbc41"
            ],
            [
             0.9,
             "#4d9221"
            ],
            [
             1,
             "#276419"
            ]
           ],
           "sequential": [
            [
             0,
             "#0d0887"
            ],
            [
             0.1111111111111111,
             "#46039f"
            ],
            [
             0.2222222222222222,
             "#7201a8"
            ],
            [
             0.3333333333333333,
             "#9c179e"
            ],
            [
             0.4444444444444444,
             "#bd3786"
            ],
            [
             0.5555555555555556,
             "#d8576b"
            ],
            [
             0.6666666666666666,
             "#ed7953"
            ],
            [
             0.7777777777777778,
             "#fb9f3a"
            ],
            [
             0.8888888888888888,
             "#fdca26"
            ],
            [
             1,
             "#f0f921"
            ]
           ],
           "sequentialminus": [
            [
             0,
             "#0d0887"
            ],
            [
             0.1111111111111111,
             "#46039f"
            ],
            [
             0.2222222222222222,
             "#7201a8"
            ],
            [
             0.3333333333333333,
             "#9c179e"
            ],
            [
             0.4444444444444444,
             "#bd3786"
            ],
            [
             0.5555555555555556,
             "#d8576b"
            ],
            [
             0.6666666666666666,
             "#ed7953"
            ],
            [
             0.7777777777777778,
             "#fb9f3a"
            ],
            [
             0.8888888888888888,
             "#fdca26"
            ],
            [
             1,
             "#f0f921"
            ]
           ]
          },
          "colorway": [
           "#636efa",
           "#EF553B",
           "#00cc96",
           "#ab63fa",
           "#FFA15A",
           "#19d3f3",
           "#FF6692",
           "#B6E880",
           "#FF97FF",
           "#FECB52"
          ],
          "font": {
           "color": "#2a3f5f"
          },
          "geo": {
           "bgcolor": "white",
           "lakecolor": "white",
           "landcolor": "#E5ECF6",
           "showlakes": true,
           "showland": true,
           "subunitcolor": "white"
          },
          "hoverlabel": {
           "align": "left"
          },
          "hovermode": "closest",
          "mapbox": {
           "style": "light"
          },
          "paper_bgcolor": "white",
          "plot_bgcolor": "#E5ECF6",
          "polar": {
           "angularaxis": {
            "gridcolor": "white",
            "linecolor": "white",
            "ticks": ""
           },
           "bgcolor": "#E5ECF6",
           "radialaxis": {
            "gridcolor": "white",
            "linecolor": "white",
            "ticks": ""
           }
          },
          "scene": {
           "xaxis": {
            "backgroundcolor": "#E5ECF6",
            "gridcolor": "white",
            "gridwidth": 2,
            "linecolor": "white",
            "showbackground": true,
            "ticks": "",
            "zerolinecolor": "white"
           },
           "yaxis": {
            "backgroundcolor": "#E5ECF6",
            "gridcolor": "white",
            "gridwidth": 2,
            "linecolor": "white",
            "showbackground": true,
            "ticks": "",
            "zerolinecolor": "white"
           },
           "zaxis": {
            "backgroundcolor": "#E5ECF6",
            "gridcolor": "white",
            "gridwidth": 2,
            "linecolor": "white",
            "showbackground": true,
            "ticks": "",
            "zerolinecolor": "white"
           }
          },
          "shapedefaults": {
           "line": {
            "color": "#2a3f5f"
           }
          },
          "ternary": {
           "aaxis": {
            "gridcolor": "white",
            "linecolor": "white",
            "ticks": ""
           },
           "baxis": {
            "gridcolor": "white",
            "linecolor": "white",
            "ticks": ""
           },
           "bgcolor": "#E5ECF6",
           "caxis": {
            "gridcolor": "white",
            "linecolor": "white",
            "ticks": ""
           }
          },
          "title": {
           "x": 0.05
          },
          "xaxis": {
           "automargin": true,
           "gridcolor": "white",
           "linecolor": "white",
           "ticks": "",
           "title": {
            "standoff": 15
           },
           "zerolinecolor": "white",
           "zerolinewidth": 2
          },
          "yaxis": {
           "automargin": true,
           "gridcolor": "white",
           "linecolor": "white",
           "ticks": "",
           "title": {
            "standoff": 15
           },
           "zerolinecolor": "white",
           "zerolinewidth": 2
          }
         }
        },
        "title": {
         "text": "Optimization History Plot"
        },
        "xaxis": {
         "title": {
          "text": "Trial"
         }
        },
        "yaxis": {
         "title": {
          "text": "Objective Value"
         }
        }
       }
      }
     },
     "metadata": {},
     "output_type": "display_data"
    }
   ],
   "source": [
    "# 1. Optimization History\n",
    "plot_optimization_history(study).show()\n"
   ]
  },
  {
   "cell_type": "code",
   "execution_count": 29,
   "metadata": {},
   "outputs": [
    {
     "data": {
      "application/vnd.plotly.v1+json": {
       "config": {
        "plotlyServerURL": "https://plot.ly"
       },
       "data": [
        {
         "marker": {
          "color": [
           0,
           2,
           4,
           5,
           7,
           9,
           15,
           16,
           17,
           18,
           19,
           20,
           21,
           22,
           23,
           24,
           26,
           27,
           28,
           29,
           31,
           32,
           33,
           34,
           35,
           36,
           37,
           38,
           39,
           41,
           42,
           43,
           45,
           46,
           48,
           49,
           51,
           52,
           53,
           54,
           55,
           57,
           58,
           59,
           60,
           61,
           62,
           63,
           64,
           65,
           67,
           68,
           70,
           71,
           72,
           73,
           74,
           75,
           76,
           77,
           79,
           80,
           81,
           82,
           83,
           84,
           85,
           87,
           88,
           89,
           90,
           91,
           92,
           93,
           94,
           95,
           97,
           98,
           99
          ],
          "colorbar": {
           "title": {
            "text": "Trial"
           },
           "x": 1,
           "xpad": 40
          },
          "colorscale": [
           [
            0,
            "rgb(247,251,255)"
           ],
           [
            0.125,
            "rgb(222,235,247)"
           ],
           [
            0.25,
            "rgb(198,219,239)"
           ],
           [
            0.375,
            "rgb(158,202,225)"
           ],
           [
            0.5,
            "rgb(107,174,214)"
           ],
           [
            0.625,
            "rgb(66,146,198)"
           ],
           [
            0.75,
            "rgb(33,113,181)"
           ],
           [
            0.875,
            "rgb(8,81,156)"
           ],
           [
            1,
            "rgb(8,48,107)"
           ]
          ],
          "line": {
           "color": "Grey",
           "width": 0.5
          },
          "showscale": true
         },
         "mode": "markers",
         "name": "Feasible Trial",
         "showlegend": false,
         "type": "scatter",
         "x": [
          40.77450670050751,
          0.4320802810619229,
          16.336850283928143,
          42.19750370767304,
          98.64953306919797,
          1.387605734797205,
          6.997121702515406,
          5.510128850608819,
          87.93885857166443,
          5.309996511176627,
          0.11261793481399071,
          0.1431191271942884,
          0.10260380125157481,
          0.10019509720814865,
          0.13916923967924205,
          0.35190339571295876,
          0.30387186938339156,
          0.2025181388267692,
          0.9374609600820188,
          0.7567839679239569,
          0.11910676747159027,
          0.1775375444018471,
          0.16507667707078552,
          0.10701783395585547,
          0.5263251672414803,
          0.21574807120864542,
          1.8102946215296885,
          0.264576139699142,
          0.15469296032266344,
          0.15176820480413364,
          0.15472340747444935,
          0.287275533658038,
          0.12889358448951527,
          0.5140470896286016,
          0.44781159006846677,
          0.2279866501962226,
          0.1504025285657785,
          0.13630128099045213,
          0.21133206390938442,
          0.3524944899333432,
          0.1011224421165497,
          0.1577239825720798,
          13.41265871701822,
          0.741183825045697,
          0.2545186087253415,
          0.15207086091293803,
          0.13311926724230103,
          0.18804250686627355,
          0.1016730438397754,
          0.38426399936334527,
          2.7255649547123744,
          0.13132078724608373,
          32.02024782395558,
          0.12829721841305813,
          0.17910923149381927,
          0.12559690087308945,
          0.26974597968525665,
          0.2040866420389799,
          0.16701926196218023,
          0.11986707575190839,
          0.10004348943223357,
          0.31798798468925693,
          0.15750457401993434,
          0.2277260849605308,
          0.1539651123230943,
          0.18437085191837946,
          0.12802925136569668,
          0.2596512450735401,
          0.12145125123357013,
          0.20781608345098326,
          0.14648563945255239,
          0.1424162165036368,
          0.11369278506823528,
          0.17790825335980703,
          0.10005755047022664,
          0.239243394238098,
          0.14813290973405052,
          0.31573365335212455,
          0.18657447391029397
         ],
         "xaxis": "x",
         "y": [
          0.7243947858472998,
          0.7635009310986964,
          0.7057728119180632,
          0.6927374301675977,
          0.7858472998137801,
          0.7355679702048418,
          0.7858472998137801,
          0.7858472998137801,
          0.7858472998137801,
          0.7858472998137801,
          0.7895716945996275,
          0.7895716945996275,
          0.7877094972067038,
          0.7877094972067038,
          0.7895716945996275,
          0.7318435754189944,
          0.7858472998137803,
          0.7858472998137803,
          0.7839851024208566,
          0.7337057728119181,
          0.7895716945996275,
          0.7877094972067038,
          0.7877094972067038,
          0.7877094972067038,
          0.7653631284916201,
          0.7653631284916201,
          0.7858472998137801,
          0.7858472998137803,
          0.7895716945996275,
          0.7895716945996275,
          0.7895716945996275,
          0.7635009310986964,
          0.7895716945996275,
          0.7635009310986964,
          0.7839851024208566,
          0.7169459962756052,
          0.7895716945996275,
          0.7895716945996275,
          0.7690875232774674,
          0.7839851024208566,
          0.7877094972067038,
          0.7895716945996275,
          0.7858472998137801,
          0.7411545623836125,
          0.7858472998137803,
          0.7895716945996275,
          0.7895716945996275,
          0.7858472998137803,
          0.7877094972067038,
          0.7821229050279329,
          0.7337057728119181,
          0.7895716945996275,
          0.7858472998137801,
          0.7895716945996275,
          0.7877094972067038,
          0.7895716945996275,
          0.7858472998137803,
          0.7858472998137803,
          0.7541899441340782,
          0.7895716945996275,
          0.7877094972067038,
          0.7858472998137803,
          0.7877094972067038,
          0.7858472998137803,
          0.7895716945996275,
          0.7709497206703911,
          0.707635009310987,
          0.7858472998137803,
          0.7895716945996275,
          0.7858472998137803,
          0.7895716945996275,
          0.7895716945996275,
          0.7895716945996275,
          0.7877094972067038,
          0.7094972067039106,
          0.7858472998137803,
          0.7895716945996275,
          0.7858472998137803,
          0.7709497206703911
         ],
         "yaxis": "y"
        },
        {
         "marker": {
          "color": [
           1,
           3,
           10,
           11,
           12,
           13,
           44,
           47,
           56,
           69,
           86
          ],
          "colorbar": {
           "title": {
            "text": "Trial"
           },
           "x": 1,
           "xpad": 40
          },
          "colorscale": [
           [
            0,
            "rgb(247,251,255)"
           ],
           [
            0.125,
            "rgb(222,235,247)"
           ],
           [
            0.25,
            "rgb(198,219,239)"
           ],
           [
            0.375,
            "rgb(158,202,225)"
           ],
           [
            0.5,
            "rgb(107,174,214)"
           ],
           [
            0.625,
            "rgb(66,146,198)"
           ],
           [
            0.75,
            "rgb(33,113,181)"
           ],
           [
            0.875,
            "rgb(8,81,156)"
           ],
           [
            1,
            "rgb(8,48,107)"
           ]
          ],
          "line": {
           "color": "Grey",
           "width": 0.5
          },
          "showscale": false
         },
         "mode": "markers",
         "name": "Feasible Trial",
         "showlegend": false,
         "type": "scatter",
         "x": [
          true,
          false,
          true,
          false,
          false,
          false,
          true,
          true,
          true,
          false,
          true
         ],
         "xaxis": "x2",
         "y": [
          0.7616387337057727,
          0.7672253258845437,
          0.7560521415270017,
          0.7635009310986964,
          0.7690875232774674,
          0.7746741154562384,
          0.7523277467411545,
          0.7635009310986964,
          0.7635009310986964,
          0.7672253258845437,
          0.7635009310986964
         ],
         "yaxis": "y2"
        },
        {
         "marker": {
          "color": [
           0,
           1,
           2,
           3,
           4,
           5,
           6,
           7,
           8,
           9,
           10,
           11,
           12,
           13,
           14,
           15,
           16,
           17,
           18,
           19,
           20,
           21,
           22,
           23,
           24,
           25,
           26,
           27,
           28,
           29,
           30,
           31,
           32,
           33,
           34,
           35,
           36,
           37,
           38,
           39,
           40,
           41,
           42,
           43,
           44,
           45,
           46,
           47,
           48,
           49,
           50,
           51,
           52,
           53,
           54,
           55,
           56,
           57,
           58,
           59,
           60,
           61,
           62,
           63,
           64,
           65,
           66,
           67,
           68,
           69,
           70,
           71,
           72,
           73,
           74,
           75,
           76,
           77,
           78,
           79,
           80,
           81,
           82,
           83,
           84,
           85,
           86,
           87,
           88,
           89,
           90,
           91,
           92,
           93,
           94,
           95,
           96,
           97,
           98,
           99
          ],
          "colorbar": {
           "title": {
            "text": "Trial"
           },
           "x": 1,
           "xpad": 40
          },
          "colorscale": [
           [
            0,
            "rgb(247,251,255)"
           ],
           [
            0.125,
            "rgb(222,235,247)"
           ],
           [
            0.25,
            "rgb(198,219,239)"
           ],
           [
            0.375,
            "rgb(158,202,225)"
           ],
           [
            0.5,
            "rgb(107,174,214)"
           ],
           [
            0.625,
            "rgb(66,146,198)"
           ],
           [
            0.75,
            "rgb(33,113,181)"
           ],
           [
            0.875,
            "rgb(8,81,156)"
           ],
           [
            1,
            "rgb(8,48,107)"
           ]
          ],
          "line": {
           "color": "Grey",
           "width": 0.5
          },
          "showscale": false
         },
         "mode": "markers",
         "name": "Feasible Trial",
         "showlegend": false,
         "type": "scatter",
         "x": [
          "SVM",
          "RandomForest",
          "SVM",
          "RandomForest",
          "SVM",
          "SVM",
          "GradientBoosting",
          "SVM",
          "GradientBoosting",
          "SVM",
          "RandomForest",
          "RandomForest",
          "RandomForest",
          "RandomForest",
          "GradientBoosting",
          "SVM",
          "SVM",
          "SVM",
          "SVM",
          "SVM",
          "SVM",
          "SVM",
          "SVM",
          "SVM",
          "SVM",
          "GradientBoosting",
          "SVM",
          "SVM",
          "SVM",
          "SVM",
          "GradientBoosting",
          "SVM",
          "SVM",
          "SVM",
          "SVM",
          "SVM",
          "SVM",
          "SVM",
          "SVM",
          "SVM",
          "GradientBoosting",
          "SVM",
          "SVM",
          "SVM",
          "RandomForest",
          "SVM",
          "SVM",
          "RandomForest",
          "SVM",
          "SVM",
          "GradientBoosting",
          "SVM",
          "SVM",
          "SVM",
          "SVM",
          "SVM",
          "RandomForest",
          "SVM",
          "SVM",
          "SVM",
          "SVM",
          "SVM",
          "SVM",
          "SVM",
          "SVM",
          "SVM",
          "GradientBoosting",
          "SVM",
          "SVM",
          "RandomForest",
          "SVM",
          "SVM",
          "SVM",
          "SVM",
          "SVM",
          "SVM",
          "SVM",
          "SVM",
          "GradientBoosting",
          "SVM",
          "SVM",
          "SVM",
          "SVM",
          "SVM",
          "SVM",
          "SVM",
          "RandomForest",
          "SVM",
          "SVM",
          "SVM",
          "SVM",
          "SVM",
          "SVM",
          "SVM",
          "SVM",
          "SVM",
          "GradientBoosting",
          "SVM",
          "SVM",
          "SVM"
         ],
         "xaxis": "x3",
         "y": [
          0.7243947858472998,
          0.7616387337057727,
          0.7635009310986964,
          0.7672253258845437,
          0.7057728119180632,
          0.6927374301675977,
          0.7411545623836128,
          0.7858472998137801,
          0.7299813780260708,
          0.7355679702048418,
          0.7560521415270017,
          0.7635009310986964,
          0.7690875232774674,
          0.7746741154562384,
          0.7374301675977654,
          0.7858472998137801,
          0.7858472998137801,
          0.7858472998137801,
          0.7858472998137801,
          0.7895716945996275,
          0.7895716945996275,
          0.7877094972067038,
          0.7877094972067038,
          0.7895716945996275,
          0.7318435754189944,
          0.756052141527002,
          0.7858472998137803,
          0.7858472998137803,
          0.7839851024208566,
          0.7337057728119181,
          0.7597765363128491,
          0.7895716945996275,
          0.7877094972067038,
          0.7877094972067038,
          0.7877094972067038,
          0.7653631284916201,
          0.7653631284916201,
          0.7858472998137801,
          0.7858472998137803,
          0.7895716945996275,
          0.7635009310986964,
          0.7895716945996275,
          0.7895716945996275,
          0.7635009310986964,
          0.7523277467411545,
          0.7895716945996275,
          0.7635009310986964,
          0.7635009310986964,
          0.7839851024208566,
          0.7169459962756052,
          0.750465549348231,
          0.7895716945996275,
          0.7895716945996275,
          0.7690875232774674,
          0.7839851024208566,
          0.7877094972067038,
          0.7635009310986964,
          0.7895716945996275,
          0.7858472998137801,
          0.7411545623836125,
          0.7858472998137803,
          0.7895716945996275,
          0.7895716945996275,
          0.7858472998137803,
          0.7877094972067038,
          0.7821229050279329,
          0.7374301675977654,
          0.7337057728119181,
          0.7895716945996275,
          0.7672253258845437,
          0.7858472998137801,
          0.7895716945996275,
          0.7877094972067038,
          0.7895716945996275,
          0.7858472998137803,
          0.7858472998137803,
          0.7541899441340782,
          0.7895716945996275,
          0.7392923649906891,
          0.7877094972067038,
          0.7858472998137803,
          0.7877094972067038,
          0.7858472998137803,
          0.7895716945996275,
          0.7709497206703911,
          0.707635009310987,
          0.7635009310986964,
          0.7858472998137803,
          0.7895716945996275,
          0.7858472998137803,
          0.7895716945996275,
          0.7895716945996275,
          0.7895716945996275,
          0.7877094972067038,
          0.7094972067039106,
          0.7858472998137803,
          0.750465549348231,
          0.7895716945996275,
          0.7858472998137803,
          0.7709497206703911
         ],
         "yaxis": "y3"
        },
        {
         "marker": {
          "color": [
           0,
           2,
           4,
           5,
           7,
           9,
           15,
           16,
           17,
           18,
           19,
           20,
           21,
           22,
           23,
           24,
           26,
           27,
           28,
           29,
           31,
           32,
           33,
           34,
           35,
           36,
           37,
           38,
           39,
           41,
           42,
           43,
           45,
           46,
           48,
           49,
           51,
           52,
           53,
           54,
           55,
           57,
           58,
           59,
           60,
           61,
           62,
           63,
           64,
           65,
           67,
           68,
           70,
           71,
           72,
           73,
           74,
           75,
           76,
           77,
           79,
           80,
           81,
           82,
           83,
           84,
           85,
           87,
           88,
           89,
           90,
           91,
           92,
           93,
           94,
           95,
           97,
           98,
           99
          ],
          "colorbar": {
           "title": {
            "text": "Trial"
           },
           "x": 1,
           "xpad": 40
          },
          "colorscale": [
           [
            0,
            "rgb(247,251,255)"
           ],
           [
            0.125,
            "rgb(222,235,247)"
           ],
           [
            0.25,
            "rgb(198,219,239)"
           ],
           [
            0.375,
            "rgb(158,202,225)"
           ],
           [
            0.5,
            "rgb(107,174,214)"
           ],
           [
            0.625,
            "rgb(66,146,198)"
           ],
           [
            0.75,
            "rgb(33,113,181)"
           ],
           [
            0.875,
            "rgb(8,81,156)"
           ],
           [
            1,
            "rgb(8,48,107)"
           ]
          ],
          "line": {
           "color": "Grey",
           "width": 0.5
          },
          "showscale": false
         },
         "mode": "markers",
         "name": "Feasible Trial",
         "showlegend": false,
         "type": "scatter",
         "x": [
          "scale",
          "auto",
          "scale",
          "scale",
          "auto",
          "scale",
          "auto",
          "auto",
          "auto",
          "auto",
          "auto",
          "auto",
          "auto",
          "auto",
          "auto",
          "auto",
          "auto",
          "auto",
          "auto",
          "auto",
          "auto",
          "auto",
          "auto",
          "auto",
          "auto",
          "auto",
          "auto",
          "scale",
          "auto",
          "auto",
          "auto",
          "auto",
          "auto",
          "scale",
          "auto",
          "auto",
          "auto",
          "auto",
          "scale",
          "auto",
          "auto",
          "auto",
          "scale",
          "auto",
          "auto",
          "auto",
          "auto",
          "auto",
          "auto",
          "auto",
          "auto",
          "auto",
          "auto",
          "auto",
          "auto",
          "auto",
          "auto",
          "auto",
          "auto",
          "auto",
          "scale",
          "auto",
          "auto",
          "auto",
          "auto",
          "auto",
          "auto",
          "auto",
          "auto",
          "auto",
          "auto",
          "auto",
          "auto",
          "auto",
          "scale",
          "auto",
          "auto",
          "auto",
          "auto"
         ],
         "xaxis": "x4",
         "y": [
          0.7243947858472998,
          0.7635009310986964,
          0.7057728119180632,
          0.6927374301675977,
          0.7858472998137801,
          0.7355679702048418,
          0.7858472998137801,
          0.7858472998137801,
          0.7858472998137801,
          0.7858472998137801,
          0.7895716945996275,
          0.7895716945996275,
          0.7877094972067038,
          0.7877094972067038,
          0.7895716945996275,
          0.7318435754189944,
          0.7858472998137803,
          0.7858472998137803,
          0.7839851024208566,
          0.7337057728119181,
          0.7895716945996275,
          0.7877094972067038,
          0.7877094972067038,
          0.7877094972067038,
          0.7653631284916201,
          0.7653631284916201,
          0.7858472998137801,
          0.7858472998137803,
          0.7895716945996275,
          0.7895716945996275,
          0.7895716945996275,
          0.7635009310986964,
          0.7895716945996275,
          0.7635009310986964,
          0.7839851024208566,
          0.7169459962756052,
          0.7895716945996275,
          0.7895716945996275,
          0.7690875232774674,
          0.7839851024208566,
          0.7877094972067038,
          0.7895716945996275,
          0.7858472998137801,
          0.7411545623836125,
          0.7858472998137803,
          0.7895716945996275,
          0.7895716945996275,
          0.7858472998137803,
          0.7877094972067038,
          0.7821229050279329,
          0.7337057728119181,
          0.7895716945996275,
          0.7858472998137801,
          0.7895716945996275,
          0.7877094972067038,
          0.7895716945996275,
          0.7858472998137803,
          0.7858472998137803,
          0.7541899441340782,
          0.7895716945996275,
          0.7877094972067038,
          0.7858472998137803,
          0.7877094972067038,
          0.7858472998137803,
          0.7895716945996275,
          0.7709497206703911,
          0.707635009310987,
          0.7858472998137803,
          0.7895716945996275,
          0.7858472998137803,
          0.7895716945996275,
          0.7895716945996275,
          0.7895716945996275,
          0.7877094972067038,
          0.7094972067039106,
          0.7858472998137803,
          0.7895716945996275,
          0.7858472998137803,
          0.7709497206703911
         ],
         "yaxis": "y4"
        },
        {
         "marker": {
          "color": [
           0,
           2,
           4,
           5,
           7,
           9,
           15,
           16,
           17,
           18,
           19,
           20,
           21,
           22,
           23,
           24,
           26,
           27,
           28,
           29,
           31,
           32,
           33,
           34,
           35,
           36,
           37,
           38,
           39,
           41,
           42,
           43,
           45,
           46,
           48,
           49,
           51,
           52,
           53,
           54,
           55,
           57,
           58,
           59,
           60,
           61,
           62,
           63,
           64,
           65,
           67,
           68,
           70,
           71,
           72,
           73,
           74,
           75,
           76,
           77,
           79,
           80,
           81,
           82,
           83,
           84,
           85,
           87,
           88,
           89,
           90,
           91,
           92,
           93,
           94,
           95,
           97,
           98,
           99
          ],
          "colorbar": {
           "title": {
            "text": "Trial"
           },
           "x": 1,
           "xpad": 40
          },
          "colorscale": [
           [
            0,
            "rgb(247,251,255)"
           ],
           [
            0.125,
            "rgb(222,235,247)"
           ],
           [
            0.25,
            "rgb(198,219,239)"
           ],
           [
            0.375,
            "rgb(158,202,225)"
           ],
           [
            0.5,
            "rgb(107,174,214)"
           ],
           [
            0.625,
            "rgb(66,146,198)"
           ],
           [
            0.75,
            "rgb(33,113,181)"
           ],
           [
            0.875,
            "rgb(8,81,156)"
           ],
           [
            1,
            "rgb(8,48,107)"
           ]
          ],
          "line": {
           "color": "Grey",
           "width": 0.5
          },
          "showscale": false
         },
         "mode": "markers",
         "name": "Feasible Trial",
         "showlegend": false,
         "type": "scatter",
         "x": [
          "rbf",
          "rbf",
          "poly",
          "sigmoid",
          "linear",
          "sigmoid",
          "linear",
          "linear",
          "linear",
          "linear",
          "linear",
          "linear",
          "linear",
          "linear",
          "linear",
          "poly",
          "linear",
          "linear",
          "linear",
          "poly",
          "linear",
          "linear",
          "linear",
          "linear",
          "rbf",
          "sigmoid",
          "linear",
          "linear",
          "linear",
          "linear",
          "linear",
          "rbf",
          "linear",
          "rbf",
          "linear",
          "poly",
          "linear",
          "linear",
          "sigmoid",
          "linear",
          "linear",
          "linear",
          "linear",
          "sigmoid",
          "linear",
          "linear",
          "linear",
          "linear",
          "linear",
          "linear",
          "poly",
          "linear",
          "linear",
          "linear",
          "linear",
          "linear",
          "linear",
          "linear",
          "rbf",
          "linear",
          "linear",
          "linear",
          "linear",
          "linear",
          "linear",
          "sigmoid",
          "poly",
          "linear",
          "linear",
          "linear",
          "linear",
          "linear",
          "linear",
          "linear",
          "rbf",
          "linear",
          "linear",
          "linear",
          "sigmoid"
         ],
         "xaxis": "x5",
         "y": [
          0.7243947858472998,
          0.7635009310986964,
          0.7057728119180632,
          0.6927374301675977,
          0.7858472998137801,
          0.7355679702048418,
          0.7858472998137801,
          0.7858472998137801,
          0.7858472998137801,
          0.7858472998137801,
          0.7895716945996275,
          0.7895716945996275,
          0.7877094972067038,
          0.7877094972067038,
          0.7895716945996275,
          0.7318435754189944,
          0.7858472998137803,
          0.7858472998137803,
          0.7839851024208566,
          0.7337057728119181,
          0.7895716945996275,
          0.7877094972067038,
          0.7877094972067038,
          0.7877094972067038,
          0.7653631284916201,
          0.7653631284916201,
          0.7858472998137801,
          0.7858472998137803,
          0.7895716945996275,
          0.7895716945996275,
          0.7895716945996275,
          0.7635009310986964,
          0.7895716945996275,
          0.7635009310986964,
          0.7839851024208566,
          0.7169459962756052,
          0.7895716945996275,
          0.7895716945996275,
          0.7690875232774674,
          0.7839851024208566,
          0.7877094972067038,
          0.7895716945996275,
          0.7858472998137801,
          0.7411545623836125,
          0.7858472998137803,
          0.7895716945996275,
          0.7895716945996275,
          0.7858472998137803,
          0.7877094972067038,
          0.7821229050279329,
          0.7337057728119181,
          0.7895716945996275,
          0.7858472998137801,
          0.7895716945996275,
          0.7877094972067038,
          0.7895716945996275,
          0.7858472998137803,
          0.7858472998137803,
          0.7541899441340782,
          0.7895716945996275,
          0.7877094972067038,
          0.7858472998137803,
          0.7877094972067038,
          0.7858472998137803,
          0.7895716945996275,
          0.7709497206703911,
          0.707635009310987,
          0.7858472998137803,
          0.7895716945996275,
          0.7858472998137803,
          0.7895716945996275,
          0.7895716945996275,
          0.7895716945996275,
          0.7877094972067038,
          0.7094972067039106,
          0.7858472998137803,
          0.7895716945996275,
          0.7858472998137803,
          0.7709497206703911
         ],
         "yaxis": "y5"
        },
        {
         "marker": {
          "color": [
           6,
           8,
           14,
           25,
           30,
           40,
           50,
           66,
           78,
           96
          ],
          "colorbar": {
           "title": {
            "text": "Trial"
           },
           "x": 1,
           "xpad": 40
          },
          "colorscale": [
           [
            0,
            "rgb(247,251,255)"
           ],
           [
            0.125,
            "rgb(222,235,247)"
           ],
           [
            0.25,
            "rgb(198,219,239)"
           ],
           [
            0.375,
            "rgb(158,202,225)"
           ],
           [
            0.5,
            "rgb(107,174,214)"
           ],
           [
            0.625,
            "rgb(66,146,198)"
           ],
           [
            0.75,
            "rgb(33,113,181)"
           ],
           [
            0.875,
            "rgb(8,81,156)"
           ],
           [
            1,
            "rgb(8,48,107)"
           ]
          ],
          "line": {
           "color": "Grey",
           "width": 0.5
          },
          "showscale": false
         },
         "mode": "markers",
         "name": "Feasible Trial",
         "showlegend": false,
         "type": "scatter",
         "x": [
          0.011406897731383092,
          0.24427658035642266,
          0.045575983300330136,
          0.24707963366782396,
          0.010129587104900358,
          0.058477835891622136,
          0.05369877057323649,
          0.024037575471020776,
          0.11712038090556243,
          0.12324702513833947
         ],
         "xaxis": "x6",
         "y": [
          0.7411545623836128,
          0.7299813780260708,
          0.7374301675977654,
          0.756052141527002,
          0.7597765363128491,
          0.7635009310986964,
          0.750465549348231,
          0.7374301675977654,
          0.7392923649906891,
          0.750465549348231
         ],
         "yaxis": "y6"
        },
        {
         "marker": {
          "color": [
           1,
           3,
           6,
           8,
           10,
           11,
           12,
           13,
           14,
           25,
           30,
           40,
           44,
           47,
           50,
           56,
           66,
           69,
           78,
           86,
           96
          ],
          "colorbar": {
           "title": {
            "text": "Trial"
           },
           "x": 1,
           "xpad": 40
          },
          "colorscale": [
           [
            0,
            "rgb(247,251,255)"
           ],
           [
            0.125,
            "rgb(222,235,247)"
           ],
           [
            0.25,
            "rgb(198,219,239)"
           ],
           [
            0.375,
            "rgb(158,202,225)"
           ],
           [
            0.5,
            "rgb(107,174,214)"
           ],
           [
            0.625,
            "rgb(66,146,198)"
           ],
           [
            0.75,
            "rgb(33,113,181)"
           ],
           [
            0.875,
            "rgb(8,81,156)"
           ],
           [
            1,
            "rgb(8,48,107)"
           ]
          ],
          "line": {
           "color": "Grey",
           "width": 0.5
          },
          "showscale": false
         },
         "mode": "markers",
         "name": "Feasible Trial",
         "showlegend": false,
         "type": "scatter",
         "x": [
          19,
          18,
          15,
          12,
          3,
          19,
          6,
          5,
          8,
          10,
          14,
          16,
          11,
          8,
          3,
          13,
          16,
          9,
          20,
          5,
          6
         ],
         "xaxis": "x7",
         "y": [
          0.7616387337057727,
          0.7672253258845437,
          0.7411545623836128,
          0.7299813780260708,
          0.7560521415270017,
          0.7635009310986964,
          0.7690875232774674,
          0.7746741154562384,
          0.7374301675977654,
          0.756052141527002,
          0.7597765363128491,
          0.7635009310986964,
          0.7523277467411545,
          0.7635009310986964,
          0.750465549348231,
          0.7635009310986964,
          0.7374301675977654,
          0.7672253258845437,
          0.7392923649906891,
          0.7635009310986964,
          0.750465549348231
         ],
         "yaxis": "y7"
        },
        {
         "marker": {
          "color": [
           1,
           3,
           6,
           8,
           10,
           11,
           12,
           13,
           14,
           25,
           30,
           40,
           44,
           47,
           50,
           56,
           66,
           69,
           78,
           86,
           96
          ],
          "colorbar": {
           "title": {
            "text": "Trial"
           },
           "x": 1,
           "xpad": 40
          },
          "colorscale": [
           [
            0,
            "rgb(247,251,255)"
           ],
           [
            0.125,
            "rgb(222,235,247)"
           ],
           [
            0.25,
            "rgb(198,219,239)"
           ],
           [
            0.375,
            "rgb(158,202,225)"
           ],
           [
            0.5,
            "rgb(107,174,214)"
           ],
           [
            0.625,
            "rgb(66,146,198)"
           ],
           [
            0.75,
            "rgb(33,113,181)"
           ],
           [
            0.875,
            "rgb(8,81,156)"
           ],
           [
            1,
            "rgb(8,48,107)"
           ]
          ],
          "line": {
           "color": "Grey",
           "width": 0.5
          },
          "showscale": false
         },
         "mode": "markers",
         "name": "Feasible Trial",
         "showlegend": false,
         "type": "scatter",
         "x": [
          8,
          5,
          7,
          8,
          1,
          3,
          4,
          4,
          10,
          1,
          9,
          7,
          2,
          6,
          5,
          10,
          3,
          6,
          9,
          2,
          7
         ],
         "xaxis": "x8",
         "y": [
          0.7616387337057727,
          0.7672253258845437,
          0.7411545623836128,
          0.7299813780260708,
          0.7560521415270017,
          0.7635009310986964,
          0.7690875232774674,
          0.7746741154562384,
          0.7374301675977654,
          0.756052141527002,
          0.7597765363128491,
          0.7635009310986964,
          0.7523277467411545,
          0.7635009310986964,
          0.750465549348231,
          0.7635009310986964,
          0.7374301675977654,
          0.7672253258845437,
          0.7392923649906891,
          0.7635009310986964,
          0.750465549348231
         ],
         "yaxis": "y8"
        },
        {
         "marker": {
          "color": [
           1,
           3,
           6,
           8,
           10,
           11,
           12,
           13,
           14,
           25,
           30,
           40,
           44,
           47,
           50,
           56,
           66,
           69,
           78,
           86,
           96
          ],
          "colorbar": {
           "title": {
            "text": "Trial"
           },
           "x": 1,
           "xpad": 40
          },
          "colorscale": [
           [
            0,
            "rgb(247,251,255)"
           ],
           [
            0.125,
            "rgb(222,235,247)"
           ],
           [
            0.25,
            "rgb(198,219,239)"
           ],
           [
            0.375,
            "rgb(158,202,225)"
           ],
           [
            0.5,
            "rgb(107,174,214)"
           ],
           [
            0.625,
            "rgb(66,146,198)"
           ],
           [
            0.75,
            "rgb(33,113,181)"
           ],
           [
            0.875,
            "rgb(8,81,156)"
           ],
           [
            1,
            "rgb(8,48,107)"
           ]
          ],
          "line": {
           "color": "Grey",
           "width": 0.5
          },
          "showscale": false
         },
         "mode": "markers",
         "name": "Feasible Trial",
         "showlegend": false,
         "type": "scatter",
         "x": [
          4,
          2,
          8,
          8,
          10,
          2,
          2,
          5,
          5,
          10,
          7,
          4,
          9,
          6,
          3,
          7,
          6,
          9,
          4,
          3,
          7
         ],
         "xaxis": "x9",
         "y": [
          0.7616387337057727,
          0.7672253258845437,
          0.7411545623836128,
          0.7299813780260708,
          0.7560521415270017,
          0.7635009310986964,
          0.7690875232774674,
          0.7746741154562384,
          0.7374301675977654,
          0.756052141527002,
          0.7597765363128491,
          0.7635009310986964,
          0.7523277467411545,
          0.7635009310986964,
          0.750465549348231,
          0.7635009310986964,
          0.7374301675977654,
          0.7672253258845437,
          0.7392923649906891,
          0.7635009310986964,
          0.750465549348231
         ],
         "yaxis": "y9"
        },
        {
         "marker": {
          "color": [
           1,
           3,
           6,
           8,
           10,
           11,
           12,
           13,
           14,
           25,
           30,
           40,
           44,
           47,
           50,
           56,
           66,
           69,
           78,
           86,
           96
          ],
          "colorbar": {
           "title": {
            "text": "Trial"
           },
           "x": 1,
           "xpad": 40
          },
          "colorscale": [
           [
            0,
            "rgb(247,251,255)"
           ],
           [
            0.125,
            "rgb(222,235,247)"
           ],
           [
            0.25,
            "rgb(198,219,239)"
           ],
           [
            0.375,
            "rgb(158,202,225)"
           ],
           [
            0.5,
            "rgb(107,174,214)"
           ],
           [
            0.625,
            "rgb(66,146,198)"
           ],
           [
            0.75,
            "rgb(33,113,181)"
           ],
           [
            0.875,
            "rgb(8,81,156)"
           ],
           [
            1,
            "rgb(8,48,107)"
           ]
          ],
          "line": {
           "color": "Grey",
           "width": 0.5
          },
          "showscale": false
         },
         "mode": "markers",
         "name": "Feasible Trial",
         "showlegend": false,
         "type": "scatter",
         "x": [
          178,
          133,
          54,
          152,
          298,
          127,
          234,
          271,
          298,
          61,
          216,
          78,
          198,
          93,
          246,
          104,
          178,
          261,
          149,
          200,
          274
         ],
         "xaxis": "x10",
         "y": [
          0.7616387337057727,
          0.7672253258845437,
          0.7411545623836128,
          0.7299813780260708,
          0.7560521415270017,
          0.7635009310986964,
          0.7690875232774674,
          0.7746741154562384,
          0.7374301675977654,
          0.756052141527002,
          0.7597765363128491,
          0.7635009310986964,
          0.7523277467411545,
          0.7635009310986964,
          0.750465549348231,
          0.7635009310986964,
          0.7374301675977654,
          0.7672253258845437,
          0.7392923649906891,
          0.7635009310986964,
          0.750465549348231
         ],
         "yaxis": "y10"
        }
       ],
       "layout": {
        "template": {
         "data": {
          "bar": [
           {
            "error_x": {
             "color": "#2a3f5f"
            },
            "error_y": {
             "color": "#2a3f5f"
            },
            "marker": {
             "line": {
              "color": "#E5ECF6",
              "width": 0.5
             },
             "pattern": {
              "fillmode": "overlay",
              "size": 10,
              "solidity": 0.2
             }
            },
            "type": "bar"
           }
          ],
          "barpolar": [
           {
            "marker": {
             "line": {
              "color": "#E5ECF6",
              "width": 0.5
             },
             "pattern": {
              "fillmode": "overlay",
              "size": 10,
              "solidity": 0.2
             }
            },
            "type": "barpolar"
           }
          ],
          "carpet": [
           {
            "aaxis": {
             "endlinecolor": "#2a3f5f",
             "gridcolor": "white",
             "linecolor": "white",
             "minorgridcolor": "white",
             "startlinecolor": "#2a3f5f"
            },
            "baxis": {
             "endlinecolor": "#2a3f5f",
             "gridcolor": "white",
             "linecolor": "white",
             "minorgridcolor": "white",
             "startlinecolor": "#2a3f5f"
            },
            "type": "carpet"
           }
          ],
          "choropleth": [
           {
            "colorbar": {
             "outlinewidth": 0,
             "ticks": ""
            },
            "type": "choropleth"
           }
          ],
          "contour": [
           {
            "colorbar": {
             "outlinewidth": 0,
             "ticks": ""
            },
            "colorscale": [
             [
              0,
              "#0d0887"
             ],
             [
              0.1111111111111111,
              "#46039f"
             ],
             [
              0.2222222222222222,
              "#7201a8"
             ],
             [
              0.3333333333333333,
              "#9c179e"
             ],
             [
              0.4444444444444444,
              "#bd3786"
             ],
             [
              0.5555555555555556,
              "#d8576b"
             ],
             [
              0.6666666666666666,
              "#ed7953"
             ],
             [
              0.7777777777777778,
              "#fb9f3a"
             ],
             [
              0.8888888888888888,
              "#fdca26"
             ],
             [
              1,
              "#f0f921"
             ]
            ],
            "type": "contour"
           }
          ],
          "contourcarpet": [
           {
            "colorbar": {
             "outlinewidth": 0,
             "ticks": ""
            },
            "type": "contourcarpet"
           }
          ],
          "heatmap": [
           {
            "colorbar": {
             "outlinewidth": 0,
             "ticks": ""
            },
            "colorscale": [
             [
              0,
              "#0d0887"
             ],
             [
              0.1111111111111111,
              "#46039f"
             ],
             [
              0.2222222222222222,
              "#7201a8"
             ],
             [
              0.3333333333333333,
              "#9c179e"
             ],
             [
              0.4444444444444444,
              "#bd3786"
             ],
             [
              0.5555555555555556,
              "#d8576b"
             ],
             [
              0.6666666666666666,
              "#ed7953"
             ],
             [
              0.7777777777777778,
              "#fb9f3a"
             ],
             [
              0.8888888888888888,
              "#fdca26"
             ],
             [
              1,
              "#f0f921"
             ]
            ],
            "type": "heatmap"
           }
          ],
          "histogram": [
           {
            "marker": {
             "pattern": {
              "fillmode": "overlay",
              "size": 10,
              "solidity": 0.2
             }
            },
            "type": "histogram"
           }
          ],
          "histogram2d": [
           {
            "colorbar": {
             "outlinewidth": 0,
             "ticks": ""
            },
            "colorscale": [
             [
              0,
              "#0d0887"
             ],
             [
              0.1111111111111111,
              "#46039f"
             ],
             [
              0.2222222222222222,
              "#7201a8"
             ],
             [
              0.3333333333333333,
              "#9c179e"
             ],
             [
              0.4444444444444444,
              "#bd3786"
             ],
             [
              0.5555555555555556,
              "#d8576b"
             ],
             [
              0.6666666666666666,
              "#ed7953"
             ],
             [
              0.7777777777777778,
              "#fb9f3a"
             ],
             [
              0.8888888888888888,
              "#fdca26"
             ],
             [
              1,
              "#f0f921"
             ]
            ],
            "type": "histogram2d"
           }
          ],
          "histogram2dcontour": [
           {
            "colorbar": {
             "outlinewidth": 0,
             "ticks": ""
            },
            "colorscale": [
             [
              0,
              "#0d0887"
             ],
             [
              0.1111111111111111,
              "#46039f"
             ],
             [
              0.2222222222222222,
              "#7201a8"
             ],
             [
              0.3333333333333333,
              "#9c179e"
             ],
             [
              0.4444444444444444,
              "#bd3786"
             ],
             [
              0.5555555555555556,
              "#d8576b"
             ],
             [
              0.6666666666666666,
              "#ed7953"
             ],
             [
              0.7777777777777778,
              "#fb9f3a"
             ],
             [
              0.8888888888888888,
              "#fdca26"
             ],
             [
              1,
              "#f0f921"
             ]
            ],
            "type": "histogram2dcontour"
           }
          ],
          "mesh3d": [
           {
            "colorbar": {
             "outlinewidth": 0,
             "ticks": ""
            },
            "type": "mesh3d"
           }
          ],
          "parcoords": [
           {
            "line": {
             "colorbar": {
              "outlinewidth": 0,
              "ticks": ""
             }
            },
            "type": "parcoords"
           }
          ],
          "pie": [
           {
            "automargin": true,
            "type": "pie"
           }
          ],
          "scatter": [
           {
            "fillpattern": {
             "fillmode": "overlay",
             "size": 10,
             "solidity": 0.2
            },
            "type": "scatter"
           }
          ],
          "scatter3d": [
           {
            "line": {
             "colorbar": {
              "outlinewidth": 0,
              "ticks": ""
             }
            },
            "marker": {
             "colorbar": {
              "outlinewidth": 0,
              "ticks": ""
             }
            },
            "type": "scatter3d"
           }
          ],
          "scattercarpet": [
           {
            "marker": {
             "colorbar": {
              "outlinewidth": 0,
              "ticks": ""
             }
            },
            "type": "scattercarpet"
           }
          ],
          "scattergeo": [
           {
            "marker": {
             "colorbar": {
              "outlinewidth": 0,
              "ticks": ""
             }
            },
            "type": "scattergeo"
           }
          ],
          "scattergl": [
           {
            "marker": {
             "colorbar": {
              "outlinewidth": 0,
              "ticks": ""
             }
            },
            "type": "scattergl"
           }
          ],
          "scattermap": [
           {
            "marker": {
             "colorbar": {
              "outlinewidth": 0,
              "ticks": ""
             }
            },
            "type": "scattermap"
           }
          ],
          "scattermapbox": [
           {
            "marker": {
             "colorbar": {
              "outlinewidth": 0,
              "ticks": ""
             }
            },
            "type": "scattermapbox"
           }
          ],
          "scatterpolar": [
           {
            "marker": {
             "colorbar": {
              "outlinewidth": 0,
              "ticks": ""
             }
            },
            "type": "scatterpolar"
           }
          ],
          "scatterpolargl": [
           {
            "marker": {
             "colorbar": {
              "outlinewidth": 0,
              "ticks": ""
             }
            },
            "type": "scatterpolargl"
           }
          ],
          "scatterternary": [
           {
            "marker": {
             "colorbar": {
              "outlinewidth": 0,
              "ticks": ""
             }
            },
            "type": "scatterternary"
           }
          ],
          "surface": [
           {
            "colorbar": {
             "outlinewidth": 0,
             "ticks": ""
            },
            "colorscale": [
             [
              0,
              "#0d0887"
             ],
             [
              0.1111111111111111,
              "#46039f"
             ],
             [
              0.2222222222222222,
              "#7201a8"
             ],
             [
              0.3333333333333333,
              "#9c179e"
             ],
             [
              0.4444444444444444,
              "#bd3786"
             ],
             [
              0.5555555555555556,
              "#d8576b"
             ],
             [
              0.6666666666666666,
              "#ed7953"
             ],
             [
              0.7777777777777778,
              "#fb9f3a"
             ],
             [
              0.8888888888888888,
              "#fdca26"
             ],
             [
              1,
              "#f0f921"
             ]
            ],
            "type": "surface"
           }
          ],
          "table": [
           {
            "cells": {
             "fill": {
              "color": "#EBF0F8"
             },
             "line": {
              "color": "white"
             }
            },
            "header": {
             "fill": {
              "color": "#C8D4E3"
             },
             "line": {
              "color": "white"
             }
            },
            "type": "table"
           }
          ]
         },
         "layout": {
          "annotationdefaults": {
           "arrowcolor": "#2a3f5f",
           "arrowhead": 0,
           "arrowwidth": 1
          },
          "autotypenumbers": "strict",
          "coloraxis": {
           "colorbar": {
            "outlinewidth": 0,
            "ticks": ""
           }
          },
          "colorscale": {
           "diverging": [
            [
             0,
             "#8e0152"
            ],
            [
             0.1,
             "#c51b7d"
            ],
            [
             0.2,
             "#de77ae"
            ],
            [
             0.3,
             "#f1b6da"
            ],
            [
             0.4,
             "#fde0ef"
            ],
            [
             0.5,
             "#f7f7f7"
            ],
            [
             0.6,
             "#e6f5d0"
            ],
            [
             0.7,
             "#b8e186"
            ],
            [
             0.8,
             "#7fbc41"
            ],
            [
             0.9,
             "#4d9221"
            ],
            [
             1,
             "#276419"
            ]
           ],
           "sequential": [
            [
             0,
             "#0d0887"
            ],
            [
             0.1111111111111111,
             "#46039f"
            ],
            [
             0.2222222222222222,
             "#7201a8"
            ],
            [
             0.3333333333333333,
             "#9c179e"
            ],
            [
             0.4444444444444444,
             "#bd3786"
            ],
            [
             0.5555555555555556,
             "#d8576b"
            ],
            [
             0.6666666666666666,
             "#ed7953"
            ],
            [
             0.7777777777777778,
             "#fb9f3a"
            ],
            [
             0.8888888888888888,
             "#fdca26"
            ],
            [
             1,
             "#f0f921"
            ]
           ],
           "sequentialminus": [
            [
             0,
             "#0d0887"
            ],
            [
             0.1111111111111111,
             "#46039f"
            ],
            [
             0.2222222222222222,
             "#7201a8"
            ],
            [
             0.3333333333333333,
             "#9c179e"
            ],
            [
             0.4444444444444444,
             "#bd3786"
            ],
            [
             0.5555555555555556,
             "#d8576b"
            ],
            [
             0.6666666666666666,
             "#ed7953"
            ],
            [
             0.7777777777777778,
             "#fb9f3a"
            ],
            [
             0.8888888888888888,
             "#fdca26"
            ],
            [
             1,
             "#f0f921"
            ]
           ]
          },
          "colorway": [
           "#636efa",
           "#EF553B",
           "#00cc96",
           "#ab63fa",
           "#FFA15A",
           "#19d3f3",
           "#FF6692",
           "#B6E880",
           "#FF97FF",
           "#FECB52"
          ],
          "font": {
           "color": "#2a3f5f"
          },
          "geo": {
           "bgcolor": "white",
           "lakecolor": "white",
           "landcolor": "#E5ECF6",
           "showlakes": true,
           "showland": true,
           "subunitcolor": "white"
          },
          "hoverlabel": {
           "align": "left"
          },
          "hovermode": "closest",
          "mapbox": {
           "style": "light"
          },
          "paper_bgcolor": "white",
          "plot_bgcolor": "#E5ECF6",
          "polar": {
           "angularaxis": {
            "gridcolor": "white",
            "linecolor": "white",
            "ticks": ""
           },
           "bgcolor": "#E5ECF6",
           "radialaxis": {
            "gridcolor": "white",
            "linecolor": "white",
            "ticks": ""
           }
          },
          "scene": {
           "xaxis": {
            "backgroundcolor": "#E5ECF6",
            "gridcolor": "white",
            "gridwidth": 2,
            "linecolor": "white",
            "showbackground": true,
            "ticks": "",
            "zerolinecolor": "white"
           },
           "yaxis": {
            "backgroundcolor": "#E5ECF6",
            "gridcolor": "white",
            "gridwidth": 2,
            "linecolor": "white",
            "showbackground": true,
            "ticks": "",
            "zerolinecolor": "white"
           },
           "zaxis": {
            "backgroundcolor": "#E5ECF6",
            "gridcolor": "white",
            "gridwidth": 2,
            "linecolor": "white",
            "showbackground": true,
            "ticks": "",
            "zerolinecolor": "white"
           }
          },
          "shapedefaults": {
           "line": {
            "color": "#2a3f5f"
           }
          },
          "ternary": {
           "aaxis": {
            "gridcolor": "white",
            "linecolor": "white",
            "ticks": ""
           },
           "baxis": {
            "gridcolor": "white",
            "linecolor": "white",
            "ticks": ""
           },
           "bgcolor": "#E5ECF6",
           "caxis": {
            "gridcolor": "white",
            "linecolor": "white",
            "ticks": ""
           }
          },
          "title": {
           "x": 0.05
          },
          "xaxis": {
           "automargin": true,
           "gridcolor": "white",
           "linecolor": "white",
           "ticks": "",
           "title": {
            "standoff": 15
           },
           "zerolinecolor": "white",
           "zerolinewidth": 2
          },
          "yaxis": {
           "automargin": true,
           "gridcolor": "white",
           "linecolor": "white",
           "ticks": "",
           "title": {
            "standoff": 15
           },
           "zerolinecolor": "white",
           "zerolinewidth": 2
          }
         }
        },
        "title": {
         "text": "Slice Plot"
        },
        "width": 3000,
        "xaxis": {
         "anchor": "y",
         "domain": [
          0,
          0.082
         ],
         "title": {
          "text": "C"
         },
         "type": "log"
        },
        "xaxis10": {
         "anchor": "y10",
         "domain": [
          0.9179999999999999,
          0.9999999999999999
         ],
         "title": {
          "text": "n_estimators"
         }
        },
        "xaxis2": {
         "anchor": "y2",
         "categoryarray": [
          true,
          false
         ],
         "categoryorder": "array",
         "domain": [
          0.10200000000000001,
          0.184
         ],
         "title": {
          "text": "bootstrap"
         },
         "type": "category"
        },
        "xaxis3": {
         "anchor": "y3",
         "categoryarray": [
          "SVM",
          "RandomForest",
          "GradientBoosting"
         ],
         "categoryorder": "array",
         "domain": [
          0.20400000000000001,
          0.28600000000000003
         ],
         "title": {
          "text": "classifier"
         },
         "type": "category"
        },
        "xaxis4": {
         "anchor": "y4",
         "categoryarray": [
          "scale",
          "auto"
         ],
         "categoryorder": "array",
         "domain": [
          0.306,
          0.388
         ],
         "title": {
          "text": "gamma"
         },
         "type": "category"
        },
        "xaxis5": {
         "anchor": "y5",
         "categoryarray": [
          "linear",
          "rbf",
          "poly",
          "sigmoid"
         ],
         "categoryorder": "array",
         "domain": [
          0.40800000000000003,
          0.49000000000000005
         ],
         "title": {
          "text": "kernel"
         },
         "type": "category"
        },
        "xaxis6": {
         "anchor": "y6",
         "domain": [
          0.51,
          0.592
         ],
         "title": {
          "text": "learning_rate"
         },
         "type": "log"
        },
        "xaxis7": {
         "anchor": "y7",
         "domain": [
          0.612,
          0.694
         ],
         "title": {
          "text": "max_depth"
         }
        },
        "xaxis8": {
         "anchor": "y8",
         "domain": [
          0.7140000000000001,
          0.796
         ],
         "title": {
          "text": "min_samples_leaf"
         }
        },
        "xaxis9": {
         "anchor": "y9",
         "domain": [
          0.8160000000000001,
          0.898
         ],
         "title": {
          "text": "min_samples_split"
         }
        },
        "yaxis": {
         "anchor": "x",
         "domain": [
          0,
          1
         ],
         "title": {
          "text": "Objective Value"
         }
        },
        "yaxis10": {
         "anchor": "x10",
         "domain": [
          0,
          1
         ],
         "matches": "y",
         "showticklabels": false
        },
        "yaxis2": {
         "anchor": "x2",
         "domain": [
          0,
          1
         ],
         "matches": "y",
         "showticklabels": false
        },
        "yaxis3": {
         "anchor": "x3",
         "domain": [
          0,
          1
         ],
         "matches": "y",
         "showticklabels": false
        },
        "yaxis4": {
         "anchor": "x4",
         "domain": [
          0,
          1
         ],
         "matches": "y",
         "showticklabels": false
        },
        "yaxis5": {
         "anchor": "x5",
         "domain": [
          0,
          1
         ],
         "matches": "y",
         "showticklabels": false
        },
        "yaxis6": {
         "anchor": "x6",
         "domain": [
          0,
          1
         ],
         "matches": "y",
         "showticklabels": false
        },
        "yaxis7": {
         "anchor": "x7",
         "domain": [
          0,
          1
         ],
         "matches": "y",
         "showticklabels": false
        },
        "yaxis8": {
         "anchor": "x8",
         "domain": [
          0,
          1
         ],
         "matches": "y",
         "showticklabels": false
        },
        "yaxis9": {
         "anchor": "x9",
         "domain": [
          0,
          1
         ],
         "matches": "y",
         "showticklabels": false
        }
       }
      }
     },
     "metadata": {},
     "output_type": "display_data"
    }
   ],
   "source": [
    "# 3. Slice Plot\n",
    "plot_slice(study).show()"
   ]
  },
  {
   "cell_type": "code",
   "execution_count": 30,
   "metadata": {},
   "outputs": [
    {
     "data": {
      "application/vnd.plotly.v1+json": {
       "config": {
        "plotlyServerURL": "https://plot.ly"
       },
       "data": [
        {
         "cliponaxis": false,
         "hovertemplate": [
          "classifier (CategoricalDistribution): 1.0<extra></extra>"
         ],
         "name": "Objective Value",
         "orientation": "h",
         "text": [
          "1.00"
         ],
         "textposition": "outside",
         "type": "bar",
         "x": [
          1
         ],
         "y": [
          "classifier"
         ]
        }
       ],
       "layout": {
        "template": {
         "data": {
          "bar": [
           {
            "error_x": {
             "color": "#2a3f5f"
            },
            "error_y": {
             "color": "#2a3f5f"
            },
            "marker": {
             "line": {
              "color": "#E5ECF6",
              "width": 0.5
             },
             "pattern": {
              "fillmode": "overlay",
              "size": 10,
              "solidity": 0.2
             }
            },
            "type": "bar"
           }
          ],
          "barpolar": [
           {
            "marker": {
             "line": {
              "color": "#E5ECF6",
              "width": 0.5
             },
             "pattern": {
              "fillmode": "overlay",
              "size": 10,
              "solidity": 0.2
             }
            },
            "type": "barpolar"
           }
          ],
          "carpet": [
           {
            "aaxis": {
             "endlinecolor": "#2a3f5f",
             "gridcolor": "white",
             "linecolor": "white",
             "minorgridcolor": "white",
             "startlinecolor": "#2a3f5f"
            },
            "baxis": {
             "endlinecolor": "#2a3f5f",
             "gridcolor": "white",
             "linecolor": "white",
             "minorgridcolor": "white",
             "startlinecolor": "#2a3f5f"
            },
            "type": "carpet"
           }
          ],
          "choropleth": [
           {
            "colorbar": {
             "outlinewidth": 0,
             "ticks": ""
            },
            "type": "choropleth"
           }
          ],
          "contour": [
           {
            "colorbar": {
             "outlinewidth": 0,
             "ticks": ""
            },
            "colorscale": [
             [
              0,
              "#0d0887"
             ],
             [
              0.1111111111111111,
              "#46039f"
             ],
             [
              0.2222222222222222,
              "#7201a8"
             ],
             [
              0.3333333333333333,
              "#9c179e"
             ],
             [
              0.4444444444444444,
              "#bd3786"
             ],
             [
              0.5555555555555556,
              "#d8576b"
             ],
             [
              0.6666666666666666,
              "#ed7953"
             ],
             [
              0.7777777777777778,
              "#fb9f3a"
             ],
             [
              0.8888888888888888,
              "#fdca26"
             ],
             [
              1,
              "#f0f921"
             ]
            ],
            "type": "contour"
           }
          ],
          "contourcarpet": [
           {
            "colorbar": {
             "outlinewidth": 0,
             "ticks": ""
            },
            "type": "contourcarpet"
           }
          ],
          "heatmap": [
           {
            "colorbar": {
             "outlinewidth": 0,
             "ticks": ""
            },
            "colorscale": [
             [
              0,
              "#0d0887"
             ],
             [
              0.1111111111111111,
              "#46039f"
             ],
             [
              0.2222222222222222,
              "#7201a8"
             ],
             [
              0.3333333333333333,
              "#9c179e"
             ],
             [
              0.4444444444444444,
              "#bd3786"
             ],
             [
              0.5555555555555556,
              "#d8576b"
             ],
             [
              0.6666666666666666,
              "#ed7953"
             ],
             [
              0.7777777777777778,
              "#fb9f3a"
             ],
             [
              0.8888888888888888,
              "#fdca26"
             ],
             [
              1,
              "#f0f921"
             ]
            ],
            "type": "heatmap"
           }
          ],
          "histogram": [
           {
            "marker": {
             "pattern": {
              "fillmode": "overlay",
              "size": 10,
              "solidity": 0.2
             }
            },
            "type": "histogram"
           }
          ],
          "histogram2d": [
           {
            "colorbar": {
             "outlinewidth": 0,
             "ticks": ""
            },
            "colorscale": [
             [
              0,
              "#0d0887"
             ],
             [
              0.1111111111111111,
              "#46039f"
             ],
             [
              0.2222222222222222,
              "#7201a8"
             ],
             [
              0.3333333333333333,
              "#9c179e"
             ],
             [
              0.4444444444444444,
              "#bd3786"
             ],
             [
              0.5555555555555556,
              "#d8576b"
             ],
             [
              0.6666666666666666,
              "#ed7953"
             ],
             [
              0.7777777777777778,
              "#fb9f3a"
             ],
             [
              0.8888888888888888,
              "#fdca26"
             ],
             [
              1,
              "#f0f921"
             ]
            ],
            "type": "histogram2d"
           }
          ],
          "histogram2dcontour": [
           {
            "colorbar": {
             "outlinewidth": 0,
             "ticks": ""
            },
            "colorscale": [
             [
              0,
              "#0d0887"
             ],
             [
              0.1111111111111111,
              "#46039f"
             ],
             [
              0.2222222222222222,
              "#7201a8"
             ],
             [
              0.3333333333333333,
              "#9c179e"
             ],
             [
              0.4444444444444444,
              "#bd3786"
             ],
             [
              0.5555555555555556,
              "#d8576b"
             ],
             [
              0.6666666666666666,
              "#ed7953"
             ],
             [
              0.7777777777777778,
              "#fb9f3a"
             ],
             [
              0.8888888888888888,
              "#fdca26"
             ],
             [
              1,
              "#f0f921"
             ]
            ],
            "type": "histogram2dcontour"
           }
          ],
          "mesh3d": [
           {
            "colorbar": {
             "outlinewidth": 0,
             "ticks": ""
            },
            "type": "mesh3d"
           }
          ],
          "parcoords": [
           {
            "line": {
             "colorbar": {
              "outlinewidth": 0,
              "ticks": ""
             }
            },
            "type": "parcoords"
           }
          ],
          "pie": [
           {
            "automargin": true,
            "type": "pie"
           }
          ],
          "scatter": [
           {
            "fillpattern": {
             "fillmode": "overlay",
             "size": 10,
             "solidity": 0.2
            },
            "type": "scatter"
           }
          ],
          "scatter3d": [
           {
            "line": {
             "colorbar": {
              "outlinewidth": 0,
              "ticks": ""
             }
            },
            "marker": {
             "colorbar": {
              "outlinewidth": 0,
              "ticks": ""
             }
            },
            "type": "scatter3d"
           }
          ],
          "scattercarpet": [
           {
            "marker": {
             "colorbar": {
              "outlinewidth": 0,
              "ticks": ""
             }
            },
            "type": "scattercarpet"
           }
          ],
          "scattergeo": [
           {
            "marker": {
             "colorbar": {
              "outlinewidth": 0,
              "ticks": ""
             }
            },
            "type": "scattergeo"
           }
          ],
          "scattergl": [
           {
            "marker": {
             "colorbar": {
              "outlinewidth": 0,
              "ticks": ""
             }
            },
            "type": "scattergl"
           }
          ],
          "scattermap": [
           {
            "marker": {
             "colorbar": {
              "outlinewidth": 0,
              "ticks": ""
             }
            },
            "type": "scattermap"
           }
          ],
          "scattermapbox": [
           {
            "marker": {
             "colorbar": {
              "outlinewidth": 0,
              "ticks": ""
             }
            },
            "type": "scattermapbox"
           }
          ],
          "scatterpolar": [
           {
            "marker": {
             "colorbar": {
              "outlinewidth": 0,
              "ticks": ""
             }
            },
            "type": "scatterpolar"
           }
          ],
          "scatterpolargl": [
           {
            "marker": {
             "colorbar": {
              "outlinewidth": 0,
              "ticks": ""
             }
            },
            "type": "scatterpolargl"
           }
          ],
          "scatterternary": [
           {
            "marker": {
             "colorbar": {
              "outlinewidth": 0,
              "ticks": ""
             }
            },
            "type": "scatterternary"
           }
          ],
          "surface": [
           {
            "colorbar": {
             "outlinewidth": 0,
             "ticks": ""
            },
            "colorscale": [
             [
              0,
              "#0d0887"
             ],
             [
              0.1111111111111111,
              "#46039f"
             ],
             [
              0.2222222222222222,
              "#7201a8"
             ],
             [
              0.3333333333333333,
              "#9c179e"
             ],
             [
              0.4444444444444444,
              "#bd3786"
             ],
             [
              0.5555555555555556,
              "#d8576b"
             ],
             [
              0.6666666666666666,
              "#ed7953"
             ],
             [
              0.7777777777777778,
              "#fb9f3a"
             ],
             [
              0.8888888888888888,
              "#fdca26"
             ],
             [
              1,
              "#f0f921"
             ]
            ],
            "type": "surface"
           }
          ],
          "table": [
           {
            "cells": {
             "fill": {
              "color": "#EBF0F8"
             },
             "line": {
              "color": "white"
             }
            },
            "header": {
             "fill": {
              "color": "#C8D4E3"
             },
             "line": {
              "color": "white"
             }
            },
            "type": "table"
           }
          ]
         },
         "layout": {
          "annotationdefaults": {
           "arrowcolor": "#2a3f5f",
           "arrowhead": 0,
           "arrowwidth": 1
          },
          "autotypenumbers": "strict",
          "coloraxis": {
           "colorbar": {
            "outlinewidth": 0,
            "ticks": ""
           }
          },
          "colorscale": {
           "diverging": [
            [
             0,
             "#8e0152"
            ],
            [
             0.1,
             "#c51b7d"
            ],
            [
             0.2,
             "#de77ae"
            ],
            [
             0.3,
             "#f1b6da"
            ],
            [
             0.4,
             "#fde0ef"
            ],
            [
             0.5,
             "#f7f7f7"
            ],
            [
             0.6,
             "#e6f5d0"
            ],
            [
             0.7,
             "#b8e186"
            ],
            [
             0.8,
             "#7fbc41"
            ],
            [
             0.9,
             "#4d9221"
            ],
            [
             1,
             "#276419"
            ]
           ],
           "sequential": [
            [
             0,
             "#0d0887"
            ],
            [
             0.1111111111111111,
             "#46039f"
            ],
            [
             0.2222222222222222,
             "#7201a8"
            ],
            [
             0.3333333333333333,
             "#9c179e"
            ],
            [
             0.4444444444444444,
             "#bd3786"
            ],
            [
             0.5555555555555556,
             "#d8576b"
            ],
            [
             0.6666666666666666,
             "#ed7953"
            ],
            [
             0.7777777777777778,
             "#fb9f3a"
            ],
            [
             0.8888888888888888,
             "#fdca26"
            ],
            [
             1,
             "#f0f921"
            ]
           ],
           "sequentialminus": [
            [
             0,
             "#0d0887"
            ],
            [
             0.1111111111111111,
             "#46039f"
            ],
            [
             0.2222222222222222,
             "#7201a8"
            ],
            [
             0.3333333333333333,
             "#9c179e"
            ],
            [
             0.4444444444444444,
             "#bd3786"
            ],
            [
             0.5555555555555556,
             "#d8576b"
            ],
            [
             0.6666666666666666,
             "#ed7953"
            ],
            [
             0.7777777777777778,
             "#fb9f3a"
            ],
            [
             0.8888888888888888,
             "#fdca26"
            ],
            [
             1,
             "#f0f921"
            ]
           ]
          },
          "colorway": [
           "#636efa",
           "#EF553B",
           "#00cc96",
           "#ab63fa",
           "#FFA15A",
           "#19d3f3",
           "#FF6692",
           "#B6E880",
           "#FF97FF",
           "#FECB52"
          ],
          "font": {
           "color": "#2a3f5f"
          },
          "geo": {
           "bgcolor": "white",
           "lakecolor": "white",
           "landcolor": "#E5ECF6",
           "showlakes": true,
           "showland": true,
           "subunitcolor": "white"
          },
          "hoverlabel": {
           "align": "left"
          },
          "hovermode": "closest",
          "mapbox": {
           "style": "light"
          },
          "paper_bgcolor": "white",
          "plot_bgcolor": "#E5ECF6",
          "polar": {
           "angularaxis": {
            "gridcolor": "white",
            "linecolor": "white",
            "ticks": ""
           },
           "bgcolor": "#E5ECF6",
           "radialaxis": {
            "gridcolor": "white",
            "linecolor": "white",
            "ticks": ""
           }
          },
          "scene": {
           "xaxis": {
            "backgroundcolor": "#E5ECF6",
            "gridcolor": "white",
            "gridwidth": 2,
            "linecolor": "white",
            "showbackground": true,
            "ticks": "",
            "zerolinecolor": "white"
           },
           "yaxis": {
            "backgroundcolor": "#E5ECF6",
            "gridcolor": "white",
            "gridwidth": 2,
            "linecolor": "white",
            "showbackground": true,
            "ticks": "",
            "zerolinecolor": "white"
           },
           "zaxis": {
            "backgroundcolor": "#E5ECF6",
            "gridcolor": "white",
            "gridwidth": 2,
            "linecolor": "white",
            "showbackground": true,
            "ticks": "",
            "zerolinecolor": "white"
           }
          },
          "shapedefaults": {
           "line": {
            "color": "#2a3f5f"
           }
          },
          "ternary": {
           "aaxis": {
            "gridcolor": "white",
            "linecolor": "white",
            "ticks": ""
           },
           "baxis": {
            "gridcolor": "white",
            "linecolor": "white",
            "ticks": ""
           },
           "bgcolor": "#E5ECF6",
           "caxis": {
            "gridcolor": "white",
            "linecolor": "white",
            "ticks": ""
           }
          },
          "title": {
           "x": 0.05
          },
          "xaxis": {
           "automargin": true,
           "gridcolor": "white",
           "linecolor": "white",
           "ticks": "",
           "title": {
            "standoff": 15
           },
           "zerolinecolor": "white",
           "zerolinewidth": 2
          },
          "yaxis": {
           "automargin": true,
           "gridcolor": "white",
           "linecolor": "white",
           "ticks": "",
           "title": {
            "standoff": 15
           },
           "zerolinecolor": "white",
           "zerolinewidth": 2
          }
         }
        },
        "title": {
         "text": "Hyperparameter Importances"
        },
        "xaxis": {
         "title": {
          "text": "Hyperparameter Importance"
         }
        },
        "yaxis": {
         "title": {
          "text": "Hyperparameter"
         }
        }
       }
      }
     },
     "metadata": {},
     "output_type": "display_data"
    }
   ],
   "source": [
    "# 5. Hyperparameter Importance\n",
    "plot_param_importances(study).show()"
   ]
  },
  {
   "cell_type": "code",
   "execution_count": null,
   "metadata": {},
   "outputs": [],
   "source": []
  }
 ],
 "metadata": {
  "kernelspec": {
   "display_name": ".venv",
   "language": "python",
   "name": "python3"
  },
  "language_info": {
   "codemirror_mode": {
    "name": "ipython",
    "version": 3
   },
   "file_extension": ".py",
   "mimetype": "text/x-python",
   "name": "python",
   "nbconvert_exporter": "python",
   "pygments_lexer": "ipython3",
   "version": "3.12.4"
  }
 },
 "nbformat": 4,
 "nbformat_minor": 2
}
